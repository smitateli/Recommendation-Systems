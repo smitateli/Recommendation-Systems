{
 "cells": [
  {
   "cell_type": "markdown",
   "metadata": {},
   "source": [
    "### CONTEXT: \n",
    "India is the second largest market globally for smartphones after China. About 134 million smartphones were sold across India in the year 2017 and is estimated to increase to about 442 million in 2022. India ranked second in the average time spent on mobile web by smartphone users across Asia Pacific. The combination of very high sales volumes and the average smartphone consumer behaviour has made India a very attractive market for foreign vendors. As per Consumer behaviour, 97% of consumers turn to a search engine when they are buying a product vs. 15% who turn to social media. If a seller succeeds to publish smartphones based on user’s behaviour/choice at the right place, there are 90% chances that user will enquire for the same. This Case Study is targeted to build a recommendation system based on individual consumer’s behaviour or choice."
   ]
  },
  {
   "cell_type": "markdown",
   "metadata": {},
   "source": [
    "### PROJECT OBJECTIVE: \n",
    "\n",
    "We will build a recommendation system using popularity based and collaborative filtering methods to recommend\n",
    "mobile phones to a user which are most popular and personalised respectively."
   ]
  },
  {
   "cell_type": "code",
   "execution_count": 1,
   "metadata": {},
   "outputs": [],
   "source": [
    "import pandas as pd\n",
    "import seaborn as sns\n",
    "from surprise import Dataset,Reader\n",
    "from surprise import SVD, KNNWithMeans\n",
    "from surprise import accuracy\n",
    "from surprise.model_selection import train_test_split\n",
    "from surprise.model_selection import cross_validate\n",
    "from surprise.model_selection import GridSearchCV"
   ]
  },
  {
   "cell_type": "markdown",
   "metadata": {},
   "source": [
    "### 1. Import the necessary libraries and read the provided CSVs as a data frame and perform the below steps.\n",
    "\n",
    "• Merge the provided CSVs into one data-frame.\n",
    "\n",
    "• Check a few observations and shape of the data-frame.\n",
    "\n",
    "• Round off scores to the nearest integers.\n",
    "\n",
    "• Check for missing values. Impute the missing values if there is any.\n",
    "\n",
    "• Check for duplicate values and remove them if there is any.\n",
    "\n",
    "• Keep only 1000000 data samples. Use random state=612.\n",
    "\n",
    "• Drop irrelevant features. Keep features like Author, Product, and Score"
   ]
  },
  {
   "cell_type": "code",
   "execution_count": 2,
   "metadata": {},
   "outputs": [],
   "source": [
    "# Reading all the files\n",
    "\n",
    "df1 = pd.read_csv('phone_user_review_file_1.csv', encoding = 'latin-1')\n",
    "df2 = pd.read_csv('phone_user_review_file_2.csv', encoding = 'latin-1')\n",
    "df3 = pd.read_csv('phone_user_review_file_3.csv', encoding = 'latin-1')\n",
    "df4 = pd.read_csv('phone_user_review_file_4.csv', encoding = 'latin-1')\n",
    "df5 = pd.read_csv('phone_user_review_file_5.csv', encoding = 'latin-1')\n",
    "df6 = pd.read_csv('phone_user_review_file_6.csv', encoding = 'latin-1')"
   ]
  },
  {
   "cell_type": "code",
   "execution_count": 3,
   "metadata": {},
   "outputs": [
    {
     "data": {
      "text/html": [
       "<div>\n",
       "<style scoped>\n",
       "    .dataframe tbody tr th:only-of-type {\n",
       "        vertical-align: middle;\n",
       "    }\n",
       "\n",
       "    .dataframe tbody tr th {\n",
       "        vertical-align: top;\n",
       "    }\n",
       "\n",
       "    .dataframe thead th {\n",
       "        text-align: right;\n",
       "    }\n",
       "</style>\n",
       "<table border=\"1\" class=\"dataframe\">\n",
       "  <thead>\n",
       "    <tr style=\"text-align: right;\">\n",
       "      <th></th>\n",
       "      <th>phone_url</th>\n",
       "      <th>date</th>\n",
       "      <th>lang</th>\n",
       "      <th>country</th>\n",
       "      <th>source</th>\n",
       "      <th>domain</th>\n",
       "      <th>score</th>\n",
       "      <th>score_max</th>\n",
       "      <th>extract</th>\n",
       "      <th>author</th>\n",
       "      <th>product</th>\n",
       "    </tr>\n",
       "  </thead>\n",
       "  <tbody>\n",
       "    <tr>\n",
       "      <th>0</th>\n",
       "      <td>/cellphones/samsung-galaxy-s8/</td>\n",
       "      <td>5/2/2017</td>\n",
       "      <td>en</td>\n",
       "      <td>us</td>\n",
       "      <td>Verizon Wireless</td>\n",
       "      <td>verizonwireless.com</td>\n",
       "      <td>10.0</td>\n",
       "      <td>10.0</td>\n",
       "      <td>As a diehard Samsung fan who has had every Sam...</td>\n",
       "      <td>CarolAnn35</td>\n",
       "      <td>Samsung Galaxy S8</td>\n",
       "    </tr>\n",
       "    <tr>\n",
       "      <th>1</th>\n",
       "      <td>/cellphones/samsung-galaxy-s8/</td>\n",
       "      <td>4/28/2017</td>\n",
       "      <td>en</td>\n",
       "      <td>us</td>\n",
       "      <td>Phone Arena</td>\n",
       "      <td>phonearena.com</td>\n",
       "      <td>10.0</td>\n",
       "      <td>10.0</td>\n",
       "      <td>Love the phone. the phone is sleek and smooth ...</td>\n",
       "      <td>james0923</td>\n",
       "      <td>Samsung Galaxy S8</td>\n",
       "    </tr>\n",
       "  </tbody>\n",
       "</table>\n",
       "</div>"
      ],
      "text/plain": [
       "                        phone_url       date lang country            source  \\\n",
       "0  /cellphones/samsung-galaxy-s8/   5/2/2017   en      us  Verizon Wireless   \n",
       "1  /cellphones/samsung-galaxy-s8/  4/28/2017   en      us       Phone Arena   \n",
       "\n",
       "                domain  score  score_max  \\\n",
       "0  verizonwireless.com   10.0       10.0   \n",
       "1       phonearena.com   10.0       10.0   \n",
       "\n",
       "                                             extract      author  \\\n",
       "0  As a diehard Samsung fan who has had every Sam...  CarolAnn35   \n",
       "1  Love the phone. the phone is sleek and smooth ...   james0923   \n",
       "\n",
       "             product  \n",
       "0  Samsung Galaxy S8  \n",
       "1  Samsung Galaxy S8  "
      ]
     },
     "execution_count": 3,
     "metadata": {},
     "output_type": "execute_result"
    }
   ],
   "source": [
    "df1.head(2)"
   ]
  },
  {
   "cell_type": "code",
   "execution_count": 4,
   "metadata": {},
   "outputs": [
    {
     "data": {
      "text/html": [
       "<div>\n",
       "<style scoped>\n",
       "    .dataframe tbody tr th:only-of-type {\n",
       "        vertical-align: middle;\n",
       "    }\n",
       "\n",
       "    .dataframe tbody tr th {\n",
       "        vertical-align: top;\n",
       "    }\n",
       "\n",
       "    .dataframe thead th {\n",
       "        text-align: right;\n",
       "    }\n",
       "</style>\n",
       "<table border=\"1\" class=\"dataframe\">\n",
       "  <thead>\n",
       "    <tr style=\"text-align: right;\">\n",
       "      <th></th>\n",
       "      <th>phone_url</th>\n",
       "      <th>date</th>\n",
       "      <th>lang</th>\n",
       "      <th>country</th>\n",
       "      <th>source</th>\n",
       "      <th>domain</th>\n",
       "      <th>score</th>\n",
       "      <th>score_max</th>\n",
       "      <th>extract</th>\n",
       "      <th>author</th>\n",
       "      <th>product</th>\n",
       "    </tr>\n",
       "  </thead>\n",
       "  <tbody>\n",
       "    <tr>\n",
       "      <th>0</th>\n",
       "      <td>/cellphones/leagoo-lead-7/</td>\n",
       "      <td>4/15/2015</td>\n",
       "      <td>en</td>\n",
       "      <td>us</td>\n",
       "      <td>Amazon</td>\n",
       "      <td>amazon.com</td>\n",
       "      <td>2.0</td>\n",
       "      <td>10.0</td>\n",
       "      <td>The telephone headset is of poor quality , not...</td>\n",
       "      <td>luis</td>\n",
       "      <td>Leagoo Lead7 5.0 Inch HD JDI LTPS Screen 3G Sm...</td>\n",
       "    </tr>\n",
       "    <tr>\n",
       "      <th>1</th>\n",
       "      <td>/cellphones/leagoo-lead-7/</td>\n",
       "      <td>5/23/2015</td>\n",
       "      <td>en</td>\n",
       "      <td>gb</td>\n",
       "      <td>Amazon</td>\n",
       "      <td>amazon.co.uk</td>\n",
       "      <td>10.0</td>\n",
       "      <td>10.0</td>\n",
       "      <td>This is my first smartphone so I have nothing ...</td>\n",
       "      <td>Mark Lavin</td>\n",
       "      <td>Leagoo Lead 7 Lead7 MTK6582 Quad core 1GB RAM ...</td>\n",
       "    </tr>\n",
       "  </tbody>\n",
       "</table>\n",
       "</div>"
      ],
      "text/plain": [
       "                    phone_url       date lang country  source        domain  \\\n",
       "0  /cellphones/leagoo-lead-7/  4/15/2015   en      us  Amazon    amazon.com   \n",
       "1  /cellphones/leagoo-lead-7/  5/23/2015   en      gb  Amazon  amazon.co.uk   \n",
       "\n",
       "   score  score_max                                            extract  \\\n",
       "0    2.0       10.0  The telephone headset is of poor quality , not...   \n",
       "1   10.0       10.0  This is my first smartphone so I have nothing ...   \n",
       "\n",
       "       author                                            product  \n",
       "0        luis  Leagoo Lead7 5.0 Inch HD JDI LTPS Screen 3G Sm...  \n",
       "1  Mark Lavin  Leagoo Lead 7 Lead7 MTK6582 Quad core 1GB RAM ...  "
      ]
     },
     "execution_count": 4,
     "metadata": {},
     "output_type": "execute_result"
    }
   ],
   "source": [
    "df2.head(2)"
   ]
  },
  {
   "cell_type": "code",
   "execution_count": 5,
   "metadata": {},
   "outputs": [
    {
     "data": {
      "text/html": [
       "<div>\n",
       "<style scoped>\n",
       "    .dataframe tbody tr th:only-of-type {\n",
       "        vertical-align: middle;\n",
       "    }\n",
       "\n",
       "    .dataframe tbody tr th {\n",
       "        vertical-align: top;\n",
       "    }\n",
       "\n",
       "    .dataframe thead th {\n",
       "        text-align: right;\n",
       "    }\n",
       "</style>\n",
       "<table border=\"1\" class=\"dataframe\">\n",
       "  <thead>\n",
       "    <tr style=\"text-align: right;\">\n",
       "      <th></th>\n",
       "      <th>phone_url</th>\n",
       "      <th>date</th>\n",
       "      <th>lang</th>\n",
       "      <th>country</th>\n",
       "      <th>source</th>\n",
       "      <th>domain</th>\n",
       "      <th>score</th>\n",
       "      <th>score_max</th>\n",
       "      <th>extract</th>\n",
       "      <th>author</th>\n",
       "      <th>product</th>\n",
       "    </tr>\n",
       "  </thead>\n",
       "  <tbody>\n",
       "    <tr>\n",
       "      <th>0</th>\n",
       "      <td>/cellphones/samsung-galaxy-s-iii-slim-sm-g3812/</td>\n",
       "      <td>11/7/2015</td>\n",
       "      <td>pt</td>\n",
       "      <td>br</td>\n",
       "      <td>Submarino</td>\n",
       "      <td>submarino.com.br</td>\n",
       "      <td>6.0</td>\n",
       "      <td>10.0</td>\n",
       "      <td>recomendo, eu comprei um, a um ano, e agora co...</td>\n",
       "      <td>herlington tesch</td>\n",
       "      <td>Samsung Smartphone Samsung Galaxy S3 Slim G381...</td>\n",
       "    </tr>\n",
       "    <tr>\n",
       "      <th>1</th>\n",
       "      <td>/cellphones/samsung-galaxy-s-iii-slim-sm-g3812/</td>\n",
       "      <td>10/2/2015</td>\n",
       "      <td>pt</td>\n",
       "      <td>br</td>\n",
       "      <td>Submarino</td>\n",
       "      <td>submarino.com.br</td>\n",
       "      <td>10.0</td>\n",
       "      <td>10.0</td>\n",
       "      <td>Comprei um pouco desconfiada do site e do celu...</td>\n",
       "      <td>Luisa Silva Marieta</td>\n",
       "      <td>Samsung Smartphone Samsung Galaxy S3 Slim G381...</td>\n",
       "    </tr>\n",
       "  </tbody>\n",
       "</table>\n",
       "</div>"
      ],
      "text/plain": [
       "                                         phone_url       date lang country  \\\n",
       "0  /cellphones/samsung-galaxy-s-iii-slim-sm-g3812/  11/7/2015   pt      br   \n",
       "1  /cellphones/samsung-galaxy-s-iii-slim-sm-g3812/  10/2/2015   pt      br   \n",
       "\n",
       "      source            domain  score  score_max  \\\n",
       "0  Submarino  submarino.com.br    6.0       10.0   \n",
       "1  Submarino  submarino.com.br   10.0       10.0   \n",
       "\n",
       "                                             extract               author  \\\n",
       "0  recomendo, eu comprei um, a um ano, e agora co...     herlington tesch   \n",
       "1  Comprei um pouco desconfiada do site e do celu...  Luisa Silva Marieta   \n",
       "\n",
       "                                             product  \n",
       "0  Samsung Smartphone Samsung Galaxy S3 Slim G381...  \n",
       "1  Samsung Smartphone Samsung Galaxy S3 Slim G381...  "
      ]
     },
     "execution_count": 5,
     "metadata": {},
     "output_type": "execute_result"
    }
   ],
   "source": [
    "df3.head(2)"
   ]
  },
  {
   "cell_type": "code",
   "execution_count": 6,
   "metadata": {},
   "outputs": [
    {
     "data": {
      "text/html": [
       "<div>\n",
       "<style scoped>\n",
       "    .dataframe tbody tr th:only-of-type {\n",
       "        vertical-align: middle;\n",
       "    }\n",
       "\n",
       "    .dataframe tbody tr th {\n",
       "        vertical-align: top;\n",
       "    }\n",
       "\n",
       "    .dataframe thead th {\n",
       "        text-align: right;\n",
       "    }\n",
       "</style>\n",
       "<table border=\"1\" class=\"dataframe\">\n",
       "  <thead>\n",
       "    <tr style=\"text-align: right;\">\n",
       "      <th></th>\n",
       "      <th>phone_url</th>\n",
       "      <th>date</th>\n",
       "      <th>lang</th>\n",
       "      <th>country</th>\n",
       "      <th>source</th>\n",
       "      <th>domain</th>\n",
       "      <th>score</th>\n",
       "      <th>score_max</th>\n",
       "      <th>extract</th>\n",
       "      <th>author</th>\n",
       "      <th>product</th>\n",
       "    </tr>\n",
       "  </thead>\n",
       "  <tbody>\n",
       "    <tr>\n",
       "      <th>0</th>\n",
       "      <td>/cellphones/samsung-s7262-duos-galaxy-ace/</td>\n",
       "      <td>3/11/2015</td>\n",
       "      <td>en</td>\n",
       "      <td>us</td>\n",
       "      <td>Amazon</td>\n",
       "      <td>amazon.com</td>\n",
       "      <td>2.0</td>\n",
       "      <td>10.0</td>\n",
       "      <td>was not conpatable with my phone as stated. I ...</td>\n",
       "      <td>Frances DeSimone</td>\n",
       "      <td>Samsung Galaxy Star Pro DUOS S7262 Unlocked Ce...</td>\n",
       "    </tr>\n",
       "    <tr>\n",
       "      <th>1</th>\n",
       "      <td>/cellphones/samsung-s7262-duos-galaxy-ace/</td>\n",
       "      <td>17/11/2015</td>\n",
       "      <td>en</td>\n",
       "      <td>in</td>\n",
       "      <td>Zopper</td>\n",
       "      <td>zopper.com</td>\n",
       "      <td>10.0</td>\n",
       "      <td>10.0</td>\n",
       "      <td>Decent Functions and Easy to Operate Pros:- Th...</td>\n",
       "      <td>Expert Review</td>\n",
       "      <td>Samsung Galaxy Star Pro S7262 Black</td>\n",
       "    </tr>\n",
       "  </tbody>\n",
       "</table>\n",
       "</div>"
      ],
      "text/plain": [
       "                                    phone_url        date lang country  \\\n",
       "0  /cellphones/samsung-s7262-duos-galaxy-ace/   3/11/2015   en      us   \n",
       "1  /cellphones/samsung-s7262-duos-galaxy-ace/  17/11/2015   en      in   \n",
       "\n",
       "   source      domain  score  score_max  \\\n",
       "0  Amazon  amazon.com    2.0       10.0   \n",
       "1  Zopper  zopper.com   10.0       10.0   \n",
       "\n",
       "                                             extract            author  \\\n",
       "0  was not conpatable with my phone as stated. I ...  Frances DeSimone   \n",
       "1  Decent Functions and Easy to Operate Pros:- Th...     Expert Review   \n",
       "\n",
       "                                             product  \n",
       "0  Samsung Galaxy Star Pro DUOS S7262 Unlocked Ce...  \n",
       "1                Samsung Galaxy Star Pro S7262 Black  "
      ]
     },
     "execution_count": 6,
     "metadata": {},
     "output_type": "execute_result"
    }
   ],
   "source": [
    "df4.head(2)"
   ]
  },
  {
   "cell_type": "code",
   "execution_count": 7,
   "metadata": {},
   "outputs": [
    {
     "data": {
      "text/html": [
       "<div>\n",
       "<style scoped>\n",
       "    .dataframe tbody tr th:only-of-type {\n",
       "        vertical-align: middle;\n",
       "    }\n",
       "\n",
       "    .dataframe tbody tr th {\n",
       "        vertical-align: top;\n",
       "    }\n",
       "\n",
       "    .dataframe thead th {\n",
       "        text-align: right;\n",
       "    }\n",
       "</style>\n",
       "<table border=\"1\" class=\"dataframe\">\n",
       "  <thead>\n",
       "    <tr style=\"text-align: right;\">\n",
       "      <th></th>\n",
       "      <th>phone_url</th>\n",
       "      <th>date</th>\n",
       "      <th>lang</th>\n",
       "      <th>country</th>\n",
       "      <th>source</th>\n",
       "      <th>domain</th>\n",
       "      <th>score</th>\n",
       "      <th>score_max</th>\n",
       "      <th>extract</th>\n",
       "      <th>author</th>\n",
       "      <th>product</th>\n",
       "    </tr>\n",
       "  </thead>\n",
       "  <tbody>\n",
       "    <tr>\n",
       "      <th>0</th>\n",
       "      <td>/cellphones/karbonn-k1616/</td>\n",
       "      <td>7/13/2016</td>\n",
       "      <td>en</td>\n",
       "      <td>in</td>\n",
       "      <td>91 Mobiles</td>\n",
       "      <td>91mobiles.com</td>\n",
       "      <td>2.0</td>\n",
       "      <td>10.0</td>\n",
       "      <td>I bought 1 month before. currently speaker is ...</td>\n",
       "      <td>venkatesh</td>\n",
       "      <td>Karbonn K1616</td>\n",
       "    </tr>\n",
       "    <tr>\n",
       "      <th>1</th>\n",
       "      <td>/cellphones/karbonn-k1616/</td>\n",
       "      <td>7/13/2016</td>\n",
       "      <td>en</td>\n",
       "      <td>in</td>\n",
       "      <td>91 Mobiles</td>\n",
       "      <td>91mobiles.com</td>\n",
       "      <td>6.0</td>\n",
       "      <td>10.0</td>\n",
       "      <td>I just bought one week back, I have Airtel con...</td>\n",
       "      <td>Venkat</td>\n",
       "      <td>Karbonn K1616</td>\n",
       "    </tr>\n",
       "  </tbody>\n",
       "</table>\n",
       "</div>"
      ],
      "text/plain": [
       "                    phone_url       date lang country      source  \\\n",
       "0  /cellphones/karbonn-k1616/  7/13/2016   en      in  91 Mobiles   \n",
       "1  /cellphones/karbonn-k1616/  7/13/2016   en      in  91 Mobiles   \n",
       "\n",
       "          domain  score  score_max  \\\n",
       "0  91mobiles.com    2.0       10.0   \n",
       "1  91mobiles.com    6.0       10.0   \n",
       "\n",
       "                                             extract     author        product  \n",
       "0  I bought 1 month before. currently speaker is ...  venkatesh  Karbonn K1616  \n",
       "1  I just bought one week back, I have Airtel con...     Venkat  Karbonn K1616  "
      ]
     },
     "execution_count": 7,
     "metadata": {},
     "output_type": "execute_result"
    }
   ],
   "source": [
    "df5.head(2)"
   ]
  },
  {
   "cell_type": "code",
   "execution_count": 8,
   "metadata": {},
   "outputs": [
    {
     "data": {
      "text/html": [
       "<div>\n",
       "<style scoped>\n",
       "    .dataframe tbody tr th:only-of-type {\n",
       "        vertical-align: middle;\n",
       "    }\n",
       "\n",
       "    .dataframe tbody tr th {\n",
       "        vertical-align: top;\n",
       "    }\n",
       "\n",
       "    .dataframe thead th {\n",
       "        text-align: right;\n",
       "    }\n",
       "</style>\n",
       "<table border=\"1\" class=\"dataframe\">\n",
       "  <thead>\n",
       "    <tr style=\"text-align: right;\">\n",
       "      <th></th>\n",
       "      <th>phone_url</th>\n",
       "      <th>date</th>\n",
       "      <th>lang</th>\n",
       "      <th>country</th>\n",
       "      <th>source</th>\n",
       "      <th>domain</th>\n",
       "      <th>score</th>\n",
       "      <th>score_max</th>\n",
       "      <th>extract</th>\n",
       "      <th>author</th>\n",
       "      <th>product</th>\n",
       "    </tr>\n",
       "  </thead>\n",
       "  <tbody>\n",
       "    <tr>\n",
       "      <th>0</th>\n",
       "      <td>/cellphones/samsung-instinct-sph-m800/</td>\n",
       "      <td>9/16/2011</td>\n",
       "      <td>en</td>\n",
       "      <td>us</td>\n",
       "      <td>Phone Arena</td>\n",
       "      <td>phonearena.com</td>\n",
       "      <td>8.0</td>\n",
       "      <td>10.0</td>\n",
       "      <td>I've had the phone for awhile and it's a prett...</td>\n",
       "      <td>ajabrams95</td>\n",
       "      <td>Samsung Instinct HD</td>\n",
       "    </tr>\n",
       "    <tr>\n",
       "      <th>1</th>\n",
       "      <td>/cellphones/samsung-instinct-sph-m800/</td>\n",
       "      <td>2/13/2014</td>\n",
       "      <td>en</td>\n",
       "      <td>us</td>\n",
       "      <td>Amazon</td>\n",
       "      <td>amazon.com</td>\n",
       "      <td>6.0</td>\n",
       "      <td>10.0</td>\n",
       "      <td>to be clear it is not the sellers fault that t...</td>\n",
       "      <td>Stephanie</td>\n",
       "      <td>Samsung SPH M800 Instinct</td>\n",
       "    </tr>\n",
       "  </tbody>\n",
       "</table>\n",
       "</div>"
      ],
      "text/plain": [
       "                                phone_url       date lang country  \\\n",
       "0  /cellphones/samsung-instinct-sph-m800/  9/16/2011   en      us   \n",
       "1  /cellphones/samsung-instinct-sph-m800/  2/13/2014   en      us   \n",
       "\n",
       "        source          domain  score  score_max  \\\n",
       "0  Phone Arena  phonearena.com    8.0       10.0   \n",
       "1       Amazon      amazon.com    6.0       10.0   \n",
       "\n",
       "                                             extract      author  \\\n",
       "0  I've had the phone for awhile and it's a prett...  ajabrams95   \n",
       "1  to be clear it is not the sellers fault that t...   Stephanie   \n",
       "\n",
       "                     product  \n",
       "0        Samsung Instinct HD  \n",
       "1  Samsung SPH M800 Instinct  "
      ]
     },
     "execution_count": 8,
     "metadata": {},
     "output_type": "execute_result"
    }
   ],
   "source": [
    "df6.head(2)"
   ]
  },
  {
   "cell_type": "code",
   "execution_count": 9,
   "metadata": {},
   "outputs": [
    {
     "name": "stdout",
     "output_type": "stream",
     "text": [
      "(374910, 11)\n",
      "(114925, 11)\n",
      "(312961, 11)\n",
      "(98284, 11)\n",
      "(350216, 11)\n",
      "(163837, 11)\n"
     ]
    }
   ],
   "source": [
    "print(df1.shape)\n",
    "print(df2.shape)\n",
    "print(df3.shape)\n",
    "print(df4.shape)\n",
    "print(df5.shape)\n",
    "print(df6.shape)"
   ]
  },
  {
   "cell_type": "markdown",
   "metadata": {},
   "source": [
    "All columns are equal. Let us merge all of them. and check head and shape."
   ]
  },
  {
   "cell_type": "code",
   "execution_count": 10,
   "metadata": {},
   "outputs": [],
   "source": [
    "# Let us merge all the files\n",
    "\n",
    "df = pd.concat([df1, df2, df3, df4, df5, df6], axis = 0)"
   ]
  },
  {
   "cell_type": "code",
   "execution_count": 11,
   "metadata": {},
   "outputs": [
    {
     "data": {
      "text/html": [
       "<div>\n",
       "<style scoped>\n",
       "    .dataframe tbody tr th:only-of-type {\n",
       "        vertical-align: middle;\n",
       "    }\n",
       "\n",
       "    .dataframe tbody tr th {\n",
       "        vertical-align: top;\n",
       "    }\n",
       "\n",
       "    .dataframe thead th {\n",
       "        text-align: right;\n",
       "    }\n",
       "</style>\n",
       "<table border=\"1\" class=\"dataframe\">\n",
       "  <thead>\n",
       "    <tr style=\"text-align: right;\">\n",
       "      <th></th>\n",
       "      <th>phone_url</th>\n",
       "      <th>date</th>\n",
       "      <th>lang</th>\n",
       "      <th>country</th>\n",
       "      <th>source</th>\n",
       "      <th>domain</th>\n",
       "      <th>score</th>\n",
       "      <th>score_max</th>\n",
       "      <th>extract</th>\n",
       "      <th>author</th>\n",
       "      <th>product</th>\n",
       "    </tr>\n",
       "  </thead>\n",
       "  <tbody>\n",
       "    <tr>\n",
       "      <th>0</th>\n",
       "      <td>/cellphones/samsung-galaxy-s8/</td>\n",
       "      <td>5/2/2017</td>\n",
       "      <td>en</td>\n",
       "      <td>us</td>\n",
       "      <td>Verizon Wireless</td>\n",
       "      <td>verizonwireless.com</td>\n",
       "      <td>10.0</td>\n",
       "      <td>10.0</td>\n",
       "      <td>As a diehard Samsung fan who has had every Sam...</td>\n",
       "      <td>CarolAnn35</td>\n",
       "      <td>Samsung Galaxy S8</td>\n",
       "    </tr>\n",
       "    <tr>\n",
       "      <th>1</th>\n",
       "      <td>/cellphones/samsung-galaxy-s8/</td>\n",
       "      <td>4/28/2017</td>\n",
       "      <td>en</td>\n",
       "      <td>us</td>\n",
       "      <td>Phone Arena</td>\n",
       "      <td>phonearena.com</td>\n",
       "      <td>10.0</td>\n",
       "      <td>10.0</td>\n",
       "      <td>Love the phone. the phone is sleek and smooth ...</td>\n",
       "      <td>james0923</td>\n",
       "      <td>Samsung Galaxy S8</td>\n",
       "    </tr>\n",
       "    <tr>\n",
       "      <th>2</th>\n",
       "      <td>/cellphones/samsung-galaxy-s8/</td>\n",
       "      <td>5/4/2017</td>\n",
       "      <td>en</td>\n",
       "      <td>us</td>\n",
       "      <td>Amazon</td>\n",
       "      <td>amazon.com</td>\n",
       "      <td>6.0</td>\n",
       "      <td>10.0</td>\n",
       "      <td>Adequate feel. Nice heft. Processor's still sl...</td>\n",
       "      <td>R. Craig</td>\n",
       "      <td>Samsung Galaxy S8 (64GB) G950U 5.8\" 4G LTE Unl...</td>\n",
       "    </tr>\n",
       "    <tr>\n",
       "      <th>3</th>\n",
       "      <td>/cellphones/samsung-galaxy-s8/</td>\n",
       "      <td>5/2/2017</td>\n",
       "      <td>en</td>\n",
       "      <td>us</td>\n",
       "      <td>Samsung</td>\n",
       "      <td>samsung.com</td>\n",
       "      <td>9.2</td>\n",
       "      <td>10.0</td>\n",
       "      <td>Never disappointed. One of the reasons I've be...</td>\n",
       "      <td>Buster2020</td>\n",
       "      <td>Samsung Galaxy S8 64GB (AT&amp;T)</td>\n",
       "    </tr>\n",
       "    <tr>\n",
       "      <th>4</th>\n",
       "      <td>/cellphones/samsung-galaxy-s8/</td>\n",
       "      <td>5/11/2017</td>\n",
       "      <td>en</td>\n",
       "      <td>us</td>\n",
       "      <td>Verizon Wireless</td>\n",
       "      <td>verizonwireless.com</td>\n",
       "      <td>4.0</td>\n",
       "      <td>10.0</td>\n",
       "      <td>I've now found that i'm in a group of people t...</td>\n",
       "      <td>S Ate Mine</td>\n",
       "      <td>Samsung Galaxy S8</td>\n",
       "    </tr>\n",
       "  </tbody>\n",
       "</table>\n",
       "</div>"
      ],
      "text/plain": [
       "                        phone_url       date lang country            source  \\\n",
       "0  /cellphones/samsung-galaxy-s8/   5/2/2017   en      us  Verizon Wireless   \n",
       "1  /cellphones/samsung-galaxy-s8/  4/28/2017   en      us       Phone Arena   \n",
       "2  /cellphones/samsung-galaxy-s8/   5/4/2017   en      us            Amazon   \n",
       "3  /cellphones/samsung-galaxy-s8/   5/2/2017   en      us           Samsung   \n",
       "4  /cellphones/samsung-galaxy-s8/  5/11/2017   en      us  Verizon Wireless   \n",
       "\n",
       "                domain  score  score_max  \\\n",
       "0  verizonwireless.com   10.0       10.0   \n",
       "1       phonearena.com   10.0       10.0   \n",
       "2           amazon.com    6.0       10.0   \n",
       "3          samsung.com    9.2       10.0   \n",
       "4  verizonwireless.com    4.0       10.0   \n",
       "\n",
       "                                             extract       author  \\\n",
       "0  As a diehard Samsung fan who has had every Sam...   CarolAnn35   \n",
       "1  Love the phone. the phone is sleek and smooth ...    james0923   \n",
       "2  Adequate feel. Nice heft. Processor's still sl...     R. Craig   \n",
       "3  Never disappointed. One of the reasons I've be...  Buster2020    \n",
       "4  I've now found that i'm in a group of people t...   S Ate Mine   \n",
       "\n",
       "                                             product  \n",
       "0                                  Samsung Galaxy S8  \n",
       "1                                  Samsung Galaxy S8  \n",
       "2  Samsung Galaxy S8 (64GB) G950U 5.8\" 4G LTE Unl...  \n",
       "3                      Samsung Galaxy S8 64GB (AT&T)  \n",
       "4                                  Samsung Galaxy S8  "
      ]
     },
     "execution_count": 11,
     "metadata": {},
     "output_type": "execute_result"
    }
   ],
   "source": [
    "df.head()"
   ]
  },
  {
   "cell_type": "code",
   "execution_count": 12,
   "metadata": {},
   "outputs": [
    {
     "data": {
      "text/plain": [
       "(1415133, 11)"
      ]
     },
     "execution_count": 12,
     "metadata": {},
     "output_type": "execute_result"
    }
   ],
   "source": [
    "# Checking shape of the final data\n",
    "\n",
    "df.shape"
   ]
  },
  {
   "cell_type": "code",
   "execution_count": 13,
   "metadata": {},
   "outputs": [
    {
     "name": "stdout",
     "output_type": "stream",
     "text": [
      "<class 'pandas.core.frame.DataFrame'>\n",
      "Int64Index: 1415133 entries, 0 to 163836\n",
      "Data columns (total 11 columns):\n",
      " #   Column     Non-Null Count    Dtype  \n",
      "---  ------     --------------    -----  \n",
      " 0   phone_url  1415133 non-null  object \n",
      " 1   date       1415133 non-null  object \n",
      " 2   lang       1415133 non-null  object \n",
      " 3   country    1415133 non-null  object \n",
      " 4   source     1415133 non-null  object \n",
      " 5   domain     1415133 non-null  object \n",
      " 6   score      1351644 non-null  float64\n",
      " 7   score_max  1351644 non-null  float64\n",
      " 8   extract    1395772 non-null  object \n",
      " 9   author     1351931 non-null  object \n",
      " 10  product    1415132 non-null  object \n",
      "dtypes: float64(2), object(9)\n",
      "memory usage: 129.6+ MB\n"
     ]
    }
   ],
   "source": [
    "df.info()"
   ]
  },
  {
   "cell_type": "markdown",
   "metadata": {},
   "source": [
    "Score and Score_max both columns are float64 type. We will convert them into Integer"
   ]
  },
  {
   "cell_type": "code",
   "execution_count": 14,
   "metadata": {},
   "outputs": [
    {
     "data": {
      "text/plain": [
       "phone_url        0\n",
       "date             0\n",
       "lang             0\n",
       "country          0\n",
       "source           0\n",
       "domain           0\n",
       "score        63489\n",
       "score_max    63489\n",
       "extract      19361\n",
       "author       63202\n",
       "product          1\n",
       "dtype: int64"
      ]
     },
     "execution_count": 14,
     "metadata": {},
     "output_type": "execute_result"
    }
   ],
   "source": [
    "# Let us check null values\n",
    "\n",
    "df.isnull().sum()"
   ]
  },
  {
   "cell_type": "code",
   "execution_count": 15,
   "metadata": {},
   "outputs": [],
   "source": [
    "# We will replace null values with mean.\n",
    "\n",
    "df['score'] = df['score'].fillna(df['score'].mean())\n",
    "df['score_max'] = df['score_max'].fillna(df['score_max'].mean())"
   ]
  },
  {
   "cell_type": "code",
   "execution_count": 16,
   "metadata": {},
   "outputs": [
    {
     "data": {
      "text/plain": [
       "phone_url        0\n",
       "date             0\n",
       "lang             0\n",
       "country          0\n",
       "source           0\n",
       "domain           0\n",
       "score            0\n",
       "score_max        0\n",
       "extract      19361\n",
       "author       63202\n",
       "product          1\n",
       "dtype: int64"
      ]
     },
     "execution_count": 16,
     "metadata": {},
     "output_type": "execute_result"
    }
   ],
   "source": [
    "df.isnull().sum()"
   ]
  },
  {
   "cell_type": "markdown",
   "metadata": {},
   "source": [
    "Let us keep extract null values as it is and remove it if required. We will drop null author values."
   ]
  },
  {
   "cell_type": "code",
   "execution_count": 17,
   "metadata": {},
   "outputs": [],
   "source": [
    "df = df.dropna(subset = ['author'])"
   ]
  },
  {
   "cell_type": "code",
   "execution_count": 18,
   "metadata": {},
   "outputs": [
    {
     "data": {
      "text/plain": [
       "(1351931, 11)"
      ]
     },
     "execution_count": 18,
     "metadata": {},
     "output_type": "execute_result"
    }
   ],
   "source": [
    "df.shape"
   ]
  },
  {
   "cell_type": "code",
   "execution_count": 19,
   "metadata": {},
   "outputs": [
    {
     "data": {
      "text/plain": [
       "5027"
      ]
     },
     "execution_count": 19,
     "metadata": {},
     "output_type": "execute_result"
    }
   ],
   "source": [
    "# Let us check duplicate values\n",
    "\n",
    "df.duplicated().sum()"
   ]
  },
  {
   "cell_type": "code",
   "execution_count": 20,
   "metadata": {},
   "outputs": [],
   "source": [
    "# Let us drop duplicated rows\n",
    "\n",
    "df.drop_duplicates(keep = 'first', inplace = True)"
   ]
  },
  {
   "cell_type": "code",
   "execution_count": 21,
   "metadata": {},
   "outputs": [
    {
     "data": {
      "text/plain": [
       "(1346904, 11)"
      ]
     },
     "execution_count": 21,
     "metadata": {},
     "output_type": "execute_result"
    }
   ],
   "source": [
    "df.shape"
   ]
  },
  {
   "cell_type": "code",
   "execution_count": 22,
   "metadata": {},
   "outputs": [
    {
     "data": {
      "text/plain": [
       "array([10.])"
      ]
     },
     "execution_count": 22,
     "metadata": {},
     "output_type": "execute_result"
    }
   ],
   "source": [
    "# Let us check unique value for score_max\n",
    "\n",
    "df.score_max.unique()"
   ]
  },
  {
   "cell_type": "code",
   "execution_count": 23,
   "metadata": {},
   "outputs": [],
   "source": [
    "# We will drop this column as it is not adding any value\n",
    "\n",
    "df.drop(['score_max'], axis = 1, inplace = True)"
   ]
  },
  {
   "cell_type": "code",
   "execution_count": 24,
   "metadata": {},
   "outputs": [
    {
     "data": {
      "text/html": [
       "<div>\n",
       "<style scoped>\n",
       "    .dataframe tbody tr th:only-of-type {\n",
       "        vertical-align: middle;\n",
       "    }\n",
       "\n",
       "    .dataframe tbody tr th {\n",
       "        vertical-align: top;\n",
       "    }\n",
       "\n",
       "    .dataframe thead th {\n",
       "        text-align: right;\n",
       "    }\n",
       "</style>\n",
       "<table border=\"1\" class=\"dataframe\">\n",
       "  <thead>\n",
       "    <tr style=\"text-align: right;\">\n",
       "      <th></th>\n",
       "      <th>phone_url</th>\n",
       "      <th>date</th>\n",
       "      <th>lang</th>\n",
       "      <th>country</th>\n",
       "      <th>source</th>\n",
       "      <th>domain</th>\n",
       "      <th>score</th>\n",
       "      <th>extract</th>\n",
       "      <th>author</th>\n",
       "      <th>product</th>\n",
       "    </tr>\n",
       "  </thead>\n",
       "  <tbody>\n",
       "    <tr>\n",
       "      <th>0</th>\n",
       "      <td>/cellphones/samsung-galaxy-s8/</td>\n",
       "      <td>5/2/2017</td>\n",
       "      <td>en</td>\n",
       "      <td>us</td>\n",
       "      <td>Verizon Wireless</td>\n",
       "      <td>verizonwireless.com</td>\n",
       "      <td>10.0</td>\n",
       "      <td>As a diehard Samsung fan who has had every Sam...</td>\n",
       "      <td>CarolAnn35</td>\n",
       "      <td>Samsung Galaxy S8</td>\n",
       "    </tr>\n",
       "    <tr>\n",
       "      <th>1</th>\n",
       "      <td>/cellphones/samsung-galaxy-s8/</td>\n",
       "      <td>4/28/2017</td>\n",
       "      <td>en</td>\n",
       "      <td>us</td>\n",
       "      <td>Phone Arena</td>\n",
       "      <td>phonearena.com</td>\n",
       "      <td>10.0</td>\n",
       "      <td>Love the phone. the phone is sleek and smooth ...</td>\n",
       "      <td>james0923</td>\n",
       "      <td>Samsung Galaxy S8</td>\n",
       "    </tr>\n",
       "    <tr>\n",
       "      <th>2</th>\n",
       "      <td>/cellphones/samsung-galaxy-s8/</td>\n",
       "      <td>5/4/2017</td>\n",
       "      <td>en</td>\n",
       "      <td>us</td>\n",
       "      <td>Amazon</td>\n",
       "      <td>amazon.com</td>\n",
       "      <td>6.0</td>\n",
       "      <td>Adequate feel. Nice heft. Processor's still sl...</td>\n",
       "      <td>R. Craig</td>\n",
       "      <td>Samsung Galaxy S8 (64GB) G950U 5.8\" 4G LTE Unl...</td>\n",
       "    </tr>\n",
       "    <tr>\n",
       "      <th>3</th>\n",
       "      <td>/cellphones/samsung-galaxy-s8/</td>\n",
       "      <td>5/2/2017</td>\n",
       "      <td>en</td>\n",
       "      <td>us</td>\n",
       "      <td>Samsung</td>\n",
       "      <td>samsung.com</td>\n",
       "      <td>9.2</td>\n",
       "      <td>Never disappointed. One of the reasons I've be...</td>\n",
       "      <td>Buster2020</td>\n",
       "      <td>Samsung Galaxy S8 64GB (AT&amp;T)</td>\n",
       "    </tr>\n",
       "    <tr>\n",
       "      <th>4</th>\n",
       "      <td>/cellphones/samsung-galaxy-s8/</td>\n",
       "      <td>5/11/2017</td>\n",
       "      <td>en</td>\n",
       "      <td>us</td>\n",
       "      <td>Verizon Wireless</td>\n",
       "      <td>verizonwireless.com</td>\n",
       "      <td>4.0</td>\n",
       "      <td>I've now found that i'm in a group of people t...</td>\n",
       "      <td>S Ate Mine</td>\n",
       "      <td>Samsung Galaxy S8</td>\n",
       "    </tr>\n",
       "  </tbody>\n",
       "</table>\n",
       "</div>"
      ],
      "text/plain": [
       "                        phone_url       date lang country            source  \\\n",
       "0  /cellphones/samsung-galaxy-s8/   5/2/2017   en      us  Verizon Wireless   \n",
       "1  /cellphones/samsung-galaxy-s8/  4/28/2017   en      us       Phone Arena   \n",
       "2  /cellphones/samsung-galaxy-s8/   5/4/2017   en      us            Amazon   \n",
       "3  /cellphones/samsung-galaxy-s8/   5/2/2017   en      us           Samsung   \n",
       "4  /cellphones/samsung-galaxy-s8/  5/11/2017   en      us  Verizon Wireless   \n",
       "\n",
       "                domain  score  \\\n",
       "0  verizonwireless.com   10.0   \n",
       "1       phonearena.com   10.0   \n",
       "2           amazon.com    6.0   \n",
       "3          samsung.com    9.2   \n",
       "4  verizonwireless.com    4.0   \n",
       "\n",
       "                                             extract       author  \\\n",
       "0  As a diehard Samsung fan who has had every Sam...   CarolAnn35   \n",
       "1  Love the phone. the phone is sleek and smooth ...    james0923   \n",
       "2  Adequate feel. Nice heft. Processor's still sl...     R. Craig   \n",
       "3  Never disappointed. One of the reasons I've be...  Buster2020    \n",
       "4  I've now found that i'm in a group of people t...   S Ate Mine   \n",
       "\n",
       "                                             product  \n",
       "0                                  Samsung Galaxy S8  \n",
       "1                                  Samsung Galaxy S8  \n",
       "2  Samsung Galaxy S8 (64GB) G950U 5.8\" 4G LTE Unl...  \n",
       "3                      Samsung Galaxy S8 64GB (AT&T)  \n",
       "4                                  Samsung Galaxy S8  "
      ]
     },
     "execution_count": 24,
     "metadata": {},
     "output_type": "execute_result"
    }
   ],
   "source": [
    "df.head()"
   ]
  },
  {
   "cell_type": "code",
   "execution_count": 25,
   "metadata": {},
   "outputs": [
    {
     "data": {
      "text/plain": [
       "dtype('int64')"
      ]
     },
     "execution_count": 25,
     "metadata": {},
     "output_type": "execute_result"
    }
   ],
   "source": [
    "# Let us convert score into integer\n",
    "\n",
    "df['score'] = df['score'].astype('int')\n",
    "df.score.dtype"
   ]
  },
  {
   "cell_type": "code",
   "execution_count": 26,
   "metadata": {},
   "outputs": [],
   "source": [
    "# Let us also drop phone_url as we wont need it. \n",
    "# We will drop domain as well, it is similar to source.\n",
    "# We will drop extract column as we already have score for it.\n",
    "# Let us drop date column as well. It is date of the rating.\n",
    "# Language is not important as it is in which language ratings are given.\n",
    "# Source: No need of from where we have taken data\n",
    "\n",
    "df.drop(['phone_url', 'date', 'lang', 'domain', 'extract', 'source'], axis = 1, inplace = True)"
   ]
  },
  {
   "cell_type": "code",
   "execution_count": 27,
   "metadata": {},
   "outputs": [
    {
     "data": {
      "text/plain": [
       "country    46\n",
       "score      46\n",
       "author     46\n",
       "product    46\n",
       "dtype: int64"
      ]
     },
     "execution_count": 27,
     "metadata": {},
     "output_type": "execute_result"
    }
   ],
   "source": [
    "# Let us drop rows with score of 0.\n",
    "\n",
    "df[df.score == 0].count()"
   ]
  },
  {
   "cell_type": "code",
   "execution_count": 28,
   "metadata": {},
   "outputs": [],
   "source": [
    "df = df[df.score != 0]"
   ]
  },
  {
   "cell_type": "code",
   "execution_count": 29,
   "metadata": {},
   "outputs": [
    {
     "data": {
      "text/plain": [
       "(1346858, 4)"
      ]
     },
     "execution_count": 29,
     "metadata": {},
     "output_type": "execute_result"
    }
   ],
   "source": [
    "df.shape"
   ]
  },
  {
   "cell_type": "code",
   "execution_count": 30,
   "metadata": {},
   "outputs": [
    {
     "data": {
      "text/html": [
       "<div>\n",
       "<style scoped>\n",
       "    .dataframe tbody tr th:only-of-type {\n",
       "        vertical-align: middle;\n",
       "    }\n",
       "\n",
       "    .dataframe tbody tr th {\n",
       "        vertical-align: top;\n",
       "    }\n",
       "\n",
       "    .dataframe thead th {\n",
       "        text-align: right;\n",
       "    }\n",
       "</style>\n",
       "<table border=\"1\" class=\"dataframe\">\n",
       "  <thead>\n",
       "    <tr style=\"text-align: right;\">\n",
       "      <th></th>\n",
       "      <th>country</th>\n",
       "      <th>score</th>\n",
       "      <th>author</th>\n",
       "      <th>product</th>\n",
       "    </tr>\n",
       "  </thead>\n",
       "  <tbody>\n",
       "    <tr>\n",
       "      <th>40003</th>\n",
       "      <td>de</td>\n",
       "      <td>10</td>\n",
       "      <td>einem Kunden</td>\n",
       "      <td>Apple iPhone 7 Plus 5,5\" 128 GB</td>\n",
       "    </tr>\n",
       "    <tr>\n",
       "      <th>332991</th>\n",
       "      <td>fr</td>\n",
       "      <td>8</td>\n",
       "      <td>Letophe \"letophe\"</td>\n",
       "      <td>Motorola Moto G 4G Smartphone dÃ©bloquÃ© 4G (E...</td>\n",
       "    </tr>\n",
       "    <tr>\n",
       "      <th>168694</th>\n",
       "      <td>gb</td>\n",
       "      <td>6</td>\n",
       "      <td>Vivian Neil Probert</td>\n",
       "      <td>Samsung Galaxy S4 mini i9195 Sim Free Smartpho...</td>\n",
       "    </tr>\n",
       "    <tr>\n",
       "      <th>109864</th>\n",
       "      <td>ru</td>\n",
       "      <td>10</td>\n",
       "      <td>ÐÐ»ÐµÐºÑÐµÐ¹ Ð¤Ð¾Ð¼Ð¸Ð½ÑÑ</td>\n",
       "      <td>Lenovo P780 4Gb</td>\n",
       "    </tr>\n",
       "    <tr>\n",
       "      <th>65952</th>\n",
       "      <td>it</td>\n",
       "      <td>10</td>\n",
       "      <td>StefanoB</td>\n",
       "      <td>Huawei P9 Lite Smartphone, LTE, Display 5.2'' ...</td>\n",
       "    </tr>\n",
       "  </tbody>\n",
       "</table>\n",
       "</div>"
      ],
      "text/plain": [
       "       country  score                         author  \\\n",
       "40003       de     10                   einem Kunden   \n",
       "332991      fr      8              Letophe \"letophe\"   \n",
       "168694      gb      6            Vivian Neil Probert   \n",
       "109864      ru     10  ÐÐ»ÐµÐºÑÐµÐ¹ Ð¤Ð¾Ð¼Ð¸Ð½ÑÑ\n",
       "   \n",
       "65952       it     10                       StefanoB   \n",
       "\n",
       "                                                  product  \n",
       "40003                     Apple iPhone 7 Plus 5,5\" 128 GB  \n",
       "332991  Motorola Moto G 4G Smartphone dÃ©bloquÃ© 4G (E...  \n",
       "168694  Samsung Galaxy S4 mini i9195 Sim Free Smartpho...  \n",
       "109864                                    Lenovo P780 4Gb  \n",
       "65952   Huawei P9 Lite Smartphone, LTE, Display 5.2'' ...  "
      ]
     },
     "execution_count": 30,
     "metadata": {},
     "output_type": "execute_result"
    }
   ],
   "source": [
    "# Selecting 1,00,000 data from above data\n",
    "\n",
    "df = df.sample(n = 1000000, random_state = 612)\n",
    "df.head()"
   ]
  },
  {
   "cell_type": "code",
   "execution_count": 31,
   "metadata": {},
   "outputs": [
    {
     "data": {
      "text/plain": [
       "(1000000, 4)"
      ]
     },
     "execution_count": 31,
     "metadata": {},
     "output_type": "execute_result"
    }
   ],
   "source": [
    "df.shape"
   ]
  },
  {
   "cell_type": "code",
   "execution_count": 32,
   "metadata": {},
   "outputs": [
    {
     "data": {
      "text/html": [
       "<div>\n",
       "<style scoped>\n",
       "    .dataframe tbody tr th:only-of-type {\n",
       "        vertical-align: middle;\n",
       "    }\n",
       "\n",
       "    .dataframe tbody tr th {\n",
       "        vertical-align: top;\n",
       "    }\n",
       "\n",
       "    .dataframe thead th {\n",
       "        text-align: right;\n",
       "    }\n",
       "</style>\n",
       "<table border=\"1\" class=\"dataframe\">\n",
       "  <thead>\n",
       "    <tr style=\"text-align: right;\">\n",
       "      <th></th>\n",
       "      <th>country</th>\n",
       "      <th>score</th>\n",
       "      <th>author</th>\n",
       "      <th>product</th>\n",
       "    </tr>\n",
       "  </thead>\n",
       "  <tbody>\n",
       "    <tr>\n",
       "      <th>40003</th>\n",
       "      <td>de</td>\n",
       "      <td>10</td>\n",
       "      <td>einem Kunden</td>\n",
       "      <td>Apple iPhone 7 Plus 5,5\" 128 GB</td>\n",
       "    </tr>\n",
       "    <tr>\n",
       "      <th>332991</th>\n",
       "      <td>fr</td>\n",
       "      <td>8</td>\n",
       "      <td>Letophe \"letophe\"</td>\n",
       "      <td>Motorola Moto G 4G Smartphone dÃ©bloquÃ© 4G (E...</td>\n",
       "    </tr>\n",
       "  </tbody>\n",
       "</table>\n",
       "</div>"
      ],
      "text/plain": [
       "       country  score             author  \\\n",
       "40003       de     10       einem Kunden   \n",
       "332991      fr      8  Letophe \"letophe\"   \n",
       "\n",
       "                                                  product  \n",
       "40003                     Apple iPhone 7 Plus 5,5\" 128 GB  \n",
       "332991  Motorola Moto G 4G Smartphone dÃ©bloquÃ© 4G (E...  "
      ]
     },
     "execution_count": 32,
     "metadata": {},
     "output_type": "execute_result"
    }
   ],
   "source": [
    "df.head(2)"
   ]
  },
  {
   "cell_type": "code",
   "execution_count": 33,
   "metadata": {},
   "outputs": [
    {
     "data": {
      "text/plain": [
       "array([10,  8,  6,  4,  9,  2,  7,  5,  1,  3])"
      ]
     },
     "execution_count": 33,
     "metadata": {},
     "output_type": "execute_result"
    }
   ],
   "source": [
    "# Let us check unique ratings\n",
    "\n",
    "df.score.unique()"
   ]
  },
  {
   "cell_type": "code",
   "execution_count": 34,
   "metadata": {},
   "outputs": [],
   "source": [
    "# Let us keep max 40 characters in author and product\n",
    "\n",
    "df['author'] = df['author'].map(lambda x: x[:40])\n",
    "df['product'] = df['product'].map(lambda x: x[:40])"
   ]
  },
  {
   "cell_type": "code",
   "execution_count": 35,
   "metadata": {},
   "outputs": [
    {
     "data": {
      "text/html": [
       "<div>\n",
       "<style scoped>\n",
       "    .dataframe tbody tr th:only-of-type {\n",
       "        vertical-align: middle;\n",
       "    }\n",
       "\n",
       "    .dataframe tbody tr th {\n",
       "        vertical-align: top;\n",
       "    }\n",
       "\n",
       "    .dataframe thead th {\n",
       "        text-align: right;\n",
       "    }\n",
       "</style>\n",
       "<table border=\"1\" class=\"dataframe\">\n",
       "  <thead>\n",
       "    <tr style=\"text-align: right;\">\n",
       "      <th></th>\n",
       "      <th>country</th>\n",
       "      <th>score</th>\n",
       "      <th>author</th>\n",
       "      <th>product</th>\n",
       "    </tr>\n",
       "  </thead>\n",
       "  <tbody>\n",
       "    <tr>\n",
       "      <th>40003</th>\n",
       "      <td>de</td>\n",
       "      <td>10</td>\n",
       "      <td>einem Kunden</td>\n",
       "      <td>Apple iPhone 7 Plus 5,5\" 128 GB</td>\n",
       "    </tr>\n",
       "    <tr>\n",
       "      <th>332991</th>\n",
       "      <td>fr</td>\n",
       "      <td>8</td>\n",
       "      <td>Letophe \"letophe\"</td>\n",
       "      <td>Motorola Moto G 4G Smartphone dÃ©bloquÃ©</td>\n",
       "    </tr>\n",
       "    <tr>\n",
       "      <th>168694</th>\n",
       "      <td>gb</td>\n",
       "      <td>6</td>\n",
       "      <td>Vivian Neil Probert</td>\n",
       "      <td>Samsung Galaxy S4 mini i9195 Sim Free Sm</td>\n",
       "    </tr>\n",
       "    <tr>\n",
       "      <th>109864</th>\n",
       "      <td>ru</td>\n",
       "      <td>10</td>\n",
       "      <td>ÐÐ»ÐµÐºÑÐµÐ¹ Ð¤Ð¾Ð¼Ð¸Ð½ÑÑ</td>\n",
       "      <td>Lenovo P780 4Gb</td>\n",
       "    </tr>\n",
       "    <tr>\n",
       "      <th>65952</th>\n",
       "      <td>it</td>\n",
       "      <td>10</td>\n",
       "      <td>StefanoB</td>\n",
       "      <td>Huawei P9 Lite Smartphone, LTE, Display</td>\n",
       "    </tr>\n",
       "  </tbody>\n",
       "</table>\n",
       "</div>"
      ],
      "text/plain": [
       "       country  score                         author  \\\n",
       "40003       de     10                   einem Kunden   \n",
       "332991      fr      8              Letophe \"letophe\"   \n",
       "168694      gb      6            Vivian Neil Probert   \n",
       "109864      ru     10  ÐÐ»ÐµÐºÑÐµÐ¹ Ð¤Ð¾Ð¼Ð¸Ð½ÑÑ\n",
       "   \n",
       "65952       it     10                       StefanoB   \n",
       "\n",
       "                                         product  \n",
       "40003            Apple iPhone 7 Plus 5,5\" 128 GB  \n",
       "332991  Motorola Moto G 4G Smartphone dÃ©bloquÃ©  \n",
       "168694  Samsung Galaxy S4 mini i9195 Sim Free Sm  \n",
       "109864                           Lenovo P780 4Gb  \n",
       "65952   Huawei P9 Lite Smartphone, LTE, Display   "
      ]
     },
     "execution_count": 35,
     "metadata": {},
     "output_type": "execute_result"
    }
   ],
   "source": [
    "df.head()"
   ]
  },
  {
   "cell_type": "markdown",
   "metadata": {},
   "source": [
    "### 2. Answer the following questions\n",
    "\n",
    "• Identify the most rated features.\n",
    "\n",
    "• Identify the users with most number of reviews.\n",
    "\n",
    "• Select the data with products having more than 50 ratings and users who have given more than 50 ratings. Report the shape of the final dataset."
   ]
  },
  {
   "cell_type": "code",
   "execution_count": 36,
   "metadata": {},
   "outputs": [
    {
     "data": {
      "text/plain": [
       "product\n",
       "HTC One 32 GB Zwart QWERTY Sim Free         10.0\n",
       "Samsung Galaxy S8 SM-G950F Noir Carbone     10.0\n",
       "Samsung Galaxy S8 Plus - Smartphone libr    10.0\n",
       "HTC Desire X T-Mobile-Edition ohne Vertr    10.0\n",
       "Samsung Galaxy S8 64GB Sort                 10.0\n",
       "Name: score, dtype: float64"
      ]
     },
     "execution_count": 36,
     "metadata": {},
     "output_type": "execute_result"
    }
   ],
   "source": [
    "# Identify the most rated features.\n",
    "\n",
    "df.groupby('product')['score'].mean().sort_values(ascending = False).head()"
   ]
  },
  {
   "cell_type": "code",
   "execution_count": 37,
   "metadata": {},
   "outputs": [
    {
     "data": {
      "text/plain": [
       "Amazon Customer    57333\n",
       "Cliente Amazon     14404\n",
       "e-bit               6218\n",
       "Client d'Amazon     5732\n",
       "Amazon Kunde        3585\n",
       "Anonymous           2049\n",
       "einer Kundin        1901\n",
       "einem Kunden        1433\n",
       "unknown             1279\n",
       "Anonymous           1083\n",
       "Name: author, dtype: int64"
      ]
     },
     "execution_count": 37,
     "metadata": {},
     "output_type": "execute_result"
    }
   ],
   "source": [
    "# Identify the users with most number of reviews.\n",
    "\n",
    "df['author'].value_counts().head(10)"
   ]
  },
  {
   "cell_type": "markdown",
   "metadata": {},
   "source": [
    "These are top 10 users with more number of reviews. But we can see most of them are unknown or not provided their names and added some other information."
   ]
  },
  {
   "cell_type": "code",
   "execution_count": 38,
   "metadata": {},
   "outputs": [
    {
     "data": {
      "text/html": [
       "<div>\n",
       "<style scoped>\n",
       "    .dataframe tbody tr th:only-of-type {\n",
       "        vertical-align: middle;\n",
       "    }\n",
       "\n",
       "    .dataframe tbody tr th {\n",
       "        vertical-align: top;\n",
       "    }\n",
       "\n",
       "    .dataframe thead th {\n",
       "        text-align: right;\n",
       "    }\n",
       "</style>\n",
       "<table border=\"1\" class=\"dataframe\">\n",
       "  <thead>\n",
       "    <tr style=\"text-align: right;\">\n",
       "      <th></th>\n",
       "      <th>index</th>\n",
       "      <th>author</th>\n",
       "    </tr>\n",
       "  </thead>\n",
       "  <tbody>\n",
       "    <tr>\n",
       "      <th>677</th>\n",
       "      <td>Flype (Felipe)</td>\n",
       "      <td>51</td>\n",
       "    </tr>\n",
       "    <tr>\n",
       "      <th>678</th>\n",
       "      <td>Victoria</td>\n",
       "      <td>51</td>\n",
       "    </tr>\n",
       "    <tr>\n",
       "      <th>679</th>\n",
       "      <td>Nathan</td>\n",
       "      <td>51</td>\n",
       "    </tr>\n",
       "    <tr>\n",
       "      <th>680</th>\n",
       "      <td>Rodrigo</td>\n",
       "      <td>51</td>\n",
       "    </tr>\n",
       "    <tr>\n",
       "      <th>681</th>\n",
       "      <td>sumeyyehavvaay</td>\n",
       "      <td>51</td>\n",
       "    </tr>\n",
       "  </tbody>\n",
       "</table>\n",
       "</div>"
      ],
      "text/plain": [
       "              index  author\n",
       "677  Flype (Felipe)      51\n",
       "678        Victoria      51\n",
       "679          Nathan      51\n",
       "680         Rodrigo      51\n",
       "681  sumeyyehavvaay      51"
      ]
     },
     "execution_count": 38,
     "metadata": {},
     "output_type": "execute_result"
    }
   ],
   "source": [
    "# Select the data with products having more than 50 ratings and users who have given more than 50 ratings. \n",
    "# Report the shape of the final dataset.\n",
    "\n",
    "# Let us get data of authors who have given more than 50 ratings\n",
    "\n",
    "data_author = pd.DataFrame(df['author'].value_counts())\n",
    "data_author = data_author[data_author.author > 50]\n",
    "data_author.reset_index(inplace = True)\n",
    "data_author.tail()"
   ]
  },
  {
   "cell_type": "code",
   "execution_count": 39,
   "metadata": {},
   "outputs": [
    {
     "data": {
      "text/html": [
       "<div>\n",
       "<style scoped>\n",
       "    .dataframe tbody tr th:only-of-type {\n",
       "        vertical-align: middle;\n",
       "    }\n",
       "\n",
       "    .dataframe tbody tr th {\n",
       "        vertical-align: top;\n",
       "    }\n",
       "\n",
       "    .dataframe thead th {\n",
       "        text-align: right;\n",
       "    }\n",
       "</style>\n",
       "<table border=\"1\" class=\"dataframe\">\n",
       "  <thead>\n",
       "    <tr style=\"text-align: right;\">\n",
       "      <th></th>\n",
       "      <th>index</th>\n",
       "      <th>product</th>\n",
       "    </tr>\n",
       "  </thead>\n",
       "  <tbody>\n",
       "    <tr>\n",
       "      <th>4622</th>\n",
       "      <td>Samsung Magnet SGH-A177</td>\n",
       "      <td>51</td>\n",
       "    </tr>\n",
       "    <tr>\n",
       "      <th>4623</th>\n",
       "      <td>Sony Xperia Z5 Premium chroom / 32 GB -</td>\n",
       "      <td>51</td>\n",
       "    </tr>\n",
       "    <tr>\n",
       "      <th>4624</th>\n",
       "      <td>Hyperion EA Samsung Fascinate No Contrac</td>\n",
       "      <td>51</td>\n",
       "    </tr>\n",
       "    <tr>\n",
       "      <th>4625</th>\n",
       "      <td>Nokia 2220</td>\n",
       "      <td>51</td>\n",
       "    </tr>\n",
       "    <tr>\n",
       "      <th>4626</th>\n",
       "      <td>Sony Xperia M2 Smartphone (4,8 Zoll (12,</td>\n",
       "      <td>51</td>\n",
       "    </tr>\n",
       "  </tbody>\n",
       "</table>\n",
       "</div>"
      ],
      "text/plain": [
       "                                         index  product\n",
       "4622                   Samsung Magnet SGH-A177       51\n",
       "4623  Sony Xperia Z5 Premium chroom / 32 GB -        51\n",
       "4624  Hyperion EA Samsung Fascinate No Contrac       51\n",
       "4625                                Nokia 2220       51\n",
       "4626  Sony Xperia M2 Smartphone (4,8 Zoll (12,       51"
      ]
     },
     "execution_count": 39,
     "metadata": {},
     "output_type": "execute_result"
    }
   ],
   "source": [
    "# Let us get data of products which has more than 50 ratings\n",
    "\n",
    "data_product = pd.DataFrame(df['product'].value_counts())\n",
    "data_product = data_product[data_product['product'] > 50]\n",
    "data_product.reset_index(inplace = True)\n",
    "data_product.tail()"
   ]
  },
  {
   "cell_type": "code",
   "execution_count": 40,
   "metadata": {},
   "outputs": [
    {
     "data": {
      "text/html": [
       "<div>\n",
       "<style scoped>\n",
       "    .dataframe tbody tr th:only-of-type {\n",
       "        vertical-align: middle;\n",
       "    }\n",
       "\n",
       "    .dataframe tbody tr th {\n",
       "        vertical-align: top;\n",
       "    }\n",
       "\n",
       "    .dataframe thead th {\n",
       "        text-align: right;\n",
       "    }\n",
       "</style>\n",
       "<table border=\"1\" class=\"dataframe\">\n",
       "  <thead>\n",
       "    <tr style=\"text-align: right;\">\n",
       "      <th></th>\n",
       "      <th>country</th>\n",
       "      <th>score</th>\n",
       "      <th>author</th>\n",
       "      <th>product</th>\n",
       "    </tr>\n",
       "  </thead>\n",
       "  <tbody>\n",
       "    <tr>\n",
       "      <th>40003</th>\n",
       "      <td>de</td>\n",
       "      <td>10</td>\n",
       "      <td>einem Kunden</td>\n",
       "      <td>Apple iPhone 7 Plus 5,5\" 128 GB</td>\n",
       "    </tr>\n",
       "    <tr>\n",
       "      <th>88099</th>\n",
       "      <td>gb</td>\n",
       "      <td>10</td>\n",
       "      <td>Amazon Customer</td>\n",
       "      <td>Sony Xperia Z1 SIM-Free Smartphone - Pur</td>\n",
       "    </tr>\n",
       "    <tr>\n",
       "      <th>37841</th>\n",
       "      <td>us</td>\n",
       "      <td>10</td>\n",
       "      <td>Steve</td>\n",
       "      <td>Samsung Gusto 2 SCH-U365 Flip Phone (Ver</td>\n",
       "    </tr>\n",
       "    <tr>\n",
       "      <th>15949</th>\n",
       "      <td>nl</td>\n",
       "      <td>10</td>\n",
       "      <td>unknown</td>\n",
       "      <td>Samsung Samsung Galaxy A5 2016 - Wit</td>\n",
       "    </tr>\n",
       "    <tr>\n",
       "      <th>127737</th>\n",
       "      <td>us</td>\n",
       "      <td>6</td>\n",
       "      <td>Aditya</td>\n",
       "      <td>HP IPAQ 500</td>\n",
       "    </tr>\n",
       "  </tbody>\n",
       "</table>\n",
       "</div>"
      ],
      "text/plain": [
       "       country  score           author  \\\n",
       "40003       de     10     einem Kunden   \n",
       "88099       gb     10  Amazon Customer   \n",
       "37841       us     10            Steve   \n",
       "15949       nl     10          unknown   \n",
       "127737      us      6           Aditya   \n",
       "\n",
       "                                         product  \n",
       "40003            Apple iPhone 7 Plus 5,5\" 128 GB  \n",
       "88099   Sony Xperia Z1 SIM-Free Smartphone - Pur  \n",
       "37841   Samsung Gusto 2 SCH-U365 Flip Phone (Ver  \n",
       "15949       Samsung Samsung Galaxy A5 2016 - Wit  \n",
       "127737                               HP IPAQ 500  "
      ]
     },
     "execution_count": 40,
     "metadata": {},
     "output_type": "execute_result"
    }
   ],
   "source": [
    "# Taking only data in which author has given more than 50 ratings\n",
    "\n",
    "data = df[df['author'].isin(data_author['index'])]\n",
    "data.head()"
   ]
  },
  {
   "cell_type": "code",
   "execution_count": 41,
   "metadata": {},
   "outputs": [
    {
     "data": {
      "text/html": [
       "<div>\n",
       "<style scoped>\n",
       "    .dataframe tbody tr th:only-of-type {\n",
       "        vertical-align: middle;\n",
       "    }\n",
       "\n",
       "    .dataframe tbody tr th {\n",
       "        vertical-align: top;\n",
       "    }\n",
       "\n",
       "    .dataframe thead th {\n",
       "        text-align: right;\n",
       "    }\n",
       "</style>\n",
       "<table border=\"1\" class=\"dataframe\">\n",
       "  <thead>\n",
       "    <tr style=\"text-align: right;\">\n",
       "      <th></th>\n",
       "      <th>country</th>\n",
       "      <th>score</th>\n",
       "      <th>author</th>\n",
       "      <th>product</th>\n",
       "    </tr>\n",
       "  </thead>\n",
       "  <tbody>\n",
       "    <tr>\n",
       "      <th>40003</th>\n",
       "      <td>de</td>\n",
       "      <td>10</td>\n",
       "      <td>einem Kunden</td>\n",
       "      <td>Apple iPhone 7 Plus 5,5\" 128 GB</td>\n",
       "    </tr>\n",
       "    <tr>\n",
       "      <th>37841</th>\n",
       "      <td>us</td>\n",
       "      <td>10</td>\n",
       "      <td>Steve</td>\n",
       "      <td>Samsung Gusto 2 SCH-U365 Flip Phone (Ver</td>\n",
       "    </tr>\n",
       "    <tr>\n",
       "      <th>15949</th>\n",
       "      <td>nl</td>\n",
       "      <td>10</td>\n",
       "      <td>unknown</td>\n",
       "      <td>Samsung Samsung Galaxy A5 2016 - Wit</td>\n",
       "    </tr>\n",
       "    <tr>\n",
       "      <th>9745</th>\n",
       "      <td>gb</td>\n",
       "      <td>10</td>\n",
       "      <td>Amazon Customer</td>\n",
       "      <td>Samsung Galaxy S7 Edge 32GB UK SIM-Free</td>\n",
       "    </tr>\n",
       "    <tr>\n",
       "      <th>309352</th>\n",
       "      <td>tr</td>\n",
       "      <td>8</td>\n",
       "      <td>Capyto</td>\n",
       "      <td>Samsung U800 Cep Telefonu</td>\n",
       "    </tr>\n",
       "  </tbody>\n",
       "</table>\n",
       "</div>"
      ],
      "text/plain": [
       "       country  score           author  \\\n",
       "40003       de     10     einem Kunden   \n",
       "37841       us     10            Steve   \n",
       "15949       nl     10          unknown   \n",
       "9745        gb     10  Amazon Customer   \n",
       "309352      tr      8           Capyto   \n",
       "\n",
       "                                         product  \n",
       "40003            Apple iPhone 7 Plus 5,5\" 128 GB  \n",
       "37841   Samsung Gusto 2 SCH-U365 Flip Phone (Ver  \n",
       "15949       Samsung Samsung Galaxy A5 2016 - Wit  \n",
       "9745    Samsung Galaxy S7 Edge 32GB UK SIM-Free   \n",
       "309352                 Samsung U800 Cep Telefonu  "
      ]
     },
     "execution_count": 41,
     "metadata": {},
     "output_type": "execute_result"
    }
   ],
   "source": [
    "# Taking only data in which product has more than 50 ratings\n",
    "# from above data frame with customers who have give more than 50 ratings.\n",
    "\n",
    "data = data[data['product'].isin(data_product['index'])]\n",
    "\n",
    "data.head()"
   ]
  },
  {
   "cell_type": "code",
   "execution_count": 42,
   "metadata": {},
   "outputs": [
    {
     "data": {
      "text/plain": [
       "(119834, 4)"
      ]
     },
     "execution_count": 42,
     "metadata": {},
     "output_type": "execute_result"
    }
   ],
   "source": [
    "data.shape"
   ]
  },
  {
   "cell_type": "markdown",
   "metadata": {},
   "source": [
    "Total 119834 rows are there with products having more than 50 ratings and users with more than 50 reviews."
   ]
  },
  {
   "cell_type": "markdown",
   "metadata": {},
   "source": [
    "### 3. Build a popularity based model and recommend top 5 mobile phones."
   ]
  },
  {
   "cell_type": "code",
   "execution_count": 43,
   "metadata": {},
   "outputs": [
    {
     "data": {
      "text/html": [
       "<div>\n",
       "<style scoped>\n",
       "    .dataframe tbody tr th:only-of-type {\n",
       "        vertical-align: middle;\n",
       "    }\n",
       "\n",
       "    .dataframe tbody tr th {\n",
       "        vertical-align: top;\n",
       "    }\n",
       "\n",
       "    .dataframe thead th {\n",
       "        text-align: right;\n",
       "    }\n",
       "</style>\n",
       "<table border=\"1\" class=\"dataframe\">\n",
       "  <thead>\n",
       "    <tr style=\"text-align: right;\">\n",
       "      <th></th>\n",
       "      <th>score</th>\n",
       "      <th>count</th>\n",
       "    </tr>\n",
       "    <tr>\n",
       "      <th>product</th>\n",
       "      <th></th>\n",
       "      <th></th>\n",
       "    </tr>\n",
       "  </thead>\n",
       "  <tbody>\n",
       "    <tr>\n",
       "      <th>Samsung Galaxy Note5</th>\n",
       "      <td>10.0</td>\n",
       "      <td>149</td>\n",
       "    </tr>\n",
       "    <tr>\n",
       "      <th>Apple iPhone 4S Branco 8GB - Apple</th>\n",
       "      <td>10.0</td>\n",
       "      <td>115</td>\n",
       "    </tr>\n",
       "    <tr>\n",
       "      <th>Samsung Smartphone Galaxy Win Duos Branc</th>\n",
       "      <td>10.0</td>\n",
       "      <td>115</td>\n",
       "    </tr>\n",
       "    <tr>\n",
       "      <th>Smartphone Samsung Galaxy S7 Edge G935F,</th>\n",
       "      <td>10.0</td>\n",
       "      <td>33</td>\n",
       "    </tr>\n",
       "    <tr>\n",
       "      <th>ZTE Axon 7 64GB Smartphone (Unlocked, Io</th>\n",
       "      <td>10.0</td>\n",
       "      <td>31</td>\n",
       "    </tr>\n",
       "  </tbody>\n",
       "</table>\n",
       "</div>"
      ],
      "text/plain": [
       "                                          score  count\n",
       "product                                               \n",
       "Samsung Galaxy Note5                       10.0    149\n",
       "Apple iPhone 4S Branco 8GB - Apple         10.0    115\n",
       "Samsung Smartphone Galaxy Win Duos Branc   10.0    115\n",
       "Smartphone Samsung Galaxy S7 Edge G935F,   10.0     33\n",
       "ZTE Axon 7 64GB Smartphone (Unlocked, Io   10.0     31"
      ]
     },
     "execution_count": 43,
     "metadata": {},
     "output_type": "execute_result"
    }
   ],
   "source": [
    "# Let us recommend top 5 mobile phones\n",
    "\n",
    "ratings_mean_count = pd.DataFrame(df.groupby('product')['score'].mean().round(3))\n",
    "ratings_mean_count['count'] = df.groupby('product')['score'].count()\n",
    "ratings_mean_count.sort_values(by = ['score', 'count'], ascending = [False, False]).head(5)"
   ]
  },
  {
   "cell_type": "code",
   "execution_count": 44,
   "metadata": {},
   "outputs": [
    {
     "data": {
      "image/png": "[encoded data removed]",
      "text/plain": [
       "<Figure size 432x288 with 1 Axes>"
      ]
     },
     "metadata": {
      "needs_background": "light"
     },
     "output_type": "display_data"
    }
   ],
   "source": [
    "# Let us check count of ratings\n",
    "\n",
    "sns.countplot(data = df, x = 'score');"
   ]
  },
  {
   "cell_type": "markdown",
   "metadata": {},
   "source": [
    "We have more than 4 Lakh count for rating 10. For above 5 mobile phones we have max ratings with max reviews. So we can recommend those phones.\n",
    "\n",
    "As this is Popularity based (not personalized) recommendations for all the users will be same."
   ]
  },
  {
   "cell_type": "markdown",
   "metadata": {},
   "source": [
    "### 4. Build a collaborative filtering model using SVD. \n",
    "You can use SVD from surprise or build it from scratch(Note: Incase you’re building it from scratch you can limit your data points to 5000 samples if you face memory issues). Build a collaborative filtering model using kNNWithMeans from surprise. You can try both user-based and item-based model."
   ]
  },
  {
   "cell_type": "code",
   "execution_count": 45,
   "metadata": {},
   "outputs": [
    {
     "data": {
      "text/html": [
       "<div>\n",
       "<style scoped>\n",
       "    .dataframe tbody tr th:only-of-type {\n",
       "        vertical-align: middle;\n",
       "    }\n",
       "\n",
       "    .dataframe tbody tr th {\n",
       "        vertical-align: top;\n",
       "    }\n",
       "\n",
       "    .dataframe thead th {\n",
       "        text-align: right;\n",
       "    }\n",
       "</style>\n",
       "<table border=\"1\" class=\"dataframe\">\n",
       "  <thead>\n",
       "    <tr style=\"text-align: right;\">\n",
       "      <th></th>\n",
       "      <th>author</th>\n",
       "      <th>product</th>\n",
       "      <th>score</th>\n",
       "    </tr>\n",
       "  </thead>\n",
       "  <tbody>\n",
       "    <tr>\n",
       "      <th>40003</th>\n",
       "      <td>einem Kunden</td>\n",
       "      <td>Apple iPhone 7 Plus 5,5\" 128 GB</td>\n",
       "      <td>10</td>\n",
       "    </tr>\n",
       "    <tr>\n",
       "      <th>37841</th>\n",
       "      <td>Steve</td>\n",
       "      <td>Samsung Gusto 2 SCH-U365 Flip Phone (Ver</td>\n",
       "      <td>10</td>\n",
       "    </tr>\n",
       "    <tr>\n",
       "      <th>15949</th>\n",
       "      <td>unknown</td>\n",
       "      <td>Samsung Samsung Galaxy A5 2016 - Wit</td>\n",
       "      <td>10</td>\n",
       "    </tr>\n",
       "    <tr>\n",
       "      <th>9745</th>\n",
       "      <td>Amazon Customer</td>\n",
       "      <td>Samsung Galaxy S7 Edge 32GB UK SIM-Free</td>\n",
       "      <td>10</td>\n",
       "    </tr>\n",
       "    <tr>\n",
       "      <th>309352</th>\n",
       "      <td>Capyto</td>\n",
       "      <td>Samsung U800 Cep Telefonu</td>\n",
       "      <td>8</td>\n",
       "    </tr>\n",
       "  </tbody>\n",
       "</table>\n",
       "</div>"
      ],
      "text/plain": [
       "                 author                                   product  score\n",
       "40003      einem Kunden           Apple iPhone 7 Plus 5,5\" 128 GB     10\n",
       "37841             Steve  Samsung Gusto 2 SCH-U365 Flip Phone (Ver     10\n",
       "15949           unknown      Samsung Samsung Galaxy A5 2016 - Wit     10\n",
       "9745    Amazon Customer  Samsung Galaxy S7 Edge 32GB UK SIM-Free      10\n",
       "309352           Capyto                 Samsung U800 Cep Telefonu      8"
      ]
     },
     "execution_count": 45,
     "metadata": {},
     "output_type": "execute_result"
    }
   ],
   "source": [
    "# SVD using surprise library\n",
    "# Let us use data with more than 50 ratings and more than 50 reviews.\n",
    "\n",
    "reader = Reader(rating_scale = (1, 10))\n",
    "data = Dataset.load_from_df(data[['author', 'product', 'score']], reader)\n",
    "data.df.head()"
   ]
  },
  {
   "cell_type": "code",
   "execution_count": 46,
   "metadata": {},
   "outputs": [
    {
     "data": {
      "text/plain": [
       "<generator object Trainset.all_ratings at 0x144a82900>"
      ]
     },
     "execution_count": 46,
     "metadata": {},
     "output_type": "execute_result"
    }
   ],
   "source": [
    "# Splitting data\n",
    "\n",
    "trainset, testset = train_test_split(data, test_size=.25, random_state = 123)\n",
    "trainset.all_ratings()"
   ]
  },
  {
   "cell_type": "code",
   "execution_count": 47,
   "metadata": {},
   "outputs": [
    {
     "name": "stdout",
     "output_type": "stream",
     "text": [
      "ÐÐ¼Ð¸ÑÑÐ¸Ð¹\n"
     ]
    }
   ],
   "source": [
    "# Checking 1st entry of trainset\n",
    "\n",
    "print(trainset.to_raw_uid(0))"
   ]
  },
  {
   "cell_type": "code",
   "execution_count": 48,
   "metadata": {},
   "outputs": [
    {
     "data": {
      "text/plain": [
       "<surprise.prediction_algorithms.matrix_factorization.SVD at 0x1426efc70>"
      ]
     },
     "execution_count": 48,
     "metadata": {},
     "output_type": "execute_result"
    }
   ],
   "source": [
    "# Running SVD model\n",
    "\n",
    "svd_model = SVD(n_factors=5,biased=False)\n",
    "svd_model.fit(trainset)"
   ]
  },
  {
   "cell_type": "code",
   "execution_count": 49,
   "metadata": {},
   "outputs": [
    {
     "data": {
      "text/plain": [
       "('Ð¡ÐµÑ\\x80Ð³ÐµÐ¹', 'Sony Xperia ZR (Ð±ÐµÐ»Ñ\\x8bÐ¹)', 10.0)"
      ]
     },
     "execution_count": 49,
     "metadata": {},
     "output_type": "execute_result"
    }
   ],
   "source": [
    "# Checking 1st entry from Test data\n",
    "\n",
    "testset[0]"
   ]
  },
  {
   "cell_type": "code",
   "execution_count": 50,
   "metadata": {},
   "outputs": [],
   "source": [
    "# Predicting\n",
    "\n",
    "test_pred = svd_model.test(testset)"
   ]
  },
  {
   "cell_type": "code",
   "execution_count": 51,
   "metadata": {},
   "outputs": [
    {
     "name": "stdout",
     "output_type": "stream",
     "text": [
      "RMSE: 2.7193\n"
     ]
    },
    {
     "data": {
      "text/plain": [
       "2.719345244975944"
      ]
     },
     "execution_count": 51,
     "metadata": {},
     "output_type": "execute_result"
    }
   ],
   "source": [
    "# compute RMSE\n",
    "\n",
    "accuracy.rmse(test_pred)"
   ]
  },
  {
   "cell_type": "markdown",
   "metadata": {},
   "source": [
    "We have got RMSE score of 2.7. Let us check different methods and try to get lower score.\n",
    "\n",
    "Lesser the score better the result."
   ]
  },
  {
   "cell_type": "code",
   "execution_count": 52,
   "metadata": {},
   "outputs": [
    {
     "name": "stdout",
     "output_type": "stream",
     "text": [
      "RMSE: 2.7193\n"
     ]
    },
    {
     "data": {
      "text/html": [
       "<div>\n",
       "<style scoped>\n",
       "    .dataframe tbody tr th:only-of-type {\n",
       "        vertical-align: middle;\n",
       "    }\n",
       "\n",
       "    .dataframe tbody tr th {\n",
       "        vertical-align: top;\n",
       "    }\n",
       "\n",
       "    .dataframe thead th {\n",
       "        text-align: right;\n",
       "    }\n",
       "</style>\n",
       "<table border=\"1\" class=\"dataframe\">\n",
       "  <thead>\n",
       "    <tr style=\"text-align: right;\">\n",
       "      <th></th>\n",
       "      <th>Method</th>\n",
       "      <th>RMSE Score</th>\n",
       "    </tr>\n",
       "  </thead>\n",
       "  <tbody>\n",
       "    <tr>\n",
       "      <th>0</th>\n",
       "      <td>SVD</td>\n",
       "      <td>2.719345</td>\n",
       "    </tr>\n",
       "  </tbody>\n",
       "</table>\n",
       "</div>"
      ],
      "text/plain": [
       "  Method  RMSE Score\n",
       "0    SVD    2.719345"
      ]
     },
     "execution_count": 52,
     "metadata": {},
     "output_type": "execute_result"
    }
   ],
   "source": [
    "# Let us add score in a dataframe\n",
    "\n",
    "rmse = pd.DataFrame({'Method': ['SVD'], 'RMSE Score': [accuracy.rmse(test_pred)]})\n",
    "rmse"
   ]
  },
  {
   "cell_type": "code",
   "execution_count": 53,
   "metadata": {},
   "outputs": [
    {
     "name": "stdout",
     "output_type": "stream",
     "text": [
      "Computing the msd similarity matrix...\n",
      "Done computing similarity matrix.\n"
     ]
    },
    {
     "data": {
      "text/plain": [
       "<surprise.prediction_algorithms.knns.KNNWithMeans at 0x1312f2130>"
      ]
     },
     "execution_count": 53,
     "metadata": {},
     "output_type": "execute_result"
    }
   ],
   "source": [
    "# KNNWithMeans: Item-Item\n",
    "\n",
    "algo_i = KNNWithMeans(k = 10, sim_options = {'user_based': False})\n",
    "algo_i.fit(trainset)"
   ]
  },
  {
   "cell_type": "code",
   "execution_count": 54,
   "metadata": {},
   "outputs": [
    {
     "name": "stdout",
     "output_type": "stream",
     "text": [
      "RMSE: 2.7763\n",
      "2.7762662488677834\n"
     ]
    }
   ],
   "source": [
    "test_pred = algo_i.test(testset)\n",
    "print(accuracy.rmse(test_pred))"
   ]
  },
  {
   "cell_type": "code",
   "execution_count": 55,
   "metadata": {},
   "outputs": [
    {
     "name": "stdout",
     "output_type": "stream",
     "text": [
      "RMSE: 2.7763\n"
     ]
    },
    {
     "data": {
      "text/html": [
       "<div>\n",
       "<style scoped>\n",
       "    .dataframe tbody tr th:only-of-type {\n",
       "        vertical-align: middle;\n",
       "    }\n",
       "\n",
       "    .dataframe tbody tr th {\n",
       "        vertical-align: top;\n",
       "    }\n",
       "\n",
       "    .dataframe thead th {\n",
       "        text-align: right;\n",
       "    }\n",
       "</style>\n",
       "<table border=\"1\" class=\"dataframe\">\n",
       "  <thead>\n",
       "    <tr style=\"text-align: right;\">\n",
       "      <th></th>\n",
       "      <th>Method</th>\n",
       "      <th>RMSE Score</th>\n",
       "    </tr>\n",
       "  </thead>\n",
       "  <tbody>\n",
       "    <tr>\n",
       "      <th>0</th>\n",
       "      <td>SVD</td>\n",
       "      <td>2.719345</td>\n",
       "    </tr>\n",
       "    <tr>\n",
       "      <th>1</th>\n",
       "      <td>Item-item KNN</td>\n",
       "      <td>2.776266</td>\n",
       "    </tr>\n",
       "  </tbody>\n",
       "</table>\n",
       "</div>"
      ],
      "text/plain": [
       "          Method  RMSE Score\n",
       "0            SVD    2.719345\n",
       "1  Item-item KNN    2.776266"
      ]
     },
     "execution_count": 55,
     "metadata": {},
     "output_type": "execute_result"
    }
   ],
   "source": [
    "rmse.loc[1] = ['Item-item KNN', accuracy.rmse(test_pred)]\n",
    "rmse"
   ]
  },
  {
   "cell_type": "markdown",
   "metadata": {},
   "source": [
    "There is not much difference in SVD and user. Let us use cross validation and see if this score can be improved further."
   ]
  },
  {
   "cell_type": "code",
   "execution_count": 56,
   "metadata": {},
   "outputs": [
    {
     "name": "stdout",
     "output_type": "stream",
     "text": [
      "Computing the msd similarity matrix...\n",
      "Done computing similarity matrix.\n",
      "Computing the msd similarity matrix...\n",
      "Done computing similarity matrix.\n",
      "Computing the msd similarity matrix...\n",
      "Done computing similarity matrix.\n",
      "Computing the msd similarity matrix...\n",
      "Done computing similarity matrix.\n",
      "Computing the msd similarity matrix...\n",
      "Done computing similarity matrix.\n",
      "Evaluating RMSE, MAE of algorithm KNNWithMeans on 5 split(s).\n",
      "\n",
      "                  Fold 1  Fold 2  Fold 3  Fold 4  Fold 5  Mean    Std     \n",
      "RMSE (testset)    2.7798  2.7883  2.8028  2.7975  2.7708  2.7879  0.0116  \n",
      "MAE (testset)     2.1168  2.1126  2.1321  2.1225  2.0990  2.1166  0.0110  \n",
      "Fit time          145.72  133.19  141.93  169.49  141.86  146.44  12.24   \n",
      "Test time         341.72  305.63  412.78  398.85  387.93  369.38  39.81   \n"
     ]
    }
   ],
   "source": [
    "# Using Cross Validation\n",
    "\n",
    "cv = cross_validate(algo_i, data, measures = ['RMSE', 'MAE'], cv = 5, verbose = True)"
   ]
  },
  {
   "cell_type": "code",
   "execution_count": 57,
   "metadata": {},
   "outputs": [
    {
     "data": {
      "text/html": [
       "<div>\n",
       "<style scoped>\n",
       "    .dataframe tbody tr th:only-of-type {\n",
       "        vertical-align: middle;\n",
       "    }\n",
       "\n",
       "    .dataframe tbody tr th {\n",
       "        vertical-align: top;\n",
       "    }\n",
       "\n",
       "    .dataframe thead th {\n",
       "        text-align: right;\n",
       "    }\n",
       "</style>\n",
       "<table border=\"1\" class=\"dataframe\">\n",
       "  <thead>\n",
       "    <tr style=\"text-align: right;\">\n",
       "      <th></th>\n",
       "      <th>Method</th>\n",
       "      <th>RMSE Score</th>\n",
       "    </tr>\n",
       "  </thead>\n",
       "  <tbody>\n",
       "    <tr>\n",
       "      <th>0</th>\n",
       "      <td>SVD</td>\n",
       "      <td>2.71935</td>\n",
       "    </tr>\n",
       "    <tr>\n",
       "      <th>1</th>\n",
       "      <td>Item-item KNN</td>\n",
       "      <td>2.77627</td>\n",
       "    </tr>\n",
       "    <tr>\n",
       "      <th>2</th>\n",
       "      <td>Item-item CV</td>\n",
       "      <td>2.7597</td>\n",
       "    </tr>\n",
       "  </tbody>\n",
       "</table>\n",
       "</div>"
      ],
      "text/plain": [
       "          Method RMSE Score\n",
       "0            SVD    2.71935\n",
       "1  Item-item KNN    2.77627\n",
       "2   Item-item CV     2.7597"
      ]
     },
     "execution_count": 57,
     "metadata": {},
     "output_type": "execute_result"
    }
   ],
   "source": [
    "rmse.loc[2] = ['Item-item CV', '2.7597']\n",
    "rmse"
   ]
  },
  {
   "cell_type": "markdown",
   "metadata": {},
   "source": [
    "Results are a little better in case of cross validation."
   ]
  },
  {
   "cell_type": "code",
   "execution_count": 58,
   "metadata": {},
   "outputs": [
    {
     "name": "stdout",
     "output_type": "stream",
     "text": [
      "Computing the msd similarity matrix...\n",
      "Done computing similarity matrix.\n"
     ]
    },
    {
     "data": {
      "text/plain": [
       "<surprise.prediction_algorithms.knns.KNNWithMeans at 0x131d47580>"
      ]
     },
     "execution_count": 58,
     "metadata": {},
     "output_type": "execute_result"
    }
   ],
   "source": [
    "# KNNWithMeans: User-user\n",
    "\n",
    "algo_i = KNNWithMeans(k = 10, sim_options = {'user_based': True})\n",
    "algo_i.fit(trainset)"
   ]
  },
  {
   "cell_type": "code",
   "execution_count": 59,
   "metadata": {},
   "outputs": [
    {
     "name": "stdout",
     "output_type": "stream",
     "text": [
      "RMSE: 2.7777\n",
      "2.7777495711290108\n"
     ]
    }
   ],
   "source": [
    "test_pred = algo_i.test(testset)\n",
    "print(accuracy.rmse(test_pred))"
   ]
  },
  {
   "cell_type": "code",
   "execution_count": 60,
   "metadata": {},
   "outputs": [
    {
     "name": "stdout",
     "output_type": "stream",
     "text": [
      "RMSE: 2.7777\n"
     ]
    },
    {
     "data": {
      "text/html": [
       "<div>\n",
       "<style scoped>\n",
       "    .dataframe tbody tr th:only-of-type {\n",
       "        vertical-align: middle;\n",
       "    }\n",
       "\n",
       "    .dataframe tbody tr th {\n",
       "        vertical-align: top;\n",
       "    }\n",
       "\n",
       "    .dataframe thead th {\n",
       "        text-align: right;\n",
       "    }\n",
       "</style>\n",
       "<table border=\"1\" class=\"dataframe\">\n",
       "  <thead>\n",
       "    <tr style=\"text-align: right;\">\n",
       "      <th></th>\n",
       "      <th>Method</th>\n",
       "      <th>RMSE Score</th>\n",
       "    </tr>\n",
       "  </thead>\n",
       "  <tbody>\n",
       "    <tr>\n",
       "      <th>0</th>\n",
       "      <td>SVD</td>\n",
       "      <td>2.71935</td>\n",
       "    </tr>\n",
       "    <tr>\n",
       "      <th>1</th>\n",
       "      <td>Item-item KNN</td>\n",
       "      <td>2.77627</td>\n",
       "    </tr>\n",
       "    <tr>\n",
       "      <th>2</th>\n",
       "      <td>Item-item CV</td>\n",
       "      <td>2.7597</td>\n",
       "    </tr>\n",
       "    <tr>\n",
       "      <th>3</th>\n",
       "      <td>User-user KNN</td>\n",
       "      <td>2.77775</td>\n",
       "    </tr>\n",
       "  </tbody>\n",
       "</table>\n",
       "</div>"
      ],
      "text/plain": [
       "          Method RMSE Score\n",
       "0            SVD    2.71935\n",
       "1  Item-item KNN    2.77627\n",
       "2   Item-item CV     2.7597\n",
       "3  User-user KNN    2.77775"
      ]
     },
     "execution_count": 60,
     "metadata": {},
     "output_type": "execute_result"
    }
   ],
   "source": [
    "rmse.loc[3] = ['User-user KNN', accuracy.rmse(test_pred)]\n",
    "rmse"
   ]
  },
  {
   "cell_type": "markdown",
   "metadata": {},
   "source": [
    "Results for Item-item and User-user are almost same. Let us check results after cross validation."
   ]
  },
  {
   "cell_type": "code",
   "execution_count": 61,
   "metadata": {},
   "outputs": [
    {
     "name": "stdout",
     "output_type": "stream",
     "text": [
      "Computing the msd similarity matrix...\n",
      "Done computing similarity matrix.\n",
      "Computing the msd similarity matrix...\n",
      "Done computing similarity matrix.\n",
      "Computing the msd similarity matrix...\n",
      "Done computing similarity matrix.\n",
      "Computing the msd similarity matrix...\n",
      "Done computing similarity matrix.\n",
      "Computing the msd similarity matrix...\n",
      "Done computing similarity matrix.\n",
      "Evaluating RMSE, MAE of algorithm KNNWithMeans on 5 split(s).\n",
      "\n",
      "                  Fold 1  Fold 2  Fold 3  Fold 4  Fold 5  Mean    Std     \n",
      "RMSE (testset)    2.7514  2.7599  2.7730  2.7760  2.7595  2.7640  0.0092  \n",
      "MAE (testset)     2.1112  2.0996  2.1070  2.1082  2.0947  2.1042  0.0061  \n",
      "Fit time          0.75    1.03    1.41    0.88    0.69    0.95    0.26    \n",
      "Test time         6.71    10.55   8.00    5.00    4.71    7.00    2.14    \n"
     ]
    }
   ],
   "source": [
    "# Using Cross Validation\n",
    "\n",
    "cv = cross_validate(algo_i, data, measures=['RMSE', 'MAE'], cv=5, verbose=True)"
   ]
  },
  {
   "cell_type": "markdown",
   "metadata": {},
   "source": [
    "#### 5. Evaluate the collaborative model. Print RMSE value."
   ]
  },
  {
   "cell_type": "code",
   "execution_count": 62,
   "metadata": {},
   "outputs": [
    {
     "data": {
      "text/html": [
       "<div>\n",
       "<style scoped>\n",
       "    .dataframe tbody tr th:only-of-type {\n",
       "        vertical-align: middle;\n",
       "    }\n",
       "\n",
       "    .dataframe tbody tr th {\n",
       "        vertical-align: top;\n",
       "    }\n",
       "\n",
       "    .dataframe thead th {\n",
       "        text-align: right;\n",
       "    }\n",
       "</style>\n",
       "<table border=\"1\" class=\"dataframe\">\n",
       "  <thead>\n",
       "    <tr style=\"text-align: right;\">\n",
       "      <th></th>\n",
       "      <th>Method</th>\n",
       "      <th>RMSE Score</th>\n",
       "    </tr>\n",
       "  </thead>\n",
       "  <tbody>\n",
       "    <tr>\n",
       "      <th>0</th>\n",
       "      <td>SVD</td>\n",
       "      <td>2.71935</td>\n",
       "    </tr>\n",
       "    <tr>\n",
       "      <th>1</th>\n",
       "      <td>Item-item KNN</td>\n",
       "      <td>2.77627</td>\n",
       "    </tr>\n",
       "    <tr>\n",
       "      <th>2</th>\n",
       "      <td>Item-item CV</td>\n",
       "      <td>2.7597</td>\n",
       "    </tr>\n",
       "    <tr>\n",
       "      <th>3</th>\n",
       "      <td>User-user KNN</td>\n",
       "      <td>2.77775</td>\n",
       "    </tr>\n",
       "    <tr>\n",
       "      <th>4</th>\n",
       "      <td>User-user CV</td>\n",
       "      <td>2.7652</td>\n",
       "    </tr>\n",
       "  </tbody>\n",
       "</table>\n",
       "</div>"
      ],
      "text/plain": [
       "          Method RMSE Score\n",
       "0            SVD    2.71935\n",
       "1  Item-item KNN    2.77627\n",
       "2   Item-item CV     2.7597\n",
       "3  User-user KNN    2.77775\n",
       "4   User-user CV     2.7652"
      ]
     },
     "execution_count": 62,
     "metadata": {},
     "output_type": "execute_result"
    }
   ],
   "source": [
    "rmse.loc[4] = ['User-user CV', '2.7652']\n",
    "rmse"
   ]
  },
  {
   "cell_type": "markdown",
   "metadata": {},
   "source": [
    "From above table we can say that cross validations are giving better results. \n",
    "\n",
    "Let us finalise User-user CV model as it has the lowest RMSE Score."
   ]
  },
  {
   "cell_type": "markdown",
   "metadata": {},
   "source": [
    "#### 6. Predict score (average rating) for test users. "
   ]
  },
  {
   "cell_type": "code",
   "execution_count": 63,
   "metadata": {},
   "outputs": [
    {
     "data": {
      "text/plain": [
       "('Amazon Customer', 'Blu Win JR LTE (Grey, 4GB)', 10.0)"
      ]
     },
     "execution_count": 63,
     "metadata": {},
     "output_type": "execute_result"
    }
   ],
   "source": [
    "# Let us select random test and predict score\n",
    "\n",
    "testset[5]"
   ]
  },
  {
   "cell_type": "markdown",
   "metadata": {},
   "source": [
    "Predicted score for test sample of mobile phone is 8."
   ]
  },
  {
   "cell_type": "markdown",
   "metadata": {},
   "source": [
    "#### 7. Report your findings and inferences."
   ]
  },
  {
   "cell_type": "code",
   "execution_count": 64,
   "metadata": {},
   "outputs": [
    {
     "data": {
      "text/plain": [
       "[Prediction(uid='Ð¡ÐµÑ\\x80Ð³ÐµÐ¹', iid='Sony Xperia ZR (Ð±ÐµÐ»Ñ\\x8bÐ¹)', r_ui=10.0, est=8.473949500439346, details={'actual_k': 10, 'was_impossible': False}),\n",
       " Prediction(uid='ozer1299', iid='Nokia 5610 Cep Telefonu', r_ui=8.0, est=8.0, details={'actual_k': 10, 'was_impossible': False}),\n",
       " Prediction(uid='e-bit', iid='Smartphone Samsung Galaxy J5 SM-J510M', r_ui=10.0, est=9.4, details={'actual_k': 10, 'was_impossible': False}),\n",
       " Prediction(uid='einem Kunden', iid='Samsung Galaxy A3 (2016) - A310F Smartph', r_ui=10.0, est=9.8, details={'actual_k': 10, 'was_impossible': False}),\n",
       " Prediction(uid='Amazon Customer', iid='OnePlus 3 (Soft Gold, 64 GB)', r_ui=8.0, est=8.2, details={'actual_k': 10, 'was_impossible': False})]"
      ]
     },
     "execution_count": 64,
     "metadata": {},
     "output_type": "execute_result"
    }
   ],
   "source": [
    "#Let us check 5 entries in test_pred in which we will get all the details\n",
    "\n",
    "test_pred[:5]"
   ]
  },
  {
   "cell_type": "markdown",
   "metadata": {},
   "source": [
    "From above we see that r_ui(actual value) is exact to est(predicted value) for 3 users and different for 2 users. But it is almost similar. \n",
    "\n",
    "We have got best RMSE score for User-user cross validation method. And we have got almost similar result for Item-item CV as well. There is only minor difference.\n",
    "\n",
    "KNNWithMeans is much better than SVD.\n",
    "\n",
    "If we could have used all the data then we would have got better results."
   ]
  },
  {
   "cell_type": "markdown",
   "metadata": {},
   "source": [
    "#### 8. Try and recommend top 5 products for test users."
   ]
  },
  {
   "cell_type": "code",
   "execution_count": 65,
   "metadata": {},
   "outputs": [
    {
     "data": {
      "text/plain": [
       "[Prediction(uid='Ð¡ÐµÑ\\x80Ð³ÐµÐ¹', iid='Sony Xperia ZR (Ð±ÐµÐ»Ñ\\x8bÐ¹)', r_ui=10.0, est=8.473949500439346, details={'actual_k': 10, 'was_impossible': False}),\n",
       " Prediction(uid='ozer1299', iid='Nokia 5610 Cep Telefonu', r_ui=8.0, est=8.0, details={'actual_k': 10, 'was_impossible': False}),\n",
       " Prediction(uid='e-bit', iid='Smartphone Samsung Galaxy J5 SM-J510M', r_ui=10.0, est=9.4, details={'actual_k': 10, 'was_impossible': False}),\n",
       " Prediction(uid='einem Kunden', iid='Samsung Galaxy A3 (2016) - A310F Smartph', r_ui=10.0, est=9.8, details={'actual_k': 10, 'was_impossible': False}),\n",
       " Prediction(uid='Amazon Customer', iid='OnePlus 3 (Soft Gold, 64 GB)', r_ui=8.0, est=8.2, details={'actual_k': 10, 'was_impossible': False}),\n",
       " Prediction(uid='Amazon Customer', iid='Blu Win JR LTE (Grey, 4GB)', r_ui=10.0, est=9.0, details={'actual_k': 10, 'was_impossible': False}),\n",
       " Prediction(uid='Amazon Customer', iid='Samsung Galaxy J7 No Contract Phone, 16G', r_ui=6.0, est=8.600000000000001, details={'actual_k': 10, 'was_impossible': False}),\n",
       " Prediction(uid='Ð\\x9eÐ»ÐµÐ³', iid='LG K7 (Ð±ÐµÐ»Ñ\\x8bÐ¹)', r_ui=8.0, est=8.167511070203194, details={'actual_k': 10, 'was_impossible': False}),\n",
       " Prediction(uid='Stephan', iid='Samsung Galaxy S3 mini I8190 Smartphone ', r_ui=2.0, est=9.528323946141823, details={'actual_k': 10, 'was_impossible': False}),\n",
       " Prediction(uid='Amazon Customer', iid='Samsung Transform Ultra (Boost Mobile)', r_ui=2.0, est=5.782761976743283, details={'actual_k': 10, 'was_impossible': False}),\n",
       " Prediction(uid='Linda', iid='Nokia 7610 Supernova', r_ui=6.0, est=5.090265594376923, details={'actual_k': 2, 'was_impossible': False}),\n",
       " Prediction(uid='ana', iid='LG T375 Cookie Smart', r_ui=2.0, est=5.572175836135653, details={'actual_k': 5, 'was_impossible': False}),\n",
       " Prediction(uid='Amazon Customer', iid='OnePlus 3T (Gunmetal, 6GB RAM + 64GB mem', r_ui=10.0, est=8.4, details={'actual_k': 10, 'was_impossible': False}),\n",
       " Prediction(uid='Fernando', iid='Samsung Galaxy J7 SM-J700H/DS GSM Factor', r_ui=10.0, est=9.688361227241305, details={'actual_k': 10, 'was_impossible': False}),\n",
       " Prediction(uid='Marco', iid='Sony Xperia Z3 Compact Smartphone, 16 GB', r_ui=8.0, est=9.890007454103, details={'actual_k': 10, 'was_impossible': False}),\n",
       " Prediction(uid='Cliente Amazon', iid='Samsung J100 Galaxy J1 Smartphone, 4GB, ', r_ui=4.0, est=8.0, details={'actual_k': 10, 'was_impossible': False}),\n",
       " Prediction(uid='Cliente Amazon', iid='Samsung A5 2016 Smartphone LTE, 16 GB, O', r_ui=8.0, est=8.8, details={'actual_k': 10, 'was_impossible': False}),\n",
       " Prediction(uid='Amazon Customer', iid='Apple iPhone 5 Cellphone, 16GB, Black (A', r_ui=6.0, est=5.200000000000001, details={'actual_k': 10, 'was_impossible': False}),\n",
       " Prediction(uid='Anonymous ', iid='Samsung Galaxy S6 32GB (Sprint)', r_ui=9.0, est=9.4, details={'actual_k': 10, 'was_impossible': False}),\n",
       " Prediction(uid='Nico', iid='Samsung Galaxy A3 (2016)', r_ui=10.0, est=4.559550884742399, details={'actual_k': 4, 'was_impossible': False}),\n",
       " Prediction(uid='e-bit', iid='Smartphone Lenovo Vibe K5', r_ui=8.0, est=8.6, details={'actual_k': 10, 'was_impossible': False}),\n",
       " Prediction(uid=\"Client d'Amazon\", iid='Microsoft Lumia 650 Smartphone dÃ©bloquÃ', r_ui=8.0, est=6.4, details={'actual_k': 10, 'was_impossible': False}),\n",
       " Prediction(uid='Jordi', iid='Huawei P8 grijs / 16 GB', r_ui=9.0, est=8.475272924022349, details={'actual_k': 10, 'was_impossible': False}),\n",
       " Prediction(uid='bade', iid='Samsung I560 Cep Telefonu', r_ui=8.0, est=8.0, details={'actual_k': 10, 'was_impossible': False}),\n",
       " Prediction(uid='Ð\\xa0Ñ\\x83Ñ\\x81Ð»Ð°Ð½', iid='LG K7 (Ð±ÐµÐ»Ñ\\x8bÐ¹)', r_ui=8.0, est=8.839440585271433, details={'actual_k': 10, 'was_impossible': False}),\n",
       " Prediction(uid='Amazon Kunde', iid='Samsung S7710 Galaxy Xcover 2 Smartphone', r_ui=2.0, est=6.100955166915926, details={'actual_k': 10, 'was_impossible': False}),\n",
       " Prediction(uid='mauro', iid='Asus ZenFone 2 Laser Smartphone da 32 GB', r_ui=10.0, est=7.587740501525232, details={'actual_k': 10, 'was_impossible': False}),\n",
       " Prediction(uid='Amazon Customer', iid='YU Yuphoria YU5010A (Black+Silver)', r_ui=10.0, est=7.6, details={'actual_k': 10, 'was_impossible': False}),\n",
       " Prediction(uid='Steven', iid='Alcatel One Evolve Prepaid Phone (T-Mobi', r_ui=10.0, est=9.343174149611537, details={'actual_k': 4, 'was_impossible': False}),\n",
       " Prediction(uid='diego', iid='Sony Xperia Z - Smartphone libre Android', r_ui=10.0, est=9.446340518279454, details={'actual_k': 10, 'was_impossible': False}),\n",
       " Prediction(uid='Stephen', iid='APPLE iPhone 7 Plus - Gold, 32 GB', r_ui=9.0, est=8.217588785790683, details={'actual_k': 10, 'was_impossible': False}),\n",
       " Prediction(uid='Rachel', iid='Samsung S5230 Star Smartphone (Touchscre', r_ui=8.0, est=6.187288472821517, details={'actual_k': 6, 'was_impossible': False}),\n",
       " Prediction(uid='Client Amazon', iid='LG T385 TÃ©lÃ©phone portable Ecran 3,2 p', r_ui=2.0, est=6.908673656766715, details={'actual_k': 2, 'was_impossible': False}),\n",
       " Prediction(uid='matteo', iid='LG G4 Smartphone Display IPS 5.5\" QHD, F', r_ui=10.0, est=7.5722152897500274, details={'actual_k': 10, 'was_impossible': False}),\n",
       " Prediction(uid='Amazon Customer', iid='T-Mobile Sparq Prepaid Phone (T-Mobile)', r_ui=10.0, est=5.937894943908699, details={'actual_k': 4, 'was_impossible': False}),\n",
       " Prediction(uid='Alexander', iid='Wiko Rainbow Smartphone (12,7 cm (5 Zoll', r_ui=10.0, est=9.370425656684555, details={'actual_k': 10, 'was_impossible': False}),\n",
       " Prediction(uid='Amazon Customer', iid='Motorola Moto G, 4th Gen (Black, 2 GB, 1', r_ui=10.0, est=4.4, details={'actual_k': 10, 'was_impossible': False}),\n",
       " Prediction(uid='Qantas', iid='Sony Ericsson Live with Walkman', r_ui=6.0, est=6.5736260845450545, details={'actual_k': 3, 'was_impossible': False}),\n",
       " Prediction(uid='Amazon Customer', iid='Mi 4i (White, 16GB)', r_ui=8.0, est=6.6, details={'actual_k': 10, 'was_impossible': False}),\n",
       " Prediction(uid='Amazon Customer', iid='OnePlus 3 (Soft Gold, 64 GB)', r_ui=10.0, est=8.2, details={'actual_k': 10, 'was_impossible': False}),\n",
       " Prediction(uid='Amazon Customer', iid='Huawei Honor 5X Unlocked Smartphone, 16G', r_ui=8.0, est=8.600000000000001, details={'actual_k': 10, 'was_impossible': False}),\n",
       " Prediction(uid='Ð\\x90Ð»ÐµÐºÑ\\x81Ð°Ð½Ð´Ñ\\x80', iid='Sony Xperia C (Ð±ÐµÐ»Ñ\\x8bÐ¹)', r_ui=9.0, est=8.030073510090284, details={'actual_k': 10, 'was_impossible': False}),\n",
       " Prediction(uid='unknown', iid='Apple Apple iPhone 5s - 32GB - Zilver', r_ui=8.0, est=9.4, details={'actual_k': 10, 'was_impossible': False}),\n",
       " Prediction(uid='Ricardo', iid='Nokia Lumia 630 - Smartphone libre Windo', r_ui=10.0, est=9.159563489415378, details={'actual_k': 8, 'was_impossible': False}),\n",
       " Prediction(uid='Amazon Customer', iid='Samsung Galaxy S5 SM-G900T 4G LTE 16GB S', r_ui=10.0, est=8.0, details={'actual_k': 10, 'was_impossible': False}),\n",
       " Prediction(uid='Amazon Customer', iid='Lenovo Vibe S1 (4G, Dark Blue)', r_ui=6.0, est=7.4, details={'actual_k': 10, 'was_impossible': False}),\n",
       " Prediction(uid='Amazon Customer', iid='Nokia 230 Dual Sim (Dark Silver)', r_ui=4.0, est=7.8, details={'actual_k': 10, 'was_impossible': False}),\n",
       " Prediction(uid='Amazon Customer', iid='Motorola Moto G 3rd Generation (Black, 1', r_ui=10.0, est=8.2, details={'actual_k': 10, 'was_impossible': False}),\n",
       " Prediction(uid='Amazon Customer', iid='Lenovo Vibe K4 Note (White,16GB)', r_ui=8.0, est=5.4, details={'actual_k': 10, 'was_impossible': False}),\n",
       " Prediction(uid='Ð\\x92Ñ\\x8fÑ\\x87ÐµÑ\\x81Ð»Ð°Ð²', iid='Samsung Ð¡Ð¼Ð°Ñ\\x80Ñ\\x82Ñ\\x84Ð¾Ð½ Samsung Galaxy ', r_ui=8.0, est=7.428106030356587, details={'actual_k': 10, 'was_impossible': False}),\n",
       " Prediction(uid='Amazon Customer', iid='Lenovo Vibe K5 (Grey)', r_ui=10.0, est=6.6, details={'actual_k': 10, 'was_impossible': False}),\n",
       " Prediction(uid='Salvatore', iid='Asus ZenFone 2 Laser Smartphone, Display', r_ui=10.0, est=9.931626017997218, details={'actual_k': 10, 'was_impossible': False}),\n",
       " Prediction(uid='Amazon Customer', iid='Nokia 105 (Black)', r_ui=10.0, est=6.2, details={'actual_k': 10, 'was_impossible': False}),\n",
       " Prediction(uid='Amazon Customer', iid='Lenovo Vibe K4 Note (Black, 16GB)', r_ui=4.0, est=8.8, details={'actual_k': 10, 'was_impossible': False}),\n",
       " Prediction(uid='Tony', iid='Nokia Lumia 520 UK Sim Free Smartphone -', r_ui=8.0, est=6.418633619408389, details={'actual_k': 10, 'was_impossible': False}),\n",
       " Prediction(uid='e-bit', iid='Smartphone LG Leon H326TV', r_ui=8.0, est=9.2, details={'actual_k': 10, 'was_impossible': False}),\n",
       " Prediction(uid='Andrea', iid='Lenovo Motorola Moto G Smartphone, Displ', r_ui=10.0, est=9.378924400304362, details={'actual_k': 10, 'was_impossible': False}),\n",
       " Prediction(uid='Joseph', iid='BLU Studio 6.0 HD - Factory Unlocked (\"W', r_ui=10.0, est=7.582252200049145, details={'actual_k': 4, 'was_impossible': False}),\n",
       " Prediction(uid='miatamania', iid='Apple iphone 3G 16GB Cep Telefonu', r_ui=8.0, est=8.0, details={'actual_k': 10, 'was_impossible': False}),\n",
       " Prediction(uid='Alex', iid='Apple iPhone 4s (8GB)', r_ui=10.0, est=9.623478599262297, details={'actual_k': 10, 'was_impossible': False}),\n",
       " Prediction(uid='einer Kundin', iid='Samsung Galaxy S7 Smartphone, 12,9 cm (5', r_ui=8.0, est=9.6, details={'actual_k': 10, 'was_impossible': False}),\n",
       " Prediction(uid='Anthony', iid='Samsung i997 Infuse 4G, 8MP,16GB, WIFI, ', r_ui=10.0, est=6.188212375519615, details={'actual_k': 3, 'was_impossible': False}),\n",
       " Prediction(uid='Amazon Customer', iid='Lenovo Vibe K5 (Gold, VoLTE update)', r_ui=2.0, est=5.4, details={'actual_k': 10, 'was_impossible': False}),\n",
       " Prediction(uid='Un anonyme', iid='Siemens SL55', r_ui=8.0, est=7.670388910281094, details={'actual_k': 2, 'was_impossible': False}),\n",
       " Prediction(uid='michele', iid='Alcatel One Touch Pop 3 (5) Smartphone, ', r_ui=10.0, est=9.225276138089919, details={'actual_k': 10, 'was_impossible': False}),\n",
       " Prediction(uid='Amazon Customer', iid='OnePlus X (Champagne, 16GB)', r_ui=8.0, est=7.0, details={'actual_k': 10, 'was_impossible': False}),\n",
       " Prediction(uid='Amazon Customer', iid='BLU Q170T Samba TV Unlocked Dual SIM Qua', r_ui=2.0, est=8.0, details={'actual_k': 10, 'was_impossible': False}),\n",
       " Prediction(uid='Fabio', iid='Nokia Lumia 530 Smartphone, 4 GB, Aranci', r_ui=10.0, est=8.572957592376339, details={'actual_k': 10, 'was_impossible': False}),\n",
       " Prediction(uid='Amazon Customer', iid='Alcatel One Touch Idol 3 Smartphone,4.7\"', r_ui=6.0, est=8.075492573683096, details={'actual_k': 10, 'was_impossible': False}),\n",
       " Prediction(uid='Amazon Customer', iid='TP-Link AC1300 Wireless Dual Band PCI-Ex', r_ui=6.0, est=9.000293883406306, details={'actual_k': 10, 'was_impossible': False}),\n",
       " Prediction(uid='Ð¡ÐµÑ\\x80Ð³ÐµÐ¹', iid='Samsung Galaxy S5', r_ui=9.0, est=6.6783889414084605, details={'actual_k': 10, 'was_impossible': False}),\n",
       " Prediction(uid='Nico', iid='Nokia C5-03 Smartphone (8.1cm (3.2 Zoll)', r_ui=4.0, est=5.319035136879048, details={'actual_k': 2, 'was_impossible': False}),\n",
       " Prediction(uid='Amazon Customer', iid='Asus Zenfone Max ZC550KL-6A068IN (Black,', r_ui=10.0, est=7.4, details={'actual_k': 10, 'was_impossible': False}),\n",
       " Prediction(uid='Amazon Customer', iid='OnePlus 2 (Sandstone Black, 64GB)', r_ui=6.0, est=5.4, details={'actual_k': 10, 'was_impossible': False}),\n",
       " Prediction(uid='Amazon Customer', iid='YU Yuphoria YU5010A (Black+Silver)', r_ui=2.0, est=7.6, details={'actual_k': 10, 'was_impossible': False}),\n",
       " Prediction(uid='Christine', iid='Lenovo Motorola Gleam Handy (ohne Brandi', r_ui=6.0, est=8.371293544034783, details={'actual_k': 5, 'was_impossible': False}),\n",
       " Prediction(uid='Amazon Customer', iid='Nokia 105 SIM-Free Mobile Phone, Black', r_ui=10.0, est=8.2, details={'actual_k': 10, 'was_impossible': False}),\n",
       " Prediction(uid='e-bit', iid='Smartphone Samsung Galaxy J7 Prime SM-G6', r_ui=10.0, est=9.0, details={'actual_k': 10, 'was_impossible': False}),\n",
       " Prediction(uid='e-bit', iid='Apple iPhone 6 16GB', r_ui=10.0, est=10, details={'actual_k': 10, 'was_impossible': False}),\n",
       " Prediction(uid='Stefano', iid='Huawei Mate 8 Smartphone Dual SIM, Displ', r_ui=10.0, est=9.818093536319866, details={'actual_k': 10, 'was_impossible': False}),\n",
       " Prediction(uid=\"Client d'Amazon\", iid='Huawei P9 Lite Smartphone DÃ©bloquÃ© 4G ', r_ui=10.0, est=6.4, details={'actual_k': 10, 'was_impossible': False}),\n",
       " Prediction(uid='Anthony', iid='APPLE iPhone 7 - Silver, 32 GB', r_ui=8.0, est=5.38889062478138, details={'actual_k': 10, 'was_impossible': False}),\n",
       " Prediction(uid='Amazon Customer', iid='Nokia 105 (Black)', r_ui=4.0, est=6.2, details={'actual_k': 10, 'was_impossible': False}),\n",
       " Prediction(uid=\"Client d'Amazon\", iid='Aukru Chargeur de batterie adaptateur Po', r_ui=8.0, est=7.64898378859317, details={'actual_k': 9, 'was_impossible': False}),\n",
       " Prediction(uid='Amazon Customer', iid='Apple iPhone 6 16GB Factory Unlocked GSM', r_ui=10.0, est=7.2, details={'actual_k': 10, 'was_impossible': False}),\n",
       " Prediction(uid='mike', iid='BLU Studio C Mini Quad Core, 4.7\" IPS, A', r_ui=10.0, est=7.613881786028204, details={'actual_k': 10, 'was_impossible': False}),\n",
       " Prediction(uid='Amazon Customer', iid='OnePlus 3 (Soft Gold, 64 GB)', r_ui=10.0, est=8.2, details={'actual_k': 10, 'was_impossible': False}),\n",
       " Prediction(uid='Amazon Customer', iid='Mi Xiaomi Mi Max (Gold, 32GB)', r_ui=8.0, est=6.4, details={'actual_k': 10, 'was_impossible': False}),\n",
       " Prediction(uid='Misafir', iid='Samsung (936) S8600 Wave 3', r_ui=8.0, est=8.0, details={'actual_k': 8, 'was_impossible': False}),\n",
       " Prediction(uid=\"Client d'Amazon\", iid='Cophone Film de protection Ecran Cophone', r_ui=2.0, est=6.0, details={'actual_k': 10, 'was_impossible': False}),\n",
       " Prediction(uid='Luis', iid='Motorola Moto G 3Ã¨me gÃ©nÃ©ration Smart', r_ui=8.0, est=9.274927459693314, details={'actual_k': 10, 'was_impossible': False}),\n",
       " Prediction(uid=\"Client d'Amazon\", iid='Motorola Moto G 3Ã¨me gÃ©nÃ©ration Smart', r_ui=10.0, est=9.0, details={'actual_k': 10, 'was_impossible': False}),\n",
       " Prediction(uid='Amazon Customer', iid='OnePlus 3 (Graphite, 64 GB)', r_ui=10.0, est=7.6, details={'actual_k': 10, 'was_impossible': False}),\n",
       " Prediction(uid=\"Client d'Amazon\", iid='Huawei - P8 - Smartphone DÃ©bloquÃ© - 4G', r_ui=10.0, est=8.081566709527952, details={'actual_k': 10, 'was_impossible': False}),\n",
       " Prediction(uid='Amazon Customer', iid='Lenovo Vibe K4 Note (Black, 16GB)', r_ui=10.0, est=8.8, details={'actual_k': 10, 'was_impossible': False}),\n",
       " Prediction(uid='Amazon Customer', iid='Lenovo Vibe K5 (Silver, 16GB)', r_ui=10.0, est=8.0, details={'actual_k': 10, 'was_impossible': False}),\n",
       " Prediction(uid='Robert', iid='Samsung Galaxy Note, i717 16GB Unlocked ', r_ui=2.0, est=9.70935460418951, details={'actual_k': 10, 'was_impossible': False}),\n",
       " Prediction(uid='Amazon Customer', iid='Motorola Moto G Turbo (White, 16GB)', r_ui=10.0, est=5.6000000000000005, details={'actual_k': 10, 'was_impossible': False}),\n",
       " Prediction(uid='Petra', iid='Microsoft Nokia Asha 203 Handy Touch and', r_ui=4.0, est=4.803923838298007, details={'actual_k': 4, 'was_impossible': False}),\n",
       " Prediction(uid='Samantha', iid='Lenovo Motorola Moto G Smartphone, Displ', r_ui=10.0, est=9.318630879595663, details={'actual_k': 10, 'was_impossible': False}),\n",
       " Prediction(uid='Amazon Kunde', iid='Huawei G8 Smartphone (5,5 Zoll (13,97 cm', r_ui=10.0, est=8.581445701495362, details={'actual_k': 9, 'was_impossible': False}),\n",
       " Prediction(uid='Amazon Customer', iid='Sony Xperia P - Smartphone libre (pantal', r_ui=10.0, est=8.730279759632129, details={'actual_k': 10, 'was_impossible': False}),\n",
       " Prediction(uid='Amazon Customer', iid='ZTE Axon 7 Unlocked Smartphone,64GB Ion ', r_ui=10.0, est=6.8, details={'actual_k': 10, 'was_impossible': False}),\n",
       " Prediction(uid='Maria', iid='Sony Ericsson Xperia X8 Smartphone ( 3.2', r_ui=10.0, est=7.8123268496846014, details={'actual_k': 10, 'was_impossible': False}),\n",
       " Prediction(uid='Amazon Customer', iid='Motorola Moto G, 4th Gen (White, 16GB) -', r_ui=6.0, est=5.6000000000000005, details={'actual_k': 10, 'was_impossible': False}),\n",
       " Prediction(uid='stefano', iid='Samsung G355 Galaxy Core 2 Smartphone, 4', r_ui=10.0, est=9.220462572519477, details={'actual_k': 10, 'was_impossible': False}),\n",
       " Prediction(uid='Lee', iid='LG 840G Prepaid Phone (Net10)', r_ui=10.0, est=8.64061914411321, details={'actual_k': 6, 'was_impossible': False}),\n",
       " Prediction(uid='Al', iid='LG Dare', r_ui=9.0, est=7.177029935958069, details={'actual_k': 10, 'was_impossible': False}),\n",
       " Prediction(uid='Amazon Customer', iid='VIVO V5 (Crown gold, 32 GB) (4 GB RAM)', r_ui=8.0, est=7.6, details={'actual_k': 10, 'was_impossible': False}),\n",
       " Prediction(uid='Amazon Customer', iid='Apple iPhone 5 16GB Verizon Wireless CDM', r_ui=8.0, est=5.200000000000001, details={'actual_k': 10, 'was_impossible': False}),\n",
       " Prediction(uid='Max', iid='LG GT540 Optimus', r_ui=4.0, est=8.255253893750682, details={'actual_k': 4, 'was_impossible': False}),\n",
       " Prediction(uid='Amazon Customer', iid='Apple iPhone 5s GSM Unlocked Cellphone, ', r_ui=2.0, est=7.0, details={'actual_k': 10, 'was_impossible': False}),\n",
       " Prediction(uid='Joseph', iid='HTC One X 32GB', r_ui=9.0, est=7.814375521557719, details={'was_impossible': True, 'reason': 'User and/or item is unknown.'}),\n",
       " Prediction(uid='????????????????', iid='Sony Xperia V (?\\x80????????????)', r_ui=8.0, est=8.098369472632486, details={'actual_k': 10, 'was_impossible': False}),\n",
       " Prediction(uid=\"Client d'Amazon\", iid='LG - G3 - Smartphone DÃ©bloquÃ© 4G (Ecra', r_ui=2.0, est=7.0, details={'actual_k': 10, 'was_impossible': False}),\n",
       " Prediction(uid='Petra', iid='Sony Ericsson W580i Style White Handy oh', r_ui=10.0, est=8.712705678894363, details={'actual_k': 6, 'was_impossible': False}),\n",
       " Prediction(uid='Amazon Customer', iid='Lenovo Vibe K5 (Gold, VoLTE update)', r_ui=2.0, est=5.4, details={'actual_k': 10, 'was_impossible': False}),\n",
       " Prediction(uid='e-bit', iid='Smartphone Samsung Galaxy S5 SM-G900', r_ui=10.0, est=8.8, details={'actual_k': 10, 'was_impossible': False}),\n",
       " Prediction(uid='Alvaro', iid='Honor 6 - Smartphone libre (pantalla de ', r_ui=10.0, est=9.4876077056728, details={'actual_k': 10, 'was_impossible': False}),\n",
       " Prediction(uid='Pietro', iid='Nokia 5800 XpressMusic', r_ui=8.0, est=10, details={'actual_k': 2, 'was_impossible': False}),\n",
       " Prediction(uid='Amazon Customer', iid='Lenovo A1000 (Black)', r_ui=4.0, est=6.4, details={'actual_k': 10, 'was_impossible': False}),\n",
       " Prediction(uid='Amazon Customer', iid='Lenovo Vibe K4 Note (White,16GB)', r_ui=2.0, est=5.4, details={'actual_k': 10, 'was_impossible': False}),\n",
       " Prediction(uid='xceday', iid='Samsung P520 Armani Cep Telefonu', r_ui=8.0, est=8.0, details={'actual_k': 10, 'was_impossible': False}),\n",
       " Prediction(uid='einem Kunden', iid='Apple iPhone 6s 4,7\" 128 GB', r_ui=10.0, est=9.6, details={'actual_k': 10, 'was_impossible': False}),\n",
       " Prediction(uid='Amazon Customer', iid='Lenovo Vibe K4 Note (Black, 16GB)', r_ui=8.0, est=8.8, details={'actual_k': 10, 'was_impossible': False}),\n",
       " Prediction(uid='Ð\\x9eÐ»Ñ\\x8cÐ³Ð°', iid='Samsung Galaxy S4 mini Duos GT-I9192 (Ñ\\x87', r_ui=6.0, est=7.948918822485182, details={'actual_k': 10, 'was_impossible': False}),\n",
       " Prediction(uid='Renato', iid='Cubot Note S 3G Smartphone - 5.5\" pollic', r_ui=10.0, est=7.990349327509603, details={'actual_k': 10, 'was_impossible': False}),\n",
       " Prediction(uid='Jessica', iid='Huawei Nexus 6P unlocked smartphone, 32G', r_ui=10.0, est=8.54437256131551, details={'actual_k': 10, 'was_impossible': False}),\n",
       " Prediction(uid='John', iid='APPLE iPhone 7 - Silver, 32 GB', r_ui=10.0, est=9.944435346828591, details={'actual_k': 10, 'was_impossible': False}),\n",
       " Prediction(uid='Kindle Customer', iid='Samsung Galaxy Note, i717 16GB Unlocked ', r_ui=10.0, est=8.53025477303647, details={'actual_k': 10, 'was_impossible': False}),\n",
       " Prediction(uid='einer Kundin', iid='Samsung Galaxy S7 edge Smartphone, 13,9 ', r_ui=10.0, est=9.6, details={'actual_k': 10, 'was_impossible': False}),\n",
       " Prediction(uid='einer Kundin', iid='Samsung Galaxy A3 (2016) - A310F Smartph', r_ui=10.0, est=9.8, details={'actual_k': 10, 'was_impossible': False}),\n",
       " Prediction(uid='Amazon Customer', iid='YU Yuphoria YU5010A (Black+Silver)', r_ui=4.0, est=7.6, details={'actual_k': 10, 'was_impossible': False}),\n",
       " Prediction(uid='Amazon Customer', iid='Samsung Guru GT-E1200 (Indigo Blue)', r_ui=10.0, est=9.4, details={'actual_k': 10, 'was_impossible': False}),\n",
       " Prediction(uid='Julie', iid='Sony Xperia S', r_ui=8.0, est=1.8098978790259226, details={'actual_k': 1, 'was_impossible': False}),\n",
       " Prediction(uid='Amazon Kunde', iid='Microsoft Nokia Lumia 920 Smartphone (11', r_ui=6.0, est=9.082704838665354, details={'actual_k': 10, 'was_impossible': False}),\n",
       " Prediction(uid='Amazon Customer', iid='Apple iPhone 5 Cellphone, 16GB, Black (A', r_ui=6.0, est=5.200000000000001, details={'actual_k': 10, 'was_impossible': False}),\n",
       " Prediction(uid='e-bit', iid='Smartphone Samsung Galaxy Gran Prime TV ', r_ui=8.0, est=8.8, details={'actual_k': 10, 'was_impossible': False}),\n",
       " Prediction(uid='Amazon Kunde', iid='Samsung â\\x80\\x8bSamsung Galaxy A3 Smartphone ', r_ui=2.0, est=8.0, details={'actual_k': 10, 'was_impossible': False}),\n",
       " Prediction(uid='unknown', iid='Ð¡Ð¼Ð°Ñ\\x80Ñ\\x82Ñ\\x84Ð¾Ð½ Apple iPhone 5S 16Gb Sp', r_ui=10.0, est=5.6000000000000005, details={'actual_k': 10, 'was_impossible': False}),\n",
       " Prediction(uid='Amazon Customer', iid='OnePlus 3T (Gunmetal, 6GB RAM + 64GB mem', r_ui=4.0, est=8.4, details={'actual_k': 10, 'was_impossible': False}),\n",
       " Prediction(uid='marco', iid='Apple iPhone 6 64GB Grigio [Italia]', r_ui=10.0, est=8.58646344392363, details={'actual_k': 10, 'was_impossible': False}),\n",
       " Prediction(uid='Amazon Customer', iid='Motorola Moto G Turbo (Black, 16GB)', r_ui=6.0, est=9.200000000000001, details={'actual_k': 10, 'was_impossible': False}),\n",
       " Prediction(uid='Amazon Kunde', iid='Samsung S7582 Galaxy S DuoS 2 Smartphone', r_ui=8.0, est=5.41349693377291, details={'actual_k': 4, 'was_impossible': False}),\n",
       " Prediction(uid='Amazon Customer', iid='OnePlus 3T (Gunmetal, 6GB RAM + 128GB me', r_ui=10.0, est=7.6, details={'actual_k': 10, 'was_impossible': False}),\n",
       " Prediction(uid='Amazon Customer', iid='OnePlus 3 (Graphite, 64 GB)', r_ui=10.0, est=7.6, details={'actual_k': 10, 'was_impossible': False}),\n",
       " Prediction(uid='Amazon Customer', iid='Lenovo Vibe K5 (Silver, 16GB)', r_ui=6.0, est=8.0, details={'actual_k': 10, 'was_impossible': False}),\n",
       " Prediction(uid='Martin', iid='Samsung Galaxy S4 zoom - Smartphone (10,', r_ui=10.0, est=9.446778753902658, details={'actual_k': 6, 'was_impossible': False}),\n",
       " Prediction(uid='e-bit', iid='Smartphone LG G3 D855', r_ui=10.0, est=8.8, details={'actual_k': 10, 'was_impossible': False}),\n",
       " Prediction(uid='Julian', iid='Lenovo Motorola Moto G Smartphone (11,4 ', r_ui=8.0, est=9.43762559689122, details={'actual_k': 10, 'was_impossible': False}),\n",
       " Prediction(uid='Amazon Customer', iid='Samsung Galaxy J7 SM-J700F (White) - Sch', r_ui=10.0, est=8.200000000000001, details={'actual_k': 10, 'was_impossible': False}),\n",
       " Prediction(uid='Amazon Customer', iid='BlackBerry Curve 3G 9300 Unlocked GSM Sm', r_ui=8.0, est=2.5227907184135283, details={'actual_k': 6, 'was_impossible': False}),\n",
       " Prediction(uid='Anonymous', iid='Nokia N96', r_ui=3.0, est=8.922280014798162, details={'actual_k': 7, 'was_impossible': False}),\n",
       " Prediction(uid='Kim', iid='Nokia Lumia 521 (Metro PCS)', r_ui=4.0, est=5.434188766882983, details={'actual_k': 10, 'was_impossible': False}),\n",
       " Prediction(uid='David', iid='Microsoft Lumia 535 - Smartphone libre (', r_ui=4.0, est=8.087889724615623, details={'actual_k': 10, 'was_impossible': False}),\n",
       " Prediction(uid='unknown', iid='HUAWEI ASCEND P9 LITE BLACK', r_ui=8.0, est=9.6, details={'actual_k': 10, 'was_impossible': False}),\n",
       " Prediction(uid='Amazon Customer', iid='Palm Pixi Plus Verizon Only Cell Phone w', r_ui=2.0, est=8.820469014734368, details={'actual_k': 4, 'was_impossible': False}),\n",
       " Prediction(uid='Mary', iid='Samsung Galaxy S3, Red (AT&T)', r_ui=10.0, est=9.701452694097252, details={'actual_k': 10, 'was_impossible': False}),\n",
       " Prediction(uid='?????????????? ????????????', iid='Sony Xperia V', r_ui=10.0, est=6.286855946647368, details={'actual_k': 6, 'was_impossible': False}),\n",
       " Prediction(uid='Amazon Customer', iid='Honor 6X (Gold, 32GB)', r_ui=10.0, est=7.2, details={'actual_k': 10, 'was_impossible': False}),\n",
       " Prediction(uid='Amazon Customer', iid='OnePlus X (Onyx, 16GB)', r_ui=8.0, est=6.4, details={'actual_k': 10, 'was_impossible': False}),\n",
       " Prediction(uid='Amazon Customer', iid='Xperia Sony Xperia E SIM-free Android Sm', r_ui=6.0, est=7.749639083796122, details={'actual_k': 7, 'was_impossible': False}),\n",
       " Prediction(uid='Patrick', iid='Sony Xperia XZ zwart / 32 GB', r_ui=9.0, est=8.172184149607595, details={'actual_k': 10, 'was_impossible': False}),\n",
       " Prediction(uid='Ð\\x94Ð¼Ð¸Ñ\\x82Ñ\\x80Ð¸Ð¹', iid='Samsung S7270 Galaxy Ace 3 (ÐºÑ\\x80Ð°Ñ\\x81Ð½Ñ\\x8b', r_ui=8.0, est=9.351394923892805, details={'actual_k': 10, 'was_impossible': False}),\n",
       " Prediction(uid='Amazon Customer', iid='LG G4 Unlocked Smartphone with 32GB Inte', r_ui=10.0, est=6.2, details={'actual_k': 10, 'was_impossible': False}),\n",
       " Prediction(uid='Roy', iid='Samsung Galaxy A3 SM-A300FU SIM-Free Sma', r_ui=10.0, est=7.098419122920885, details={'actual_k': 9, 'was_impossible': False}),\n",
       " Prediction(uid='Amazon Customer', iid='Lenovo Vibe K4 Note (White,16GB)', r_ui=4.0, est=5.4, details={'actual_k': 10, 'was_impossible': False}),\n",
       " Prediction(uid='Ð\\x94ÐµÐ½Ð¸Ñ\\x81', iid='ASUS ZenFone 3 Max ZC520TL 16GB (Ñ\\x81ÐµÑ\\x80Ð', r_ui=8.0, est=8.032112118691764, details={'actual_k': 10, 'was_impossible': False}),\n",
       " Prediction(uid='??????????????', iid='Sony Ericsson Xperia neo V MT11i', r_ui=10.0, est=9.31395894520217, details={'actual_k': 10, 'was_impossible': False}),\n",
       " Prediction(uid='Steven', iid='Moto G Plus XT1644 4th Gen. 64GB Smartph', r_ui=8.0, est=10, details={'actual_k': 8, 'was_impossible': False}),\n",
       " Prediction(uid='Amazon Customer', iid='Microsoft Nokia N97 Smartphone (QWERTZ-T', r_ui=10.0, est=3.570724770523942, details={'actual_k': 10, 'was_impossible': False}),\n",
       " Prediction(uid='max', iid='BlackBerry 8800', r_ui=8.0, est=6.90918918918919, details={'actual_k': 1, 'was_impossible': False}),\n",
       " Prediction(uid='David', iid='Samsung Galaxy J5 Smartphone (5 Zoll (12', r_ui=10.0, est=9.920797192812744, details={'actual_k': 10, 'was_impossible': False}),\n",
       " Prediction(uid='Amazon Customer', iid='Motorola Moto Z Play with Style Mod (Bla', r_ui=10.0, est=8.6, details={'actual_k': 10, 'was_impossible': False}),\n",
       " Prediction(uid='Amazon Customer', iid='Lenovo Vibe K4 Note (Black, 16GB)', r_ui=10.0, est=8.8, details={'actual_k': 10, 'was_impossible': False}),\n",
       " Prediction(uid='Roberto', iid='HOMTOM HT7 3G WCDMA 5.5 \"IPS smartphone ', r_ui=2.0, est=8.597011906687197, details={'actual_k': 10, 'was_impossible': False}),\n",
       " Prediction(uid='Amazon Customer', iid='Asus Zenfone Max ZC550KL-6A068IN (Black,', r_ui=8.0, est=7.4, details={'actual_k': 10, 'was_impossible': False}),\n",
       " Prediction(uid='einer Kundin', iid='Apple iPhone 7 4,7\" 32 GB', r_ui=10.0, est=9.8, details={'actual_k': 10, 'was_impossible': False}),\n",
       " Prediction(uid='Cliente Amazon', iid='Apple iPhone 4S Smartphone, Bianco [Ital', r_ui=4.0, est=7.052770843359818, details={'actual_k': 10, 'was_impossible': False}),\n",
       " Prediction(uid='Jon', iid='BLU T176T Jenny TV 2.8 Unlocked Quad-Ban', r_ui=2.0, est=9.378254072135904, details={'actual_k': 5, 'was_impossible': False}),\n",
       " Prediction(uid='Amazon Customer', iid='HTC Desire 626G+ (8GB,Blue Lagoon)', r_ui=8.0, est=4.200000000000001, details={'actual_k': 10, 'was_impossible': False}),\n",
       " Prediction(uid='Amazon Customer', iid='OnePlus 3T (Gunmetal, 6GB RAM + 128GB me', r_ui=10.0, est=7.6, details={'actual_k': 10, 'was_impossible': False}),\n",
       " Prediction(uid='Anonym', iid='Nokia 6230i', r_ui=10.0, est=9.317178920387953, details={'actual_k': 5, 'was_impossible': False}),\n",
       " Prediction(uid='Cliente Amazon', iid='Cubot Note S - Smartphone libre Android ', r_ui=6.0, est=9.6, details={'actual_k': 10, 'was_impossible': False}),\n",
       " Prediction(uid='Amazon Customer', iid='BlackBerry PRIV Factory Unlocked Smartph', r_ui=10.0, est=7.6, details={'actual_k': 10, 'was_impossible': False}),\n",
       " Prediction(uid='einem Kunden', iid='Samsung Galaxy S7 Smartphone, 12,9 cm (5', r_ui=10.0, est=10, details={'actual_k': 10, 'was_impossible': False}),\n",
       " Prediction(uid='Cliente Amazon', iid='Sony Xperia Z3 Smartphone, 16 GB, Bianco', r_ui=10.0, est=8.371821958959325, details={'actual_k': 8, 'was_impossible': False}),\n",
       " Prediction(uid=\"Client d'Amazon\", iid='Samsung Galaxy A5 2016 Smartphone dÃ©blo', r_ui=8.0, est=6.6, details={'actual_k': 10, 'was_impossible': False}),\n",
       " Prediction(uid='Amazon Customer', iid='Mi Xiaomi Mi Max Prime (Gold, 128GB)', r_ui=2.0, est=7.8, details={'actual_k': 10, 'was_impossible': False}),\n",
       " Prediction(uid='Gianluca', iid='LG H410 Wine Smartphone Flip, 4 GB, Andr', r_ui=10.0, est=9.20835064095292, details={'actual_k': 10, 'was_impossible': False}),\n",
       " Prediction(uid='Anonymous ', iid='Samsung Galaxy S6 edge+ 32GB (AT&T)', r_ui=10.0, est=9.8, details={'actual_k': 10, 'was_impossible': False}),\n",
       " Prediction(uid='einer Kundin', iid='Apple iPhone 7 4,7\" 32 GB', r_ui=10.0, est=9.8, details={'actual_k': 10, 'was_impossible': False}),\n",
       " Prediction(uid='Amazon Customer', iid='OnePlus 3 (Graphite, 64 GB)', r_ui=10.0, est=7.6, details={'actual_k': 10, 'was_impossible': False}),\n",
       " Prediction(uid='Amazon Kunde', iid='Samsung Galaxy S4 Smartphone (5 Zoll (12', r_ui=10.0, est=6.645972823878298, details={'actual_k': 10, 'was_impossible': False}),\n",
       " Prediction(uid='Amazon Customer', iid='apple Iphone 4 Back glass cover (Black)', r_ui=10.0, est=7.757968404802109, details={'actual_k': 10, 'was_impossible': False}),\n",
       " Prediction(uid='Amazon Customer', iid='Sony Xperia Z3+ (Black, 32GB)', r_ui=8.0, est=5.6, details={'actual_k': 10, 'was_impossible': False}),\n",
       " Prediction(uid='einer Kundin', iid='Apple iPhone 7 4,7\" 32 GB', r_ui=10.0, est=9.8, details={'actual_k': 10, 'was_impossible': False}),\n",
       " Prediction(uid='Amazon Customer', iid='Micromax Canvas Knight 2 E471 (White-Cha', r_ui=4.0, est=6.2, details={'actual_k': 10, 'was_impossible': False}),\n",
       " Prediction(uid='Anonymous', iid='LG G2 Verizon VS980 White', r_ui=10.0, est=9.508738031526669, details={'actual_k': 10, 'was_impossible': False}),\n",
       " Prediction(uid='Ð\\x92Ð»Ð°Ð´Ð¸Ð¼Ð¸Ñ\\x80', iid='Sony Xperia J (Ñ\\x87ÐµÑ\\x80Ð½Ñ\\x8bÐ¹)', r_ui=10.0, est=7.126672783093238, details={'actual_k': 10, 'was_impossible': False}),\n",
       " Prediction(uid='Brian', iid='Tracfone LG TracFone 306G No Contract, 2', r_ui=10.0, est=7.265706084913858, details={'actual_k': 10, 'was_impossible': False}),\n",
       " Prediction(uid='Anonymous', iid='Samsung GT-S5360 Galaxy Y Smartphone HSD', r_ui=10.0, est=7.191004704895042, details={'actual_k': 7, 'was_impossible': False}),\n",
       " Prediction(uid='Amazon Customer', iid='Apple Straight Talk Apple iPhone 4 16gb', r_ui=10.0, est=3.5459245191443283, details={'actual_k': 10, 'was_impossible': False}),\n",
       " Prediction(uid='Anonymous ', iid='Samsung Galaxy S7 edge 32GB (T-Mobile)', r_ui=9.0, est=9.0, details={'actual_k': 10, 'was_impossible': False}),\n",
       " Prediction(uid='Amazon Customer', iid='Lenovo Vibe K4 Note (White,16GB)', r_ui=8.0, est=5.4, details={'actual_k': 10, 'was_impossible': False}),\n",
       " Prediction(uid='e-bit', iid='Smartphone Samsung Galaxy J3 SM-J320M', r_ui=10.0, est=8.8, details={'actual_k': 10, 'was_impossible': False}),\n",
       " Prediction(uid='Amazon Customer', iid='ZTE Axon 7 Mini - Factory Unlocked Phone', r_ui=10.0, est=8.4, details={'actual_k': 10, 'was_impossible': False}),\n",
       " Prediction(uid='Ruben', iid='HTC Droid Incredible 4G LTE 6410 8GB Ver', r_ui=10.0, est=2.9360725996638513, details={'actual_k': 4, 'was_impossible': False}),\n",
       " Prediction(uid=\"Client d'Amazon\", iid='Samsung Galaxy S5 Neo Smartphone dÃ©bloq', r_ui=10.0, est=8.2, details={'actual_k': 10, 'was_impossible': False}),\n",
       " Prediction(uid='Christian', iid='HTC TyTN II', r_ui=4.0, est=7.498464074293205, details={'actual_k': 3, 'was_impossible': False}),\n",
       " Prediction(uid='Amazon Customer', iid='BlackBerry Z3 (Black, 8GB)', r_ui=10.0, est=5.6, details={'actual_k': 10, 'was_impossible': False}),\n",
       " Prediction(uid='Cliente Amazon', iid='LG H340 Leon Smartphone, 8 GB, Marchio T', r_ui=8.0, est=8.8, details={'actual_k': 10, 'was_impossible': False}),\n",
       " Prediction(uid='Cliente Amazon', iid='Asus ZenFone 2 Laser Smartphone, Display', r_ui=2.0, est=8.8, details={'actual_k': 10, 'was_impossible': False}),\n",
       " Prediction(uid='Amazon Customer', iid='OnePlus 3 (Soft Gold, 64 GB)', r_ui=2.0, est=8.2, details={'actual_k': 10, 'was_impossible': False}),\n",
       " Prediction(uid='Ð\\x90Ð»ÐµÐºÑ\\x81Ð°Ð½Ð´Ñ\\x80', iid='Nokia 5230 Navigation Edition', r_ui=8.0, est=9.809417095711126, details={'actual_k': 10, 'was_impossible': False}),\n",
       " Prediction(uid='Francesco', iid='Lenovo Motorola Moto G Smartphone, 4,5 p', r_ui=10.0, est=8.600489137330959, details={'actual_k': 10, 'was_impossible': False}),\n",
       " Prediction(uid=\"Client d'Amazon\", iid='Samsung Galaxy S4 mini Smartphone dÃ©blo', r_ui=2.0, est=6.8, details={'actual_k': 10, 'was_impossible': False}),\n",
       " Prediction(uid='e-bit', iid='Smartphone Samsung Galaxy Gran Prime TV ', r_ui=10.0, est=8.8, details={'actual_k': 10, 'was_impossible': False}),\n",
       " Prediction(uid='Martina', iid='Samsung Galaxy J5 Smartphone, Oro [Itali', r_ui=10.0, est=7.849404466122746, details={'actual_k': 10, 'was_impossible': False}),\n",
       " Prediction(uid='einem Kunden', iid='Samsung Galaxy S7 edge Smartphone, 13,9 ', r_ui=8.0, est=9.8, details={'actual_k': 10, 'was_impossible': False}),\n",
       " Prediction(uid='roberto', iid='Huawei Ascend G7 Smartphone, 16 GB, Arge', r_ui=8.0, est=8.825136846760174, details={'actual_k': 10, 'was_impossible': False}),\n",
       " Prediction(uid='Cliente Amazon', iid='LG G3 8806084954985 4G 16GB Black smartp', r_ui=10.0, est=7.331599570565684, details={'actual_k': 10, 'was_impossible': False}),\n",
       " Prediction(uid='unknown', iid='Ð¡Ð¼Ð°Ñ\\x80Ñ\\x82Ñ\\x84Ð¾Ð½ Apple iPhone 5S 16Gb Sp', r_ui=10.0, est=5.6000000000000005, details={'actual_k': 10, 'was_impossible': False}),\n",
       " Prediction(uid='Cliente Amazon', iid='Samsung Galaxy S7 Smartphone, 32 GB, Ner', r_ui=2.0, est=9.4, details={'actual_k': 10, 'was_impossible': False}),\n",
       " Prediction(uid='einer Kundin', iid='ZTE Blade A452 Smartphone, 12,7 cm (5 Zo', r_ui=10.0, est=9.0, details={'actual_k': 10, 'was_impossible': False}),\n",
       " Prediction(uid='Carlos', iid='Motorola Moto X Pure Edition Unlocked Sm', r_ui=8.0, est=9.226141304837048, details={'actual_k': 10, 'was_impossible': False}),\n",
       " Prediction(uid='Amazon Kunde', iid='Samsung Galaxy A5 (2017) Smartphone (5,2', r_ui=10.0, est=6.895011839993913, details={'actual_k': 9, 'was_impossible': False}),\n",
       " Prediction(uid='Amazon Customer', iid='OnePlus 3 (Graphite, 64 GB)', r_ui=10.0, est=7.6, details={'actual_k': 10, 'was_impossible': False}),\n",
       " Prediction(uid='Henry', iid='LG Google Nexus 4 E960 16GB (GSM Unlocke', r_ui=10.0, est=8.959021056755612, details={'actual_k': 3, 'was_impossible': False}),\n",
       " Prediction(uid='Ð\\x9eÐ»Ñ\\x8cÐ³Ð°', iid='Sony Xperia J (Ñ\\x87ÐµÑ\\x80Ð½Ñ\\x8bÐ¹)', r_ui=9.0, est=8.373474386295277, details={'actual_k': 10, 'was_impossible': False}),\n",
       " Prediction(uid='e-bit', iid='Smartphone Lenovo Vibe K5', r_ui=10.0, est=8.6, details={'actual_k': 10, 'was_impossible': False}),\n",
       " Prediction(uid='luigi', iid='LG K10 Smartphone da 16 GB, Schermo IPS ', r_ui=8.0, est=10, details={'actual_k': 10, 'was_impossible': False}),\n",
       " Prediction(uid='cemdiler', iid='Apple iphone 3G 16GB Cep Telefonu', r_ui=8.0, est=8.0, details={'actual_k': 10, 'was_impossible': False}),\n",
       " Prediction(uid='Amazon Customer', iid='HTC Desire 10 Lifestyle (Stone Black, 32', r_ui=2.0, est=6.2, details={'actual_k': 10, 'was_impossible': False}),\n",
       " Prediction(uid='Cliente Amazon', iid='Samsung Galaxy J5 - Smartphone libre And', r_ui=10.0, est=9.0, details={'actual_k': 10, 'was_impossible': False}),\n",
       " Prediction(uid='Oscar', iid='Huawei P8 Lite 16GB, Black, Unlocked 4G ', r_ui=10.0, est=10, details={'actual_k': 10, 'was_impossible': False}),\n",
       " Prediction(uid='Amazon Customer', iid='Samsung Convoy 3, Gray (Verizon Wireless', r_ui=10.0, est=7.501842225352405, details={'actual_k': 10, 'was_impossible': False}),\n",
       " Prediction(uid='Andrew', iid='Samsung Galaxy Alpha G850a Unlocked Cell', r_ui=8.0, est=7.586771552228251, details={'actual_k': 10, 'was_impossible': False}),\n",
       " Prediction(uid='Amazon Customer', iid='VIVO V5 (Crown gold, 32 GB) (4 GB RAM)', r_ui=10.0, est=7.6, details={'actual_k': 10, 'was_impossible': False}),\n",
       " Prediction(uid='Amazon Customer', iid='Mi Xiaomi Mi Max (Gold, 32GB)', r_ui=8.0, est=6.4, details={'actual_k': 10, 'was_impossible': False}),\n",
       " Prediction(uid='Mario', iid='Honor 6 Smartphone (5 pollici, Touchscre', r_ui=10.0, est=9.170490027557355, details={'actual_k': 10, 'was_impossible': False}),\n",
       " Prediction(uid='Ð\\x9aÐ¸Ñ\\x80Ð¸Ð»Ð»', iid='Apple iPhone 5s 16GB (Ñ\\x81ÐµÑ\\x80ÐµÐ±Ñ\\x80Ð¸Ñ\\x81Ñ\\x82', r_ui=10.0, est=8.840643889126936, details={'actual_k': 10, 'was_impossible': False}),\n",
       " Prediction(uid='e-bit', iid='Smartphone Samsung Galaxy Gran Prime TV ', r_ui=8.0, est=8.8, details={'actual_k': 10, 'was_impossible': False}),\n",
       " Prediction(uid='einer Kundin', iid='Samsung Galaxy S7 Smartphone, 12,9 cm (5', r_ui=10.0, est=9.6, details={'actual_k': 10, 'was_impossible': False}),\n",
       " Prediction(uid='Cliente Amazon', iid='Samsung 903 Galaxy S5 Neo Smartphone, 16', r_ui=8.0, est=8.8, details={'actual_k': 10, 'was_impossible': False}),\n",
       " Prediction(uid='Amazon Customer', iid='Samsung Galaxy S4 Active, Dive Blue 16GB', r_ui=10.0, est=4.6000000000000005, details={'actual_k': 10, 'was_impossible': False}),\n",
       " Prediction(uid='e-bit', iid='Smartphone Samsung Galaxy Gran Prime SM-', r_ui=10.0, est=8.6, details={'actual_k': 10, 'was_impossible': False}),\n",
       " Prediction(uid='xawi', iid='Nokia N76 Cep Telefonu', r_ui=8.0, est=8.0, details={'actual_k': 10, 'was_impossible': False}),\n",
       " Prediction(uid='Amazon Customer', iid='BlackBerry Priv STV100-1 Unlocked Androi', r_ui=10.0, est=8.189038288775938, details={'actual_k': 10, 'was_impossible': False}),\n",
       " Prediction(uid='daniele', iid='Nokia Lumia 920 Smartphone, Nero [Italia', r_ui=10.0, est=10, details={'actual_k': 10, 'was_impossible': False}),\n",
       " Prediction(uid='Amazon Customer', iid='BLU Advance 4.5 Unlocked Dual SIM Phone ', r_ui=4.0, est=4.823108824667992, details={'actual_k': 5, 'was_impossible': False}),\n",
       " Prediction(uid='Amazon Customer', iid='Lenovo Vibe K4 Note (White,16GB)', r_ui=10.0, est=5.4, details={'actual_k': 10, 'was_impossible': False}),\n",
       " Prediction(uid='paolo', iid='Nokia Asha 210 Smartphone Dual SIM, Nero', r_ui=8.0, est=6.0426572342259455, details={'actual_k': 10, 'was_impossible': False}),\n",
       " Prediction(uid='Cliente Amazon', iid='Samsung Smartphone Samsung Galaxy J5 (20', r_ui=10.0, est=9.4, details={'actual_k': 10, 'was_impossible': False}),\n",
       " Prediction(uid='e-bit', iid='Smartphone Samsung Galaxy J7 SM-J700M', r_ui=8.0, est=9.2, details={'actual_k': 10, 'was_impossible': False}),\n",
       " Prediction(uid='Amazon Customer', iid='Motorola Moto G 3rd Generation (Black, 8', r_ui=8.0, est=6.6, details={'actual_k': 10, 'was_impossible': False}),\n",
       " Prediction(uid='mauro', iid='Alcatel One Touch Idol 3 Smartphone, 4.7', r_ui=10.0, est=9.622051830981615, details={'actual_k': 10, 'was_impossible': False}),\n",
       " Prediction(uid='Massimo', iid='Samsung Galaxy S Advance I9070 Smartphon', r_ui=8.0, est=9.847141776712741, details={'actual_k': 10, 'was_impossible': False}),\n",
       " Prediction(uid='Marta', iid='Nokia Lumia 635 Smartphone, 8 GB, Verde ', r_ui=10.0, est=8.716589609986004, details={'actual_k': 10, 'was_impossible': False}),\n",
       " Prediction(uid='Cliente Amazon', iid='Desconocido Xiaomi Redmi Note 2 - Smartp', r_ui=10.0, est=8.6, details={'actual_k': 10, 'was_impossible': False}),\n",
       " Prediction(uid='Cliente Amazon', iid='elephone P6000 Pro - Smartphone libero 4', r_ui=4.0, est=9.4, details={'actual_k': 10, 'was_impossible': False}),\n",
       " Prediction(uid='David', iid='Nokia 106 Mobile Phone - Black', r_ui=10.0, est=9.37877584495776, details={'actual_k': 6, 'was_impossible': False}),\n",
       " Prediction(uid='Amazon Customer', iid='OnePlus 3T (Gunmetal, 6GB RAM + 128GB me', r_ui=10.0, est=7.6, details={'actual_k': 10, 'was_impossible': False}),\n",
       " Prediction(uid='Amazon Customer', iid='Motorola Moto G Turbo (White, 16GB)', r_ui=2.0, est=5.6000000000000005, details={'actual_k': 10, 'was_impossible': False}),\n",
       " Prediction(uid='Ð\\x90Ñ\\x80Ñ\\x82Ñ\\x83Ñ\\x80', iid='Samsung Galaxy A3 (2016)', r_ui=10.0, est=9.5645288219069, details={'actual_k': 10, 'was_impossible': False}),\n",
       " Prediction(uid='Cliente Amazon', iid='Samsung A300 Galaxy A3 Smartphone, 16 GB', r_ui=10.0, est=7.8, details={'actual_k': 10, 'was_impossible': False}),\n",
       " Prediction(uid='Amazon Customer', iid='Motorola Moto G, 4th Gen (Black, 2 GB, 1', r_ui=2.0, est=4.4, details={'actual_k': 10, 'was_impossible': False}),\n",
       " Prediction(uid='joe', iid='Samsung Galaxy J3 2016 Sim Free Mobile P', r_ui=8.0, est=10, details={'actual_k': 10, 'was_impossible': False}),\n",
       " Prediction(uid='AnÃ³nimo ', iid='LG G3 D855', r_ui=10.0, est=8.6, details={'actual_k': 10, 'was_impossible': False}),\n",
       " Prediction(uid='Amazon Customer', iid='Samsung Galaxy S4 Mini GT-i9195i Unlocke', r_ui=4.0, est=8.667058222942947, details={'actual_k': 4, 'was_impossible': False}),\n",
       " Prediction(uid='Amazon Customer', iid='Lenovo Vibe K4 Note (White,16GB)', r_ui=8.0, est=5.4, details={'actual_k': 10, 'was_impossible': False}),\n",
       " Prediction(uid='Antonio', iid='Microsoft Lumia 640 - Smartphone libre W', r_ui=10.0, est=7.931310364695796, details={'actual_k': 10, 'was_impossible': False}),\n",
       " Prediction(uid='Ð¢Ð°Ñ\\x82Ñ\\x8cÑ\\x8fÐ½Ð°', iid='HTC Desire V', r_ui=8.0, est=7.192000958671488, details={'actual_k': 10, 'was_impossible': False}),\n",
       " Prediction(uid='Cliente Amazon', iid='Samsung Galaxy J5 - Smartphone libre And', r_ui=10.0, est=9.0, details={'actual_k': 10, 'was_impossible': False}),\n",
       " Prediction(uid='#', iid='Sony Ericsson K750i', r_ui=8.0, est=6.384738519484282, details={'actual_k': 5, 'was_impossible': False}),\n",
       " Prediction(uid='Ð\\x98Ñ\\x80Ð¸Ð½Ð°', iid='Nokia 5230 Navigation Edition', r_ui=10.0, est=7.825464827731586, details={'actual_k': 10, 'was_impossible': False}),\n",
       " Prediction(uid='Lucia', iid='Samsung G935 Galaxy S7 Edge Smartphone d', r_ui=10.0, est=10, details={'actual_k': 10, 'was_impossible': False}),\n",
       " Prediction(uid='e-bit', iid='Smartphone Asus ZenFone 3 ZE520KL', r_ui=10.0, est=9.2, details={'actual_k': 10, 'was_impossible': False}),\n",
       " Prediction(uid='Eduardo', iid='Samsung Galaxy S3 mini - Smartphone libr', r_ui=6.0, est=6.8243212055969895, details={'actual_k': 10, 'was_impossible': False}),\n",
       " Prediction(uid='Ð\\x94Ð¼Ð¸Ñ\\x82Ñ\\x80Ð¸Ð¹', iid='Sony Xperia Z (Ð±ÐµÐ»Ñ\\x8bÐ¹)', r_ui=6.0, est=9.5, details={'actual_k': 10, 'was_impossible': False}),\n",
       " Prediction(uid='Amazon Customer', iid='HTC Desire 620G Dual SIM (Milkyway Grey,', r_ui=6.0, est=4.6000000000000005, details={'actual_k': 10, 'was_impossible': False}),\n",
       " Prediction(uid='Amazon Customer', iid='Asus Zenfone Max ZC550KL (White, 2GB, 16', r_ui=10.0, est=7.0, details={'actual_k': 10, 'was_impossible': False}),\n",
       " Prediction(uid='Cliente Amazon', iid='Asus ZenFone 2 Laser Smartphone, Display', r_ui=8.0, est=8.8, details={'actual_k': 10, 'was_impossible': False}),\n",
       " Prediction(uid='Matteo', iid='Nokia Lumia 925 Smartphone, Nero [Italia', r_ui=6.0, est=9.140570047352428, details={'actual_k': 10, 'was_impossible': False}),\n",
       " Prediction(uid='Anja', iid='Huawei Ascend Mate 7 Smartphone (6 Zoll ', r_ui=10.0, est=9.07107752688933, details={'actual_k': 10, 'was_impossible': False}),\n",
       " Prediction(uid='Cliente Amazon', iid='Honor 7 - Smartphone libre de 5.2\" (4G, ', r_ui=6.0, est=9.8, details={'actual_k': 10, 'was_impossible': False}),\n",
       " Prediction(uid='Klaus', iid='Microsoft Nokia 6303i Handy (Kamera mit ', r_ui=8.0, est=9.994214277515951, details={'actual_k': 10, 'was_impossible': False}),\n",
       " Prediction(uid='Anonymous', iid='Nokia N82', r_ui=1.0, est=5.494602731554684, details={'actual_k': 10, 'was_impossible': False}),\n",
       " Prediction(uid='Christian', iid='ZTE Awe N800 Black (Virgin Mobile)', r_ui=2.0, est=8.853863787525354, details={'actual_k': 8, 'was_impossible': False}),\n",
       " Prediction(uid='Amazon Customer', iid='Microsoft Lumia 640 (Black, 8GB)', r_ui=10.0, est=8.2, details={'actual_k': 10, 'was_impossible': False}),\n",
       " Prediction(uid='einem Kunden', iid='Samsung Galaxy S7 edge Smartphone, 13,9 ', r_ui=10.0, est=9.8, details={'actual_k': 10, 'was_impossible': False}),\n",
       " Prediction(uid='Daniel', iid='Blackview BV6000 - IP68 Android 6.0 Smar', r_ui=10.0, est=4.282363848387126, details={'actual_k': 10, 'was_impossible': False}),\n",
       " Prediction(uid='Amazon Customer', iid='BLU Advance 4.0 L2 - US GSM Unlocked Pho', r_ui=6.0, est=5.6, details={'actual_k': 10, 'was_impossible': False}),\n",
       " Prediction(uid='michele', iid='Motorola Moto X Smartphone, 4,7 pollici ', r_ui=10.0, est=9.162651480247632, details={'actual_k': 10, 'was_impossible': False}),\n",
       " Prediction(uid='Amazon Customer', iid='CUBOT 3G Smartphone CUBOT GT72+ GT72 PLU', r_ui=10.0, est=5.75475816611321, details={'actual_k': 3, 'was_impossible': False}),\n",
       " Prediction(uid='Manu', iid='Lenovo Motorola Moto X Smartphone (11,9 ', r_ui=10.0, est=9.696210861837665, details={'actual_k': 2, 'was_impossible': False}),\n",
       " Prediction(uid='Amazon Customer', iid='HTC DROID INCREDIBLE ADR 6300 3G Android', r_ui=10.0, est=6.044979157260874, details={'actual_k': 7, 'was_impossible': False}),\n",
       " Prediction(uid='Rahul', iid='Microsoft Lumia 640 (Black, 8GB)', r_ui=10.0, est=8.848899999686921, details={'actual_k': 10, 'was_impossible': False}),\n",
       " Prediction(uid='Ð\\x9cÐ°Ñ\\x80Ð¸Ñ\\x8f', iid='Apple iPhone 5s 16GB (Ñ\\x81ÐµÑ\\x80ÐµÐ±Ñ\\x80Ð¸Ñ\\x81Ñ\\x82', r_ui=4.0, est=9.6, details={'actual_k': 10, 'was_impossible': False}),\n",
       " Prediction(uid='Amazon Customer', iid='Samsung GALAXY S6 G920 32GB Unlocked GSM', r_ui=4.0, est=6.098094416053801, details={'actual_k': 8, 'was_impossible': False}),\n",
       " Prediction(uid='Amazon Customer', iid='Lenovo Vibe K5 (Grey, VoLTE update)', r_ui=2.0, est=6.6, details={'actual_k': 10, 'was_impossible': False}),\n",
       " Prediction(uid='Amazon Customer', iid='OnePlus 3 (Graphite, 64 GB)', r_ui=6.0, est=7.6, details={'actual_k': 10, 'was_impossible': False}),\n",
       " Prediction(uid='Amazon Customer', iid='LG ZTHY Google Nexus 5 LG D820 D821 2300', r_ui=10.0, est=8.020009102178983, details={'actual_k': 6, 'was_impossible': False}),\n",
       " Prediction(uid='Ð¡ÐµÑ\\x80Ð³ÐµÐ¹', iid='Sony Xperia L (Ð±ÐµÐ»Ñ\\x8bÐ¹)', r_ui=4.0, est=8.941985518049401, details={'actual_k': 10, 'was_impossible': False}),\n",
       " Prediction(uid='Jose', iid='Sony Xperia T', r_ui=8.0, est=8.334309133489462, details={'actual_k': 1, 'was_impossible': False}),\n",
       " Prediction(uid='Michelle', iid='APPLE iPhone 6s Plus - 128 GB, Rose Gold', r_ui=10.0, est=9.060461668216265, details={'actual_k': 10, 'was_impossible': False}),\n",
       " Prediction(uid='Amazon Customer', iid='OnePlus 3 (Soft Gold, 64 GB)', r_ui=10.0, est=8.2, details={'actual_k': 10, 'was_impossible': False}),\n",
       " Prediction(uid='AndrÃ©', iid='Microsoft Lumia 640 Dual-SIM Smartphone ', r_ui=10.0, est=7.342372818452913, details={'actual_k': 10, 'was_impossible': False}),\n",
       " Prediction(uid='Amazon Customer', iid='Lenovo Vibe K4 Note (White,16GB)', r_ui=8.0, est=5.4, details={'actual_k': 10, 'was_impossible': False}),\n",
       " Prediction(uid='Amazon Customer', iid='Honor 6X (Gold, 32GB)', r_ui=10.0, est=7.2, details={'actual_k': 10, 'was_impossible': False}),\n",
       " Prediction(uid='e-bit', iid='Smartphone Samsung Galaxy J2 SM-J200M', r_ui=10.0, est=8.2, details={'actual_k': 10, 'was_impossible': False}),\n",
       " Prediction(uid='Andrea', iid='LG G5 Smartphone da 32 GB, 5.3\" QHD, 4G ', r_ui=8.0, est=9.249511410004727, details={'actual_k': 10, 'was_impossible': False}),\n",
       " Prediction(uid='Roberto', iid='Siemens C55', r_ui=8.0, est=7.6119157480060435, details={'actual_k': 3, 'was_impossible': False}),\n",
       " Prediction(uid='Lisa', iid='HTC One S Grey', r_ui=9.0, est=9.131715373220443, details={'actual_k': 10, 'was_impossible': False}),\n",
       " Prediction(uid='Amazon Customer', iid='Lenovo Vibe K5 (Grey, VoLTE update)', r_ui=10.0, est=6.6, details={'actual_k': 10, 'was_impossible': False}),\n",
       " Prediction(uid='Amazon Customer', iid='Nokia 130 Dual SIM (Red)', r_ui=8.0, est=8.2, details={'actual_k': 10, 'was_impossible': False}),\n",
       " Prediction(uid='e-bit', iid='Smartphone LG G3 D855', r_ui=10.0, est=8.8, details={'actual_k': 10, 'was_impossible': False}),\n",
       " Prediction(uid='francesco', iid='Huawei P8 Lite Smartphone, Display 5\" IP', r_ui=6.0, est=10, details={'actual_k': 10, 'was_impossible': False}),\n",
       " Prediction(uid='Sunny', iid='Samsung Galaxy S7 edge', r_ui=8.0, est=8.929490352449953, details={'actual_k': 10, 'was_impossible': False}),\n",
       " Prediction(uid='Lucas', iid='Honor 6 4G UK Smartphone (5 inch, Touchs', r_ui=10.0, est=2.7228186598626207, details={'actual_k': 2, 'was_impossible': False}),\n",
       " Prediction(uid='Riccardo', iid='Lenovo Motorola Moto G Smartphone, Displ', r_ui=10.0, est=9.534538308252554, details={'actual_k': 10, 'was_impossible': False}),\n",
       " Prediction(uid='Luigi', iid='Acer Liquid E2 Duo Smartphone, Nero [Fra', r_ui=8.0, est=9.917445454146343, details={'actual_k': 10, 'was_impossible': False}),\n",
       " Prediction(uid='MarÃ\\xada', iid='Doogee X5 MAX PRO - Mejorado 2 GB de RAM', r_ui=8.0, est=6.185838355145897, details={'actual_k': 10, 'was_impossible': False}),\n",
       " Prediction(uid='einem Kunden', iid='Samsung Galaxy A3 (2016) - A310F Smartph', r_ui=10.0, est=9.8, details={'actual_k': 10, 'was_impossible': False}),\n",
       " Prediction(uid='michele', iid='Nokia Lumia 520 Smartphone, Black [Itali', r_ui=4.0, est=9.270809553272494, details={'actual_k': 10, 'was_impossible': False}),\n",
       " Prediction(uid='deliyaz', iid='Nokia 6500c Cep Telefonu', r_ui=8.0, est=8.0, details={'actual_k': 10, 'was_impossible': False}),\n",
       " Prediction(uid='Luciano', iid='Smartphone Samsung Galaxy S Duos 2 Branc', r_ui=8.0, est=8.23508264642631, details={'actual_k': 5, 'was_impossible': False}),\n",
       " Prediction(uid='Amazon Customer', iid='OnePlus 3 (Graphite, 64 GB)', r_ui=10.0, est=7.6, details={'actual_k': 10, 'was_impossible': False}),\n",
       " Prediction(uid='Cliente Amazon', iid='DOOGEE VALENCIA2 Y100 Pro 5.0 Pollici HD', r_ui=10.0, est=8.8, details={'actual_k': 10, 'was_impossible': False}),\n",
       " Prediction(uid='Mike', iid='LG Optimus L9 Unlocked GSM 4.5\" Touch Sc', r_ui=10.0, est=10, details={'actual_k': 1, 'was_impossible': False}),\n",
       " Prediction(uid='Amazon Customer', iid='OnePlus 3 A3000 64GB Graphite, 5.5\", Dua', r_ui=6.0, est=5.992861748207333, details={'actual_k': 6, 'was_impossible': False}),\n",
       " Prediction(uid='Amazon Customer', iid='OnePlus 3 (Graphite, 64 GB)', r_ui=10.0, est=7.6, details={'actual_k': 10, 'was_impossible': False}),\n",
       " Prediction(uid='Amazon Customer', iid='Lenovo Vibe K4 Note (Black, 16GB)', r_ui=2.0, est=8.8, details={'actual_k': 10, 'was_impossible': False}),\n",
       " Prediction(uid='Amazon Customer', iid='Lenovo A1000 (White)', r_ui=10.0, est=6.4, details={'actual_k': 10, 'was_impossible': False}),\n",
       " Prediction(uid='e-bit', iid='Smartphone Motorola Moto X 2Âª GeraÃ§Ã£o', r_ui=10.0, est=8.4, details={'actual_k': 10, 'was_impossible': False}),\n",
       " Prediction(uid='Amazon Customer', iid='Samsung S7710 Galaxy Xcover 2 Smartphone', r_ui=8.0, est=8.482677540625023, details={'actual_k': 10, 'was_impossible': False}),\n",
       " Prediction(uid='Amazon Customer', iid='Lenovo Used Lenovo Zuk Z1 (Space Grey, 6', r_ui=4.0, est=5.6, details={'actual_k': 10, 'was_impossible': False}),\n",
       " Prediction(uid='Amazon Customer', iid='Mi Xiaomi Mi 4 (White, 16GB)', r_ui=8.0, est=8.0, details={'actual_k': 10, 'was_impossible': False}),\n",
       " Prediction(uid='Amazon Customer', iid='OnePlus 3T (Soft Gold, 6GB RAM + 64GB me', r_ui=8.0, est=9.600000000000001, details={'actual_k': 10, 'was_impossible': False}),\n",
       " Prediction(uid='Amazon Customer', iid='Nokia 130 Dual SIM (Red)', r_ui=8.0, est=8.2, details={'actual_k': 10, 'was_impossible': False}),\n",
       " Prediction(uid='Amazon Kunde', iid='Huawei Mate 9 (20 MP + 12 MP Leica Dual-', r_ui=8.0, est=7.316929170319619, details={'actual_k': 10, 'was_impossible': False}),\n",
       " Prediction(uid='Ð\\x90Ð»ÐµÐºÑ\\x81Ð°Ð½Ð´Ñ\\x80', iid='ASUS ZenFone 3 Max ZC520TL 16GB (Ñ\\x81ÐµÑ\\x80Ð', r_ui=8.0, est=7.960729812633516, details={'actual_k': 10, 'was_impossible': False}),\n",
       " Prediction(uid='Amazon Customer', iid='Lenovo Phab 2 Plus Smartphone (Grey, JBL', r_ui=10.0, est=5.6, details={'actual_k': 10, 'was_impossible': False}),\n",
       " Prediction(uid='Amazon Customer', iid='Huawei Honor 5X Unlocked Smartphone, 16G', r_ui=8.0, est=8.600000000000001, details={'actual_k': 10, 'was_impossible': False}),\n",
       " Prediction(uid='Anonymous ', iid='Samsung Galaxy S6 32GB (T-Mobile)', r_ui=8.0, est=9.1, details={'actual_k': 10, 'was_impossible': False}),\n",
       " Prediction(uid='Anja', iid='Huawei P9 lite Smartphone VNS-L31 (5,2 Z', r_ui=10.0, est=8.589639774970209, details={'actual_k': 10, 'was_impossible': False}),\n",
       " Prediction(uid='Victor', iid='Sim Free iPhone 7 32GB Mobile Phone - Bl', r_ui=10.0, est=9.322934068215506, details={'actual_k': 4, 'was_impossible': False}),\n",
       " Prediction(uid='UK Guest', iid='Nokia 6610i', r_ui=8.0, est=8.0, details={'actual_k': 3, 'was_impossible': False}),\n",
       " Prediction(uid='einer Kundin', iid='Apple iPhone 6s 4,7\" 128 GB', r_ui=6.0, est=10, details={'actual_k': 10, 'was_impossible': False}),\n",
       " Prediction(uid='Amazon Customer', iid='LG Nexus 5X LG-H791 (16GB, Carbon)', r_ui=6.0, est=7.6, details={'actual_k': 10, 'was_impossible': False}),\n",
       " Prediction(uid='Amazon Customer', iid='Motorola Nexus 6 Unlocked Smartphone, 32', r_ui=2.0, est=7.8, details={'actual_k': 10, 'was_impossible': False}),\n",
       " Prediction(uid='Ð\\x92Ñ\\x8fÑ\\x87ÐµÑ\\x81Ð»Ð°Ð²', iid='HTC Desire S', r_ui=10.0, est=8.643815669697569, details={'actual_k': 10, 'was_impossible': False}),\n",
       " Prediction(uid='e-bit', iid='Celular Motorola EX115', r_ui=6.0, est=6.200000000000001, details={'actual_k': 10, 'was_impossible': False}),\n",
       " Prediction(uid='Ð\\x90Ñ\\x80Ñ\\x82ÐµÐ¼', iid='Samsung S7270 Galaxy Ace 3 (Ñ\\x87ÐµÑ\\x80Ð½Ñ\\x8bÐ¹', r_ui=8.0, est=8.450989438086683, details={'actual_k': 10, 'was_impossible': False}),\n",
       " Prediction(uid='Amazon Customer', iid='Samsung Galaxy J7 SM-J700F (Black, 16GB)', r_ui=6.0, est=7.0, details={'actual_k': 10, 'was_impossible': False}),\n",
       " Prediction(uid='Ryan', iid='Nokia 6555', r_ui=9.0, est=7.719842863040312, details={'actual_k': 6, 'was_impossible': False}),\n",
       " Prediction(uid='Amazon Customer', iid='Sony Xperia Z3 Plus E6533 32GB Aqua Gree', r_ui=10.0, est=8.254208123150875, details={'actual_k': 10, 'was_impossible': False}),\n",
       " Prediction(uid='Amazon Customer', iid='Asus Zenfone 5 A501CG (Black, 16GB)', r_ui=2.0, est=7.333333333333333, details={'actual_k': 3, 'was_impossible': False}),\n",
       " Prediction(uid='Ð\\x9aÐ¸Ñ\\x80Ð¸Ð»Ð»', iid='Samsung S5620 Monte', r_ui=10.0, est=8.094497066983108, details={'actual_k': 10, 'was_impossible': False}),\n",
       " Prediction(uid='Amazon Customer', iid='Lenovo Vibe K4 Note (White,16GB)', r_ui=8.0, est=5.4, details={'actual_k': 10, 'was_impossible': False}),\n",
       " Prediction(uid='Amazon Customer', iid='OnePlus 3 (Soft Gold, 64 GB)', r_ui=6.0, est=8.2, details={'actual_k': 10, 'was_impossible': False}),\n",
       " Prediction(uid=\"Client d'Amazon\", iid='iVoler Samsung Galaxy A3 (2016) Protecti', r_ui=6.0, est=4.8, details={'actual_k': 10, 'was_impossible': False}),\n",
       " Prediction(uid='Amazon Customer', iid='Lumia Microsoft Nokia Lumia 640 RM-1073 ', r_ui=10.0, est=7.2, details={'actual_k': 10, 'was_impossible': False}),\n",
       " Prediction(uid='Amazon Customer', iid='Lenovo Used Lenovo Zuk Z1 (Space Grey, 6', r_ui=2.0, est=5.6, details={'actual_k': 10, 'was_impossible': False}),\n",
       " Prediction(uid='Amazon Customer', iid='Microsoft Nokia Lumia 625 Smartphone (4,', r_ui=10.0, est=5.61764932908776, details={'actual_k': 10, 'was_impossible': False}),\n",
       " Prediction(uid='Cliente Amazon', iid='Microsoft Lumia 950 XL Smartphone, 5.7\",', r_ui=10.0, est=9.0, details={'actual_k': 10, 'was_impossible': False}),\n",
       " Prediction(uid='Amazon Customer', iid='Lenovo Vibe K4 Note (White,16GB)', r_ui=6.0, est=5.4, details={'actual_k': 10, 'was_impossible': False}),\n",
       " Prediction(uid='Rachel', iid='Samsung Galaxy Grand Prime Dual Sim Fact', r_ui=6.0, est=9.055208933292988, details={'actual_k': 10, 'was_impossible': False}),\n",
       " Prediction(uid='Ben', iid='LG Electronics P760 Optimus L9 Smartphon', r_ui=10.0, est=8.014150240802545, details={'actual_k': 6, 'was_impossible': False}),\n",
       " Prediction(uid='Amazon Customer', iid='OnePlus X (Onyx, 16GB)', r_ui=8.0, est=6.4, details={'actual_k': 10, 'was_impossible': False}),\n",
       " Prediction(uid='Cliente Amazon', iid='BQ Aquaris X5 - Smartphone de 5\" (WiFi, ', r_ui=4.0, est=8.0, details={'actual_k': 10, 'was_impossible': False}),\n",
       " Prediction(uid='Amazon Customer', iid='Lenovo Vibe K5 (Gold, VoLTE update)', r_ui=6.0, est=5.4, details={'actual_k': 10, 'was_impossible': False}),\n",
       " Prediction(uid='anneme', iid='Nokia 6300 Cep Telefonu', r_ui=8.0, est=8.0, details={'actual_k': 10, 'was_impossible': False}),\n",
       " Prediction(uid='Amazon Customer', iid='Huawei Nexus 6P unlocked smartphone, 32G', r_ui=10.0, est=8.4, details={'actual_k': 10, 'was_impossible': False}),\n",
       " Prediction(uid='Ð\\x90Ð½Ñ\\x82Ð¾Ð½', iid='Sony Xperia ZR (Ñ\\x87ÐµÑ\\x80Ð½Ñ\\x8bÐ¹)', r_ui=10.0, est=8.849224567588438, details={'actual_k': 10, 'was_impossible': False}),\n",
       " Prediction(uid='Cliente Amazon', iid='Huawei P9 Lite Smartphone, LTE, Display ', r_ui=10.0, est=8.8, details={'actual_k': 10, 'was_impossible': False}),\n",
       " Prediction(uid='Amazon Customer', iid='Samsung Galaxy Note 4, Charcoal Black 32', r_ui=6.0, est=8.0, details={'actual_k': 10, 'was_impossible': False}),\n",
       " Prediction(uid='Amazon Customer', iid='Samsung Galaxy J5 SM-J500F (Gold, 8GB)', r_ui=10.0, est=7.2, details={'actual_k': 10, 'was_impossible': False}),\n",
       " Prediction(uid='Amazon Customer', iid='Samsung Galaxy S6, Black Sapphire 32GB (', r_ui=10.0, est=6.4, details={'actual_k': 10, 'was_impossible': False}),\n",
       " Prediction(uid='stefano', iid='Nokia Asha 200 Telefono Cellulare, Dual ', r_ui=10.0, est=7.526130579548829, details={'actual_k': 6, 'was_impossible': False}),\n",
       " Prediction(uid='Ð\\x95Ð²Ð³ÐµÐ½Ð¸Ð¹', iid='Sony Xperia Z1 Compact (Ñ\\x87ÐµÑ\\x80Ð½Ñ\\x8bÐ¹)', r_ui=8.0, est=8.581850612585379, details={'actual_k': 10, 'was_impossible': False}),\n",
       " Prediction(uid='Amazon Customer', iid='Asus ZenFone 2 Unlocked Cellphone, 64GB,', r_ui=4.0, est=7.2, details={'actual_k': 10, 'was_impossible': False}),\n",
       " Prediction(uid='Amazon Customer', iid='Motorola Moto G, 4th Gen (Black, 2 GB, 1', r_ui=2.0, est=4.4, details={'actual_k': 10, 'was_impossible': False}),\n",
       " Prediction(uid='Amazon Customer', iid='HTC Droid Incredible 4G LTE 6410 8GB Ver', r_ui=10.0, est=4.132267854985827, details={'actual_k': 5, 'was_impossible': False}),\n",
       " Prediction(uid='Cliente Amazon', iid='Samsung G920 Galaxy S6 Smartphone, 32 GB', r_ui=10.0, est=9.2, details={'actual_k': 10, 'was_impossible': False}),\n",
       " Prediction(uid='Amazon Customer', iid='Motorola Moto G, 4th Gen (Black, 2 GB, 1', r_ui=10.0, est=4.4, details={'actual_k': 10, 'was_impossible': False}),\n",
       " Prediction(uid='Amazon Customer', iid='Mi 4i (Grey, 16GB)', r_ui=10.0, est=4.800000000000001, details={'actual_k': 10, 'was_impossible': False}),\n",
       " Prediction(uid='einer Kundin', iid='Apple iPhone 7 4,7\" 32 GB', r_ui=10.0, est=9.8, details={'actual_k': 10, 'was_impossible': False}),\n",
       " Prediction(uid='Giuseppe', iid='Asus ZenFone 3 Max Smartphone, Memoria I', r_ui=10.0, est=7.379888963872834, details={'actual_k': 10, 'was_impossible': False}),\n",
       " Prediction(uid='Kelly', iid='Sony Phones Xperia U Sim Free Smartphone', r_ui=10.0, est=7.385211822305287, details={'actual_k': 7, 'was_impossible': False}),\n",
       " Prediction(uid='Frank', iid='Lenovo Motorola Moto G LTE Smartphone, D', r_ui=10.0, est=8.767822938147264, details={'actual_k': 10, 'was_impossible': False}),\n",
       " Prediction(uid='Amazon Customer', iid='Motorola Moto X Pure Edition Unlocked Sm', r_ui=8.0, est=9.0, details={'actual_k': 10, 'was_impossible': False}),\n",
       " Prediction(uid='Anonymous', iid='ASUS Zenfone 2 Unlocked Smart Phone, 5.5', r_ui=10.0, est=6.0, details={'actual_k': 10, 'was_impossible': False}),\n",
       " Prediction(uid='Amazon Customer', iid='Micromax Sliver 5 Q450 (Black)', r_ui=8.0, est=7.6, details={'actual_k': 10, 'was_impossible': False}),\n",
       " Prediction(uid='Amazon Customer', iid='Nokia Lumia 520 GSM Unlock 3G Phone, 4-I', r_ui=10.0, est=7.2, details={'actual_k': 10, 'was_impossible': False}),\n",
       " Prediction(uid='Amazon Customer', iid='OnePlus 3 (Soft Gold, 64 GB)', r_ui=10.0, est=8.2, details={'actual_k': 10, 'was_impossible': False}),\n",
       " Prediction(uid='Amazon Customer', iid='Lenovo Vibe K4 Note (White,16GB)', r_ui=8.0, est=5.4, details={'actual_k': 10, 'was_impossible': False}),\n",
       " Prediction(uid='Andi', iid='Samsung Galaxy YOUNG 2 Smartphone (8,89 ', r_ui=8.0, est=7.556255423392509, details={'actual_k': 2, 'was_impossible': False}),\n",
       " Prediction(uid='Amazon Customer', iid='Asus AT&T Zenfone 2E (AT&T Go Phone) No ', r_ui=8.0, est=6.2, details={'actual_k': 10, 'was_impossible': False}),\n",
       " Prediction(uid='Jean', iid='Apple iPhone 3GS', r_ui=10.0, est=7.965182493168875, details={'actual_k': 3, 'was_impossible': False}),\n",
       " Prediction(uid='Amazon Customer', iid='YU Yuphoria YU5010A (Black+Silver)', r_ui=8.0, est=7.6, details={'actual_k': 10, 'was_impossible': False}),\n",
       " Prediction(uid='Amazon Customer', iid='Lenovo Vibe K5 (Grey, VoLTE update)', r_ui=6.0, est=6.6, details={'actual_k': 10, 'was_impossible': False}),\n",
       " Prediction(uid='Amazon Customer', iid='OnePlus 2 (Sandstone Black, 64GB)', r_ui=2.0, est=5.4, details={'actual_k': 10, 'was_impossible': False}),\n",
       " Prediction(uid='einem Kunden', iid='Apple iPhone 7 Plus 5,5\" 128 GB', r_ui=10.0, est=10, details={'actual_k': 10, 'was_impossible': False}),\n",
       " Prediction(uid='Ð\\x98Ð³Ð¾Ñ\\x80Ñ\\x8c', iid='Sony Xperia Z1 Compact (Ð±ÐµÐ»Ñ\\x8bÐ¹)', r_ui=9.0, est=9.205395001866236, details={'actual_k': 10, 'was_impossible': False}),\n",
       " Prediction(uid='Stefan', iid='Samsung Galaxy S Duos S7562 Smartphone (', r_ui=10.0, est=8.293361503730715, details={'actual_k': 9, 'was_impossible': False}),\n",
       " Prediction(uid='Amazon Customer', iid='OnePlus 3 (Graphite, 64 GB)', r_ui=6.0, est=7.6, details={'actual_k': 10, 'was_impossible': False}),\n",
       " Prediction(uid='Vincenzo', iid='Microsoft Lumia 650 Smartphone da 16GB, ', r_ui=8.0, est=7.961201989954854, details={'actual_k': 10, 'was_impossible': False}),\n",
       " Prediction(uid='Carlos', iid='Desconocido Xiaomi Redmi 2 - Smartphone ', r_ui=8.0, est=8.02107268378709, details={'actual_k': 10, 'was_impossible': False}),\n",
       " Prediction(uid='Linda', iid='BLU Studio 5.0 C HD Smartphone - Unlocke', r_ui=2.0, est=9.635282498262795, details={'actual_k': 5, 'was_impossible': False}),\n",
       " Prediction(uid='Ð\\x90Ð»ÐµÐºÑ\\x81Ð°Ð½Ð´Ñ\\x80', iid='Ð\\x9cÐ¾Ð±Ð¸Ð»Ñ\\x8cÐ½Ñ\\x8bÐ¹ Ñ\\x82ÐµÐ»ÐµÑ\\x84Ð¾Ð½ Lenovo', r_ui=8.0, est=9.588175006987353, details={'actual_k': 10, 'was_impossible': False}),\n",
       " Prediction(uid='Francesco', iid='Nokia Lumia 820 Smartphone, Nero [Italia', r_ui=10.0, est=8.676823367984028, details={'actual_k': 10, 'was_impossible': False}),\n",
       " Prediction(uid='Lisa', iid='Huawei P8 Champagne / 16 GB - Overzicht', r_ui=7.0, est=8.04435152067123, details={'actual_k': 10, 'was_impossible': False}),\n",
       " Prediction(uid='cinderella', iid='Nokia 6500c Cep Telefonu', r_ui=8.0, est=8.0, details={'actual_k': 10, 'was_impossible': False}),\n",
       " Prediction(uid='Stefan', iid='Samsung Galaxy S3 mini I8190 Smartphone ', r_ui=8.0, est=8.633799181255968, details={'actual_k': 10, 'was_impossible': False}),\n",
       " Prediction(uid='Amazon Customer', iid='ZTE Nubia Z9 Mini (Black, 16GB)', r_ui=10.0, est=7.0, details={'actual_k': 10, 'was_impossible': False}),\n",
       " Prediction(uid='Amazon Customer', iid='Lenovo A1000 (Black)', r_ui=10.0, est=6.4, details={'actual_k': 10, 'was_impossible': False}),\n",
       " Prediction(uid='???????????? ????????', iid='Apple iPhone 4S 16Gb', r_ui=6.0, est=9.851165884181661, details={'actual_k': 6, 'was_impossible': False}),\n",
       " Prediction(uid='Amazon Customer', iid='SPIGEN Neo Hybrid Galaxy S6 Edge Case wi', r_ui=10.0, est=9.0, details={'actual_k': 10, 'was_impossible': False}),\n",
       " Prediction(uid='Paola', iid='Asus ZenFone Go 5\" Smartphone, 8 GB, Dua', r_ui=10.0, est=10, details={'actual_k': 10, 'was_impossible': False}),\n",
       " Prediction(uid='Amazon Customer', iid='Motorola Moto G Turbo (Black, 16GB)', r_ui=10.0, est=9.200000000000001, details={'actual_k': 10, 'was_impossible': False}),\n",
       " Prediction(uid='einer Kundin', iid='ZTE Blade A452 Smartphone, 12,7 cm (5 Zo', r_ui=10.0, est=9.0, details={'actual_k': 10, 'was_impossible': False}),\n",
       " Prediction(uid='Anonymous ', iid='Samsung Galaxy S III Mini 8 GB (Verizon)', r_ui=10.0, est=9.0, details={'actual_k': 2, 'was_impossible': False}),\n",
       " Prediction(uid='Amazon Customer', iid='OnePlus 3 (Graphite, 64 GB)', r_ui=2.0, est=7.6, details={'actual_k': 10, 'was_impossible': False}),\n",
       " Prediction(uid='Ð®Ñ\\x80Ð¸Ð¹', iid='HTC Desire HD', r_ui=10.0, est=8.984584390306019, details={'actual_k': 9, 'was_impossible': False}),\n",
       " Prediction(uid='Ð\\x94Ð¼Ð¸Ñ\\x82Ñ\\x80Ð¸Ð¹', iid='Sony Xperia C (Ñ\\x84Ð¸Ð¾Ð»ÐµÑ\\x82Ð¾Ð²Ñ\\x8bÐ¹)', r_ui=10.0, est=8.535222027532567, details={'actual_k': 10, 'was_impossible': False}),\n",
       " Prediction(uid=\"Client d'Amazon\", iid='Alcatel mobile Idol 3 smartphone dÃ©bloq', r_ui=2.0, est=4.4, details={'actual_k': 10, 'was_impossible': False}),\n",
       " Prediction(uid='Amazon Customer', iid='OnePlus 3T (Gunmetal, 6GB RAM + 64GB mem', r_ui=4.0, est=8.4, details={'actual_k': 10, 'was_impossible': False}),\n",
       " Prediction(uid='Amazon Customer', iid='Apple iPhone 6 (Silver, 64GB)', r_ui=2.0, est=7.6, details={'actual_k': 10, 'was_impossible': False}),\n",
       " Prediction(uid='Amazon Customer', iid='Motorola Moto G, 4th Gen (Black, 2 GB, 1', r_ui=8.0, est=4.4, details={'actual_k': 10, 'was_impossible': False}),\n",
       " Prediction(uid='Amazon Customer', iid='Lenovo Vibe K5 (Gold, VoLTE update)', r_ui=10.0, est=5.4, details={'actual_k': 10, 'was_impossible': False}),\n",
       " Prediction(uid=\"Client d'Amazon\", iid='Motorola Moto G 3Ã¨me gÃ©nÃ©ration Smart', r_ui=6.0, est=9.0, details={'actual_k': 10, 'was_impossible': False}),\n",
       " Prediction(uid='e-bit', iid='Celular Motorola EX115', r_ui=8.0, est=6.200000000000001, details={'actual_k': 10, 'was_impossible': False}),\n",
       " Prediction(uid='Amazon Customer', iid='Motorola Moto E 2nd Generation (4G, Blac', r_ui=2.0, est=6.4, details={'actual_k': 10, 'was_impossible': False}),\n",
       " Prediction(uid='Amazon Customer', iid='Motorola Moto G 3rd Generation (White, 1', r_ui=2.0, est=7.8, details={'actual_k': 10, 'was_impossible': False}),\n",
       " Prediction(uid='Amazon Customer', iid='OnePlus 3T (Gunmetal, 6GB RAM + 64GB mem', r_ui=8.0, est=8.4, details={'actual_k': 10, 'was_impossible': False}),\n",
       " Prediction(uid='Amazon Customer', iid='Apple iPhone 6 (Silver, 16GB)', r_ui=2.0, est=9.4, details={'actual_k': 10, 'was_impossible': False}),\n",
       " Prediction(uid='Sophie', iid='Huawei P8lite zwart / 16 GB', r_ui=8.0, est=9.41951768906987, details={'actual_k': 10, 'was_impossible': False}),\n",
       " Prediction(uid='Amazon Customer', iid='OnePlus 3T (Gunmetal, 6GB RAM + 64GB mem', r_ui=10.0, est=8.4, details={'actual_k': 10, 'was_impossible': False}),\n",
       " Prediction(uid='Amazon Customer', iid='Apple iPhone 5c 16GB (Pink) - AT&T', r_ui=2.0, est=5.200000000000001, details={'actual_k': 10, 'was_impossible': False}),\n",
       " Prediction(uid='J', iid='Sim Free Apple iPhone SE 16GB Mobile Pho', r_ui=10.0, est=9.358503046827519, details={'actual_k': 10, 'was_impossible': False}),\n",
       " Prediction(uid='Amazon Customer', iid='Lenovo Used Lenovo Zuk Z1 (Space Grey, 6', r_ui=10.0, est=5.6, details={'actual_k': 10, 'was_impossible': False}),\n",
       " Prediction(uid='schreef', iid='Samsung Galaxy J3 (2016)', r_ui=8.0, est=9.6, details={'actual_k': 10, 'was_impossible': False}),\n",
       " Prediction(uid='Ð\\x98Ð»Ñ\\x8cÑ\\x8f', iid='Sony Xperia J (Ñ\\x87ÐµÑ\\x80Ð½Ñ\\x8bÐ¹)', r_ui=10.0, est=7.30334851857779, details={'actual_k': 10, 'was_impossible': False}),\n",
       " Prediction(uid='e-bit', iid='Smartphone LG G2 D805', r_ui=10.0, est=9.6, details={'actual_k': 10, 'was_impossible': False}),\n",
       " Prediction(uid='Mattia', iid='Huawei Ascend Y550 Smartphone, 4 GB, Ner', r_ui=10.0, est=9.297972216883293, details={'actual_k': 10, 'was_impossible': False}),\n",
       " Prediction(uid='#', iid='Nokia 6300', r_ui=10.0, est=8.111097449392963, details={'actual_k': 10, 'was_impossible': False}),\n",
       " Prediction(uid='e-bit', iid='Smartphone LG L90 D410', r_ui=8.0, est=9.0, details={'actual_k': 10, 'was_impossible': False}),\n",
       " Prediction(uid='Amazon Customer', iid='Samsung Galaxy S6 64 GB UK SIM-Free Smar', r_ui=10.0, est=8.8, details={'actual_k': 10, 'was_impossible': False}),\n",
       " Prediction(uid='Amazon Customer', iid='LG Optimus F6 (MetroPCS)', r_ui=10.0, est=5.28416008947487, details={'actual_k': 9, 'was_impossible': False}),\n",
       " Prediction(uid='Stephanie', iid='Samsung Galaxy S5 SM-G900F 16GB Factory ', r_ui=8.0, est=5.9030224293305364, details={'actual_k': 10, 'was_impossible': False}),\n",
       " Prediction(uid='Amazon Customer', iid='Lenovo Vibe K4 Note (Black, 16GB)', r_ui=6.0, est=8.8, details={'actual_k': 10, 'was_impossible': False}),\n",
       " Prediction(uid='Amazon Kunde', iid='Blackberry Curve 8900 Smartphone (GPS, Q', r_ui=8.0, est=4.39731776179481, details={'actual_k': 7, 'was_impossible': False}),\n",
       " Prediction(uid='Amazon Customer', iid='Lenovo Vibe K4 Note (White,16GB)', r_ui=6.0, est=5.4, details={'actual_k': 10, 'was_impossible': False}),\n",
       " Prediction(uid='Daniele', iid='Huawei P8 Lite Smartphone, Display 5\" IP', r_ui=10.0, est=8.077377617493253, details={'actual_k': 10, 'was_impossible': False}),\n",
       " Prediction(uid='Marco', iid='Asus ZenFone Go 5\" Smartphone, 8 GB, Dua', r_ui=10.0, est=9.339758297071523, details={'actual_k': 10, 'was_impossible': False}),\n",
       " Prediction(uid='Amazon Customer', iid='Samsung Galaxy Note 3 N900A Unlocked Cel', r_ui=10.0, est=7.4, details={'actual_k': 10, 'was_impossible': False}),\n",
       " Prediction(uid=\"Client d'Amazon\", iid='Honor 7 Smartphone dÃ©bloquÃ© 4G (Ecran:', r_ui=10.0, est=8.6, details={'actual_k': 10, 'was_impossible': False}),\n",
       " Prediction(uid='Anthony', iid='Apple iPhone 3GS 16GB (White) - AT&T', r_ui=2.0, est=2.0261064010739807, details={'actual_k': 5, 'was_impossible': False}),\n",
       " Prediction(uid='Amazon Customer', iid='OnePlus X (Onyx, 16GB)', r_ui=2.0, est=6.4, details={'actual_k': 10, 'was_impossible': False}),\n",
       " Prediction(uid='Rob', iid='Huawei P9 grijs, zwart / 32 GB', r_ui=10.0, est=9.292595550703155, details={'actual_k': 10, 'was_impossible': False}),\n",
       " Prediction(uid='Cliente Amazon', iid='Samsung J710 Galaxy J7 Smartphone da 16 ', r_ui=10.0, est=8.8, details={'actual_k': 10, 'was_impossible': False}),\n",
       " Prediction(uid='Alfredo', iid='BLU Advance 4.5 Unlocked Dual SIM Phone ', r_ui=10.0, est=8.281744341382364, details={'actual_k': 4, 'was_impossible': False}),\n",
       " Prediction(uid=\"Client d'Amazon\", iid='Samsung Galaxy S6 Edge Smartphone dÃ©blo', r_ui=10.0, est=8.0, details={'actual_k': 10, 'was_impossible': False}),\n",
       " Prediction(uid='Amazon Customer', iid='Asus Zenfone 2 Laser ZE550KL ( White ,2G', r_ui=6.0, est=4.200000000000001, details={'actual_k': 10, 'was_impossible': False}),\n",
       " Prediction(uid='Amazon Customer', iid='Samsung Galaxy S7 Edge 32GB UK SIM-Free ', r_ui=2.0, est=8.0, details={'actual_k': 10, 'was_impossible': False}),\n",
       " Prediction(uid=\"Client d'Amazon\", iid='Buyus Coque Gel 360 Protection INTEGRAL ', r_ui=10.0, est=7.6, details={'actual_k': 10, 'was_impossible': False}),\n",
       " Prediction(uid='Ð\\x94Ð¼Ð¸Ñ\\x82Ñ\\x80Ð¸Ð¹', iid='Sony Xperia Z1 Compact (Ñ\\x80Ð¾Ð·Ð¾Ð²Ñ\\x8bÐ¹)', r_ui=10.0, est=9.012478898623037, details={'actual_k': 10, 'was_impossible': False}),\n",
       " Prediction(uid='juan', iid='Cubot X9 Smartphone, 3G WCDMA con Dual S', r_ui=2.0, est=8.095719489379743, details={'actual_k': 10, 'was_impossible': False}),\n",
       " Prediction(uid='Cliente Amazon', iid='Samsung Galaxy S6 Edge - Smartphone libr', r_ui=10.0, est=9.2, details={'actual_k': 10, 'was_impossible': False}),\n",
       " Prediction(uid='Anne', iid='Samsung Galaxy S7 goud, roze / 32 GB', r_ui=8.0, est=8.005851245398611, details={'actual_k': 10, 'was_impossible': False}),\n",
       " Prediction(uid='Ð\\x93Ð¾Ñ\\x81Ñ\\x82Ñ\\x8c', iid='Nokia 6300', r_ui=8.0, est=8.0, details={'actual_k': 10, 'was_impossible': False}),\n",
       " Prediction(uid='francesco', iid='Samsung I9301 Galaxy S III Neo Smartphon', r_ui=4.0, est=8.052102085470066, details={'actual_k': 10, 'was_impossible': False}),\n",
       " Prediction(uid='Amazon Kunde', iid='Huawei Ascend G620s Smartphone, 8 GB, Ne', r_ui=8.0, est=7.859948524801462, details={'actual_k': 10, 'was_impossible': False}),\n",
       " Prediction(uid='Karen', iid='Samsung Galaxy Star Pro GT-S7262 (Midnig', r_ui=2.0, est=7.514211078576904, details={'actual_k': 10, 'was_impossible': False}),\n",
       " Prediction(uid='Gast', iid='Sony Ericsson Spiro Handy (3.5mm Klinken', r_ui=10.0, est=1, details={'actual_k': 4, 'was_impossible': False}),\n",
       " Prediction(uid='anonym', iid='Nokia 6110', r_ui=8.0, est=8.5, details={'actual_k': 4, 'was_impossible': False}),\n",
       " Prediction(uid='Bruno', iid='Apple iPhone 5S 16GB Grigio [Italia]', r_ui=10.0, est=8.894058018690115, details={'actual_k': 10, 'was_impossible': False}),\n",
       " Prediction(uid='Amazon Customer', iid='OnePlus 3 A3000 64GB Graphite, 5.5\", Dua', r_ui=6.0, est=5.992861748207333, details={'actual_k': 6, 'was_impossible': False}),\n",
       " Prediction(uid='Amazon Customer', iid='Samsung Galaxy Grand Prime DUOS G531H/DS', r_ui=4.0, est=7.4, details={'actual_k': 10, 'was_impossible': False}),\n",
       " Prediction(uid='Sandra', iid=\"Samsung Galaxy J7 - Smartphone de 5.5'' \", r_ui=10.0, est=8.967101496847588, details={'actual_k': 10, 'was_impossible': False}),\n",
       " Prediction(uid='einer Kundin', iid='Samsung Galaxy S7 Smartphone, 12,9 cm (5', r_ui=10.0, est=9.6, details={'actual_k': 10, 'was_impossible': False}),\n",
       " Prediction(uid='Fran', iid='Asus Zenfone Selfie (ZD551KL) - Smartpho', r_ui=10.0, est=9.176312776600525, details={'actual_k': 10, 'was_impossible': False}),\n",
       " Prediction(uid='Amazon Customer', iid='Alcatel OneTouch Idol 3 Global Unlocked ', r_ui=10.0, est=8.8, details={'actual_k': 10, 'was_impossible': False}),\n",
       " Prediction(uid='Amazon Customer', iid='OnePlus 3 (Soft Gold, 64 GB)', r_ui=10.0, est=8.2, details={'actual_k': 10, 'was_impossible': False}),\n",
       " Prediction(uid='Peter', iid='Nokia E65', r_ui=7.0, est=6.623532653496872, details={'actual_k': 8, 'was_impossible': False}),\n",
       " Prediction(uid='Marion', iid='Samsung Galaxy Y Duos S6102 Smartphone (', r_ui=4.0, est=7.053231508603469, details={'actual_k': 6, 'was_impossible': False}),\n",
       " Prediction(uid='Amazon Customer', iid='Apple iPhone 4S 16GB (Black) - Verizon', r_ui=2.0, est=4.703952146749753, details={'actual_k': 10, 'was_impossible': False}),\n",
       " Prediction(uid='Ð®Ñ\\x80Ð¸Ð¹', iid='Samsung Galaxy S4 GT-I9500 16GB (Ð±ÐµÐ»Ñ', r_ui=10.0, est=9.131445306393688, details={'actual_k': 10, 'was_impossible': False}),\n",
       " Prediction(uid=\"Client d'Amazon\", iid='Huawei - P8 Lite - Smartphone DÃ©bloquÃ©', r_ui=2.0, est=6.8, details={'actual_k': 10, 'was_impossible': False}),\n",
       " Prediction(uid='Kevin', iid='Samsung Galaxy S3 I747 16GB Unlocked GSM', r_ui=6.0, est=5.895255414670352, details={'actual_k': 10, 'was_impossible': False}),\n",
       " Prediction(uid='Susan', iid='SAMSUNG Galaxy A3 (2017) - 16 GB, Black', r_ui=10.0, est=8.895736535381701, details={'actual_k': 10, 'was_impossible': False}),\n",
       " Prediction(uid='Matt', iid='ZTE ZMax2 No Contract Phone - Carrier Pa', r_ui=8.0, est=9.926234436782531, details={'actual_k': 10, 'was_impossible': False}),\n",
       " Prediction(uid='Amazon Customer', iid='OnePlus 3 (Graphite, 64 GB)', r_ui=10.0, est=7.6, details={'actual_k': 10, 'was_impossible': False}),\n",
       " Prediction(uid='Luciano', iid='Huawei P9 Lite Smartphone, LTE, Display ', r_ui=10.0, est=9.083123522330956, details={'actual_k': 10, 'was_impossible': False}),\n",
       " Prediction(uid='Cliente Amazon', iid='Cubot Note S - Smartphone libre Android ', r_ui=2.0, est=9.6, details={'actual_k': 10, 'was_impossible': False}),\n",
       " Prediction(uid='Ð\\x9dÐ¸ÐºÐ¾Ð»Ð°Ð¹', iid='Samsung Ð¡Ð¼Ð°Ñ\\x80Ñ\\x82Ñ\\x84Ð¾Ð½ Samsung Galaxy ', r_ui=8.0, est=8.139706436835189, details={'actual_k': 10, 'was_impossible': False}),\n",
       " Prediction(uid='Ð\\x93Ð¾Ñ\\x81Ñ\\x82Ñ\\x8c', iid='Nokia 5530 XpressMusic', r_ui=8.0, est=8.669998552308613, details={'actual_k': 10, 'was_impossible': False}),\n",
       " Prediction(uid='Miguel', iid='Samsung Galaxy S II Mini - Smartphone li', r_ui=8.0, est=7.934539943147158, details={'actual_k': 8, 'was_impossible': False}),\n",
       " Prediction(uid='Cliente Amazon', iid='Ulefone Paris 4G MTK6753 smartphone Andr', r_ui=10.0, est=7.286173172803945, details={'actual_k': 10, 'was_impossible': False}),\n",
       " Prediction(uid='apaci', iid='Apple iphone 3G 16GB Cep Telefonu', r_ui=8.0, est=8.0, details={'actual_k': 10, 'was_impossible': False}),\n",
       " Prediction(uid='Cliente Amazon', iid='Cubot Note S - Smartphone libre Android ', r_ui=6.0, est=9.6, details={'actual_k': 10, 'was_impossible': False}),\n",
       " Prediction(uid='Felix', iid='HTC One (M8) Smartphone (12,7 cm (5 Zoll', r_ui=10.0, est=9.180100607448086, details={'actual_k': 10, 'was_impossible': False}),\n",
       " Prediction(uid='Amazon Customer', iid='AT&T Fusion 2 ANDROID go Phone', r_ui=8.0, est=6.120369719622872, details={'actual_k': 10, 'was_impossible': False}),\n",
       " Prediction(uid='Luigi', iid='Lenovo Motorola Moto G 4G 3 Generazione ', r_ui=8.0, est=9.254238249177547, details={'actual_k': 10, 'was_impossible': False}),\n",
       " Prediction(uid='Simone', iid='Samsung Galaxy J5 Smartphone, Oro [Itali', r_ui=10.0, est=8.704050518344799, details={'actual_k': 10, 'was_impossible': False}),\n",
       " Prediction(uid='Ð\\x93Ð¾Ñ\\x81Ñ\\x82Ñ\\x8c', iid='Nokia 6700 Classic', r_ui=10.0, est=7.756132894717589, details={'actual_k': 8, 'was_impossible': False}),\n",
       " Prediction(uid='Amazon Customer', iid='Tracfone LG TracFone 306G No Contract, 2', r_ui=2.0, est=8.2, details={'actual_k': 10, 'was_impossible': False}),\n",
       " Prediction(uid='Amazon Customer', iid='Lenovo Vibe K5 (Grey)', r_ui=10.0, est=6.6, details={'actual_k': 10, 'was_impossible': False}),\n",
       " Prediction(uid='e-bit', iid='Smartphone Nokia Lumia 530', r_ui=8.0, est=6.800000000000001, details={'actual_k': 10, 'was_impossible': False}),\n",
       " Prediction(uid='francesco', iid='Huawei Ascend G700 Smartphone Dual SIM, ', r_ui=8.0, est=8.850127329719964, details={'actual_k': 10, 'was_impossible': False}),\n",
       " Prediction(uid='??????????????', iid='Samsung C3322 (?????\\x80??????)', r_ui=10.0, est=8.240272374699963, details={'actual_k': 10, 'was_impossible': False}),\n",
       " Prediction(uid='Ð\\x9aÐ¸Ñ\\x80Ð¸Ð»Ð»', iid='Samsung Galaxy A7', r_ui=6.0, est=7.510217928103898, details={'actual_k': 10, 'was_impossible': False}),\n",
       " Prediction(uid='Amazon Customer', iid='Motorola Moto G 3rd Generation (Black, 1', r_ui=10.0, est=8.2, details={'actual_k': 10, 'was_impossible': False}),\n",
       " Prediction(uid='Amazon Customer', iid='Microsoft Lumia 650 UK SIM-Free Smartpho', r_ui=10.0, est=7.8, details={'actual_k': 10, 'was_impossible': False}),\n",
       " Prediction(uid='Amazon Customer', iid='Lenovo Vibe K4 Note (White,16GB)', r_ui=4.0, est=5.4, details={'actual_k': 10, 'was_impossible': False}),\n",
       " Prediction(uid='Cliente Amazon', iid='Asus Zenfone 2 Laser (ZE500KL) - Smartph', r_ui=6.0, est=7.8, details={'actual_k': 10, 'was_impossible': False}),\n",
       " Prediction(uid='Amazon Customer', iid='Motorola Moto G 3rd Generation (Black, 8', r_ui=2.0, est=6.6, details={'actual_k': 10, 'was_impossible': False}),\n",
       " Prediction(uid='Cliente Amazon', iid='BQ Aquaris X5 - Smartphone de 5\" (WiFi, ', r_ui=10.0, est=8.0, details={'actual_k': 10, 'was_impossible': False}),\n",
       " Prediction(uid='Mario', iid='Sony Xperia P', r_ui=8.0, est=8.606621783974038, details={'actual_k': 10, 'was_impossible': False}),\n",
       " Prediction(uid='bruno', iid='Microsoft Lumia 640 Smartphone, 8 GB, Si', r_ui=10.0, est=7.1237532798199155, details={'actual_k': 10, 'was_impossible': False}),\n",
       " Prediction(uid='Anonymous', iid='Palm Inc. Black 3G CDMA Smart Phone with', r_ui=10.0, est=8.5, details={'actual_k': 4, 'was_impossible': False}),\n",
       " Prediction(uid='Amazon Customer', iid='BLU Vivo XL Smartphone-5.5-Inch 4G LTE-G', r_ui=10.0, est=8.0, details={'actual_k': 10, 'was_impossible': False}),\n",
       " Prediction(uid='Kunde', iid='Samsung Galaxy Ace S5830 Smartphone (8,9', r_ui=8.0, est=8.901583888733153, details={'actual_k': 10, 'was_impossible': False}),\n",
       " Prediction(uid=\"Client d'Amazon\", iid='Huawei - P8 Lite - Smartphone DÃ©bloquÃ©', r_ui=2.0, est=6.8, details={'actual_k': 10, 'was_impossible': False}),\n",
       " Prediction(uid='e-bit', iid='Smartphone LG K10 K430TV', r_ui=10.0, est=9.8, details={'actual_k': 10, 'was_impossible': False}),\n",
       " Prediction(uid='Amazon Customer', iid='Apple iPhone 6s (Space Grey, 64GB)', r_ui=10.0, est=7.6, details={'actual_k': 10, 'was_impossible': False}),\n",
       " Prediction(uid='Cliente Amazon', iid='Huawei Y6 Smartphone, Display 5.0\" HD, I', r_ui=10.0, est=8.0, details={'actual_k': 10, 'was_impossible': False}),\n",
       " Prediction(uid='Amazon Customer', iid='Apple iPhone 6 Plus GSM Unlocked Cellpho', r_ui=8.0, est=9.6, details={'actual_k': 10, 'was_impossible': False}),\n",
       " Prediction(uid='Amazon Customer', iid='Lenovo Vibe S1 (4G, Dark Blue)', r_ui=8.0, est=7.4, details={'actual_k': 10, 'was_impossible': False}),\n",
       " Prediction(uid='Ð\\x90Ð»ÐµÐºÑ\\x81ÐµÐ¹', iid='LG KP500 Cookie Gold Limited Edition', r_ui=6.0, est=7.874272469499099, details={'actual_k': 10, 'was_impossible': False}),\n",
       " Prediction(uid='jean', iid='ZTE Skate', r_ui=10.0, est=7.814375521557719, details={'was_impossible': True, 'reason': 'User and/or item is unknown.'}),\n",
       " Prediction(uid='Amazon Customer', iid='BlackBerry Z3 (Black, 8GB)', r_ui=4.0, est=5.6, details={'actual_k': 10, 'was_impossible': False}),\n",
       " Prediction(uid='dolunay', iid='Samsung E250 Cep Telefonu - Pembe', r_ui=8.0, est=8.0, details={'actual_k': 10, 'was_impossible': False}),\n",
       " Prediction(uid='Markus', iid='Sony Ericsson Live mit Walkman Smartphon', r_ui=8.0, est=9.361224118703644, details={'actual_k': 4, 'was_impossible': False}),\n",
       " Prediction(uid='Amazon Customer', iid='Samsung Galaxy S6 64 GB UK SIM-Free Smar', r_ui=10.0, est=8.8, details={'actual_k': 10, 'was_impossible': False}),\n",
       " Prediction(uid='Amazon Customer', iid='OnePlus 2 (Sandstone Black, 16GB)', r_ui=2.0, est=6.2, details={'actual_k': 10, 'was_impossible': False}),\n",
       " Prediction(uid='Amazon Customer', iid='Motorola Moto E 2nd Generation (3G, Whit', r_ui=8.0, est=7.0, details={'actual_k': 10, 'was_impossible': False}),\n",
       " Prediction(uid='Marcos', iid='Sony Xperia M4 Aqua 16GB GSM/LTE Unlocke', r_ui=8.0, est=8.922904535457475, details={'actual_k': 10, 'was_impossible': False}),\n",
       " Prediction(uid='Amazon Customer', iid='OnePlus 3 (Soft Gold, 64 GB)', r_ui=10.0, est=8.2, details={'actual_k': 10, 'was_impossible': False}),\n",
       " Prediction(uid='vincenzo', iid='Nokia Lumia 1320 Smartphone, 8 GB, Nero ', r_ui=10.0, est=9.213635703422929, details={'actual_k': 10, 'was_impossible': False}),\n",
       " Prediction(uid='Alexander', iid='Huawei Ascend Y300 Smartphone (10,2 cm (', r_ui=8.0, est=7.181767513784995, details={'actual_k': 10, 'was_impossible': False}),\n",
       " Prediction(uid='Amazon Customer', iid='Samsung Galaxy S7 Smartphone (12,92 cm (', r_ui=10.0, est=6.154184900876728, details={'actual_k': 10, 'was_impossible': False}),\n",
       " Prediction(uid='Mark', iid='Huawei P8 Lite US Version- 5 Unlocked An', r_ui=8.0, est=9.123806344955685, details={'actual_k': 10, 'was_impossible': False}),\n",
       " Prediction(uid='Amazon Customer', iid='Nokia Microsoft Lumia 535 5 inch UK SIM-', r_ui=10.0, est=7.992765927353645, details={'actual_k': 9, 'was_impossible': False}),\n",
       " Prediction(uid='e-bit', iid='Smartphone Samsung Galaxy S4 Mini GT-I91', r_ui=10.0, est=9.2, details={'actual_k': 10, 'was_impossible': False}),\n",
       " Prediction(uid='Amit', iid='VIVO V5 (Crown gold, 32 GB) (4 GB RAM)', r_ui=10.0, est=7.9773062479263475, details={'actual_k': 10, 'was_impossible': False}),\n",
       " Prediction(uid='Miguel', iid='LG G3 - Smartphone libre Android (pantal', r_ui=10.0, est=8.709460103591857, details={'actual_k': 10, 'was_impossible': False}),\n",
       " Prediction(uid='Amazon Customer', iid='Lenovo Vibe K4 Note (White,16GB)', r_ui=2.0, est=5.4, details={'actual_k': 10, 'was_impossible': False}),\n",
       " Prediction(uid='Cliente Amazon', iid='Doogee DG310 - Smartphone libre Android ', r_ui=8.0, est=8.2, details={'actual_k': 10, 'was_impossible': False}),\n",
       " Prediction(uid='Amazon Customer', iid='Lenovo A1000 (Black)', r_ui=2.0, est=6.4, details={'actual_k': 10, 'was_impossible': False}),\n",
       " Prediction(uid='Martin', iid='Samsung Galaxy S6 edge+ Smartphone (5,7 ', r_ui=8.0, est=5.939453187789071, details={'actual_k': 7, 'was_impossible': False}),\n",
       " Prediction(uid='Ð\\x98Ð²Ð°Ð½', iid='HTC Sensation', r_ui=8.0, est=7.572914745252709, details={'actual_k': 5, 'was_impossible': False}),\n",
       " Prediction(uid='Amazon Customer', iid='Lenovo Used Lenovo Zuk Z1 (Space Grey, 6', r_ui=2.0, est=5.6, details={'actual_k': 10, 'was_impossible': False}),\n",
       " Prediction(uid='Amazon Customer', iid='Motorola Moto G 5-Inch (2nd Gen UK Stock', r_ui=10.0, est=10, details={'actual_k': 10, 'was_impossible': False}),\n",
       " Prediction(uid='Amazon Customer', iid='OnePlus X (Onyx, 16GB)', r_ui=10.0, est=6.4, details={'actual_k': 10, 'was_impossible': False}),\n",
       " Prediction(uid='Amazon Customer', iid='Lenovo Vibe K4 Note (White,16GB)', r_ui=6.0, est=5.4, details={'actual_k': 10, 'was_impossible': False}),\n",
       " Prediction(uid='e-bit', iid='Smartphone LG G3 D855', r_ui=10.0, est=8.8, details={'actual_k': 10, 'was_impossible': False}),\n",
       " Prediction(uid='Amazon Customer', iid='YU Yuphoria YU5010A (Black+Silver)', r_ui=10.0, est=7.6, details={'actual_k': 10, 'was_impossible': False}),\n",
       " Prediction(uid='Amazon Customer', iid='LG Leon 4G LTE H345 SmartPhone (T-Mobile', r_ui=2.0, est=7.0, details={'actual_k': 10, 'was_impossible': False}),\n",
       " Prediction(uid='Amazon Customer', iid='Lenovo Vibe K4 Note (White,16GB)', r_ui=8.0, est=5.4, details={'actual_k': 10, 'was_impossible': False}),\n",
       " Prediction(uid='Cliente Amazon', iid='Motorola Moto G (3Âª GeneraciÃ³n) + Carc', r_ui=10.0, est=8.0, details={'actual_k': 10, 'was_impossible': False}),\n",
       " Prediction(uid='e-bit', iid='Smartphone LG K4 K130', r_ui=10.0, est=8.0, details={'actual_k': 10, 'was_impossible': False}),\n",
       " Prediction(uid='Amazon Customer', iid='Lenovo Vibe K4 Note (Black, 16GB)', r_ui=6.0, est=8.8, details={'actual_k': 10, 'was_impossible': False}),\n",
       " Prediction(uid='Petra', iid='Huawei Ascend G610 Smartphone (12,7 cm (', r_ui=8.0, est=6.593538602343349, details={'actual_k': 3, 'was_impossible': False}),\n",
       " Prediction(uid='Lucas', iid='Nokia Lumia 625', r_ui=10.0, est=3.239583333333333, details={'actual_k': 1, 'was_impossible': False}),\n",
       " Prediction(uid='James', iid='APPLE iPhone 7 - Silver, 32 GB', r_ui=9.0, est=9.773265560131545, details={'actual_k': 10, 'was_impossible': False}),\n",
       " Prediction(uid='Amazon Customer', iid='OnePlus 3 (Graphite, 64 GB)', r_ui=2.0, est=7.6, details={'actual_k': 10, 'was_impossible': False}),\n",
       " Prediction(uid='Amazon Customer', iid='BlackBerry Z3 (Black, 8GB)', r_ui=2.0, est=5.6, details={'actual_k': 10, 'was_impossible': False}),\n",
       " Prediction(uid='Ð\\x9dÐ°Ð´ÐµÐ¶Ð´Ð°', iid='Samsung I8190 Galaxy S III mini 8GB (Ð±Ð', r_ui=5.0, est=7.685973448542987, details={'actual_k': 10, 'was_impossible': False}),\n",
       " Prediction(uid='Justin', iid='HTC Desire 610 (AT&T Go Phone) No Annual', r_ui=4.0, est=5.376627469483382, details={'actual_k': 10, 'was_impossible': False}),\n",
       " Prediction(uid='Cliente Amazon', iid='WIKO Fever 4G Smartphone, 16 GB, Dual SI', r_ui=10.0, est=7.8, details={'actual_k': 10, 'was_impossible': False}),\n",
       " Prediction(uid='Amazon Customer', iid='Motorola Moto G 3rd Generation (Black, 1', r_ui=8.0, est=8.2, details={'actual_k': 10, 'was_impossible': False}),\n",
       " Prediction(uid='Ð\\x9dÐ¸ÐºÐ¸Ñ\\x82Ð°', iid='Sony Xperia ZR (Ñ\\x87ÐµÑ\\x80Ð½Ñ\\x8bÐ¹)', r_ui=8.0, est=9.51643848360253, details={'actual_k': 10, 'was_impossible': False}),\n",
       " Prediction(uid='Cliente Amazon', iid='Apple iPhone 7 Smartphone 4G (Display: 4', r_ui=10.0, est=6.6, details={'actual_k': 10, 'was_impossible': False}),\n",
       " Prediction(uid='Lukas', iid='Microsoft Nokia 515 DE Smartphone ( 6,1 ', r_ui=4.0, est=6.592893943666336, details={'actual_k': 10, 'was_impossible': False}),\n",
       " Prediction(uid='David', iid='Samsung Galaxy S4 (I9505) - Smartphone l', r_ui=10.0, est=9.157532507166938, details={'actual_k': 10, 'was_impossible': False}),\n",
       " Prediction(uid='Amazon Customer', iid='Apple iPhone 5 A1428 Factory Unlocked Ce', r_ui=4.0, est=5.800000000000001, details={'actual_k': 10, 'was_impossible': False}),\n",
       " Prediction(uid='Amazon Customer', iid='Lenovo A2010 4G (Black)', r_ui=2.0, est=7.8, details={'actual_k': 10, 'was_impossible': False}),\n",
       " Prediction(uid='Amazon Customer', iid='Nokia Lumia 635 (AT&T Go Phone) No Annua', r_ui=4.0, est=8.0, details={'actual_k': 10, 'was_impossible': False}),\n",
       " Prediction(uid='Amazon Customer', iid='LG Electronics Nexus 5X 5.2-inch 16 GB S', r_ui=10.0, est=9.4, details={'actual_k': 10, 'was_impossible': False}),\n",
       " Prediction(uid='Kindle-Kunde', iid='Sony Xperia E Smartphone (8,9 cm (3,5 Zo', r_ui=10.0, est=7.41297091099484, details={'actual_k': 10, 'was_impossible': False}),\n",
       " Prediction(uid='Amazon Customer', iid='Lenovo Vibe K4 Note (Black, 16GB)', r_ui=10.0, est=8.8, details={'actual_k': 10, 'was_impossible': False}),\n",
       " Prediction(uid='Amazon Customer', iid='Asus Zenfone Max ZC550KL-6A068IN (Black,', r_ui=8.0, est=7.4, details={'actual_k': 10, 'was_impossible': False}),\n",
       " Prediction(uid='Cliente Amazon', iid='Lenovo Motorola Moto G 8 GB - Smartphone', r_ui=10.0, est=9.152005127786234, details={'actual_k': 10, 'was_impossible': False}),\n",
       " Prediction(uid='unknown', iid='Apple Apple iPhone 5s - 32GB - Zilver', r_ui=8.0, est=9.4, details={'actual_k': 10, 'was_impossible': False}),\n",
       " Prediction(uid='Amazon Customer', iid='Samsung Galaxy Note 3 Smartphone dÃ©bloq', r_ui=10.0, est=8.830577809349872, details={'actual_k': 10, 'was_impossible': False}),\n",
       " Prediction(uid='Michelle', iid='Sim Free iPhone 7 32GB Mobile Phone - Bl', r_ui=10.0, est=8.911775055126427, details={'actual_k': 6, 'was_impossible': False}),\n",
       " Prediction(uid='Cliente Amazon', iid='LG K10 Smartphone da 16 GB, Schermo IPS ', r_ui=8.0, est=8.4, details={'actual_k': 10, 'was_impossible': False}),\n",
       " Prediction(uid='Amazon Customer', iid='OnePlus 3 (Graphite, 64 GB)', r_ui=2.0, est=7.6, details={'actual_k': 10, 'was_impossible': False}),\n",
       " Prediction(uid='Amazon Customer', iid='Honor 6X (Silver, 32GB)', r_ui=6.0, est=8.8, details={'actual_k': 10, 'was_impossible': False}),\n",
       " Prediction(uid='antonio', iid='Nokia 1208', r_ui=8.0, est=7.941952074630722, details={'actual_k': 7, 'was_impossible': False}),\n",
       " Prediction(uid='Amazon Customer', iid='OnePlus X (Onyx, 16GB)', r_ui=10.0, est=6.4, details={'actual_k': 10, 'was_impossible': False}),\n",
       " Prediction(uid='Cliente Amazon', iid='Doogee Valencia2 Y100 Pro - 4G LTE Smart', r_ui=2.0, est=8.6, details={'actual_k': 10, 'was_impossible': False}),\n",
       " Prediction(uid='Amazon Customer', iid='OnePlus One (Sandstone Black, 64GB)', r_ui=10.0, est=6.800000000000001, details={'actual_k': 10, 'was_impossible': False}),\n",
       " Prediction(uid=\"Client d'Amazon\", iid='Buyus Etui Housse Luxe Portefeuille Sams', r_ui=10.0, est=8.4, details={'actual_k': 10, 'was_impossible': False}),\n",
       " Prediction(uid='Aditya', iid='LG Nexus 5X LG-H791 (16GB, Ice Blue)', r_ui=2.0, est=7.656892202415967, details={'actual_k': 10, 'was_impossible': False}),\n",
       " Prediction(uid=\"Client d'Amazon\", iid='Microsoft Lumia 650 Smartphone dÃ©bloquÃ', r_ui=4.0, est=6.4, details={'actual_k': 10, 'was_impossible': False}),\n",
       " Prediction(uid='Cliente Amazon', iid='Motorola Moto G (3Âª GeneraciÃ³n) + Carc', r_ui=8.0, est=8.0, details={'actual_k': 10, 'was_impossible': False}),\n",
       " Prediction(uid='e-bit', iid='Smartphone LG X Power K220', r_ui=10.0, est=9.2, details={'actual_k': 10, 'was_impossible': False}),\n",
       " Prediction(uid='e-bit', iid='Smartphone Samsung Galaxy S5 SM-G900', r_ui=8.0, est=8.8, details={'actual_k': 10, 'was_impossible': False}),\n",
       " Prediction(uid='Amazon Customer', iid='Apple iPhone 4 8GB SIM-Free - Black', r_ui=10.0, est=5.672914277332346, details={'actual_k': 7, 'was_impossible': False}),\n",
       " Prediction(uid='Amazon Customer', iid='iPhone 5S APPLE IPHONE 5S 32GB SILVER UN', r_ui=10.0, est=6.6, details={'actual_k': 10, 'was_impossible': False}),\n",
       " Prediction(uid='Amazon Customer', iid='Lenovo Vibe K4 Note (Black, 16GB)', r_ui=10.0, est=8.8, details={'actual_k': 10, 'was_impossible': False}),\n",
       " Prediction(uid='Amazon Customer', iid='Sony Xperia Z1 C6903 16GB Unlocked GSM 4', r_ui=10.0, est=4.6000000000000005, details={'actual_k': 10, 'was_impossible': False}),\n",
       " Prediction(uid='Amazon Customer', iid='OnePlus 3 (Soft Gold, 64 GB)', r_ui=10.0, est=8.2, details={'actual_k': 10, 'was_impossible': False}),\n",
       " Prediction(uid=\"Client d'Amazon\", iid='Buyus Coque Gel 360 Protection INTEGRAL ', r_ui=6.0, est=7.6, details={'actual_k': 10, 'was_impossible': False}),\n",
       " Prediction(uid='Roy', iid='Nokia Lumia 520 GSM Unlock 3G Phone, 4-I', r_ui=10.0, est=8.005251391024434, details={'actual_k': 10, 'was_impossible': False}),\n",
       " Prediction(uid='Amazon Customer', iid='Lenovo Vibe K5 (Grey, VoLTE update)', r_ui=8.0, est=6.6, details={'actual_k': 10, 'was_impossible': False}),\n",
       " Prediction(uid='Anonymous ', iid='Samsung Galaxy S III 16GB (Virgin Mobile', r_ui=9.0, est=7.3999999999999995, details={'actual_k': 10, 'was_impossible': False}),\n",
       " Prediction(uid='Amazon Customer', iid='BLU Vivo XL Smartphone - 5.5\" 4G LTE - G', r_ui=8.0, est=7.0, details={'actual_k': 10, 'was_impossible': False}),\n",
       " Prediction(uid='Daniel', iid='Motorola Moto E (1st Generation) - Black', r_ui=10.0, est=9.090676330193759, details={'actual_k': 7, 'was_impossible': False}),\n",
       " Prediction(uid='Rajesh', iid='Samsung Galaxy J7 (New 2016 Edition) (Wh', r_ui=10.0, est=6.6955165410403055, details={'actual_k': 10, 'was_impossible': False}),\n",
       " Prediction(uid='Amazon Customer', iid='Mi Xiaomi Mi Max (Gold, 32GB)', r_ui=10.0, est=6.4, details={'actual_k': 10, 'was_impossible': False}),\n",
       " Prediction(uid='Michel', iid='HTC Evo 3D Smartphone (10,9 cm (4,3 Zoll', r_ui=2.0, est=10, details={'actual_k': 5, 'was_impossible': False}),\n",
       " Prediction(uid='Peter', iid='Microsoft Lumia 650 UK SIM-Free Smartpho', r_ui=4.0, est=9.442019237487736, details={'actual_k': 10, 'was_impossible': False}),\n",
       " Prediction(uid='e-bit', iid='Smartphone Samsung Galaxy Gran Prime SM-', r_ui=8.0, est=8.6, details={'actual_k': 10, 'was_impossible': False}),\n",
       " Prediction(uid='Ð\\xa0Ð¾Ð¼Ð°Ð½', iid='Samsung Galaxy S5 SM-G900F 16GB (Ð·Ð¾Ð»Ð', r_ui=8.0, est=6.783106655066041, details={'actual_k': 10, 'was_impossible': False}),\n",
       " Prediction(uid='Cliente Amazon', iid='Microsoft Lumia 640 - Smartphone libre W', r_ui=10.0, est=8.6, details={'actual_k': 10, 'was_impossible': False}),\n",
       " Prediction(uid='Amazon Customer', iid='Lenovo Vibe K4 Note (White,16GB)', r_ui=10.0, est=5.4, details={'actual_k': 10, 'was_impossible': False}),\n",
       " Prediction(uid='Cliente Amazon', iid='Huawei P9 Lite Smartphone, LTE, Display ', r_ui=10.0, est=8.8, details={'actual_k': 10, 'was_impossible': False}),\n",
       " Prediction(uid=\"Client d'Amazon\", iid='Microsoft Lumia 640 Smartphone dÃ©bloquÃ', r_ui=4.0, est=7.4, details={'actual_k': 10, 'was_impossible': False}),\n",
       " Prediction(uid='Ð\\x9cÐ°Ñ\\x80Ð¸Ñ\\x8f', iid='Samsung Galaxy S5', r_ui=10.0, est=7.632821976913512, details={'actual_k': 10, 'was_impossible': False}),\n",
       " Prediction(uid='Amazon Customer', iid='OnePlus 3 (Soft Gold, 64 GB)', r_ui=10.0, est=8.2, details={'actual_k': 10, 'was_impossible': False}),\n",
       " Prediction(uid='Anonymous', iid='HTC Desire X', r_ui=10.0, est=7.915829399893639, details={'actual_k': 10, 'was_impossible': False}),\n",
       " Prediction(uid='Amazon Customer', iid='Lenovo Used Lenovo Zuk Z1 (Space Grey, 6', r_ui=4.0, est=5.6, details={'actual_k': 10, 'was_impossible': False}),\n",
       " Prediction(uid='Amazon Customer', iid='Micromax Canvas A1 AQ4501 (White)', r_ui=2.0, est=7.6, details={'actual_k': 10, 'was_impossible': False}),\n",
       " Prediction(uid='Ð\\x90Ð»Ð¸Ð½Ð°', iid='Sony Xperia Z1 (Ð±ÐµÐ»Ñ\\x8bÐ¹)', r_ui=10.0, est=9.629221429490602, details={'actual_k': 10, 'was_impossible': False}),\n",
       " Prediction(uid='Jack', iid='Alcatel OneTouch Idol 3 Global Unlocked ', r_ui=10.0, est=6.748588585034098, details={'actual_k': 10, 'was_impossible': False}),\n",
       " Prediction(uid='unknown', iid='Apple Apple iPhone 5s - 32GB - Zilver', r_ui=10.0, est=9.4, details={'actual_k': 10, 'was_impossible': False}),\n",
       " Prediction(uid='Cliente Amazon', iid='Honor 7 - Smartphone libre de 5.2\" (4G, ', r_ui=8.0, est=9.8, details={'actual_k': 10, 'was_impossible': False}),\n",
       " Prediction(uid='black', iid='Nokia 6303 Classic Cep Telefonu', r_ui=8.0, est=8.0, details={'actual_k': 10, 'was_impossible': False}),\n",
       " Prediction(uid='Amazon Customer', iid='Samsung Galaxy S6 Edge G925F 32GB Unlock', r_ui=10.0, est=3.8000000000000003, details={'actual_k': 10, 'was_impossible': False}),\n",
       " Prediction(uid='Cliente Amazon', iid='Microsoft Lumia 640 XL - Smartphone libr', r_ui=10.0, est=8.8, details={'actual_k': 10, 'was_impossible': False}),\n",
       " Prediction(uid='Gary', iid='LG G3 D851 4G LTE, 32GB, (GSM Unlockedx2', r_ui=2.0, est=8.766361904029228, details={'actual_k': 10, 'was_impossible': False}),\n",
       " Prediction(uid='Ð\\x92Ñ\\x8fÑ\\x87ÐµÑ\\x81Ð»Ð°Ð²', iid='SAMSUNG Ð¡Ð¼Ð°Ñ\\x80Ñ\\x82Ñ\\x84Ð¾Ð½ SAMSUNG Galaxy ', r_ui=8.0, est=6.301657256950158, details={'actual_k': 10, 'was_impossible': False}),\n",
       " Prediction(uid='Cliente Amazon', iid='Asus ZenFone 3 Smartphone, Memoria Inter', r_ui=10.0, est=9.6, details={'actual_k': 10, 'was_impossible': False}),\n",
       " Prediction(uid='Amazon Customer', iid='VIVO V5 (Crown gold, 32 GB) (4 GB RAM)', r_ui=10.0, est=7.6, details={'actual_k': 10, 'was_impossible': False}),\n",
       " Prediction(uid='einem Kunden', iid='Apple iPhone 7 4,7\" 256 GB', r_ui=10.0, est=9.6, details={'actual_k': 10, 'was_impossible': False}),\n",
       " Prediction(uid='Amazon Customer', iid='Apple iPhone SE (Gold, 16GB)', r_ui=10.0, est=6.8, details={'actual_k': 10, 'was_impossible': False}),\n",
       " Prediction(uid='Kindle Customer', iid='Samsung E2550 Strong Black New Sim Free', r_ui=8.0, est=8.534609484986214, details={'actual_k': 6, 'was_impossible': False}),\n",
       " Prediction(uid='Ð\\x9eÐ»ÐµÐ³', iid='Ð¡Ð¾Ñ\\x82Ð¾Ð²Ñ\\x8bÐ¹ Ñ\\x82ÐµÐ»ÐµÑ\\x84Ð¾Ð½ Apple iPho', r_ui=10.0, est=6.456438132212336, details={'actual_k': 10, 'was_impossible': False}),\n",
       " Prediction(uid='Amazon Customer', iid='HTC Rhyme 3G Android Smartphone Plum Ver', r_ui=2.0, est=5.301078145483823, details={'actual_k': 9, 'was_impossible': False}),\n",
       " Prediction(uid='cinderella', iid='Nokia N95 8 GB Cep Telefonu', r_ui=8.0, est=8.0, details={'actual_k': 10, 'was_impossible': False}),\n",
       " Prediction(uid='Danilo', iid='Sony C2105 Xperia L Smartphone, Fotocame', r_ui=10.0, est=7.670175141347703, details={'actual_k': 10, 'was_impossible': False}),\n",
       " Prediction(uid='Steve', iid='Samsung Galaxy S5 Neo Smartphone dÃ©bloq', r_ui=8.0, est=6.334676375360399, details={'actual_k': 10, 'was_impossible': False}),\n",
       " Prediction(uid='Andrea', iid='BLU Studio 5.0 C HD Quad Core - Unlocked', r_ui=10.0, est=10, details={'actual_k': 10, 'was_impossible': False}),\n",
       " Prediction(uid='Amazon Customer', iid='OnePlus 3 (Soft Gold, 64 GB)', r_ui=10.0, est=8.2, details={'actual_k': 10, 'was_impossible': False}),\n",
       " Prediction(uid='Kindle Customer', iid='MOTCB Moto G Black (Boost Mobile)', r_ui=10.0, est=8.121181576387634, details={'actual_k': 10, 'was_impossible': False}),\n",
       " Prediction(uid=\"Client d'Amazon\", iid='Honor 8 Smartphone dÃ©bloquÃ© 4G (Ecran:', r_ui=10.0, est=9.4, details={'actual_k': 10, 'was_impossible': False}),\n",
       " Prediction(uid='Amazon Customer', iid='Nokia Lumia 520 (AT&T Go Phone) No Annua', r_ui=2.0, est=8.4, details={'actual_k': 10, 'was_impossible': False}),\n",
       " Prediction(uid='Amazon Customer', iid='Motorola Moto G 3rd Generation (Black, 1', r_ui=10.0, est=8.2, details={'actual_k': 10, 'was_impossible': False}),\n",
       " Prediction(uid='Kat', iid='CUBOT S208 5.0 Inch IPS Screen MTK6582M ', r_ui=10.0, est=8.523504273504274, details={'actual_k': 1, 'was_impossible': False}),\n",
       " Prediction(uid='Cliente Amazon', iid='Honor 7 Smartphone 4G, Display Full HD 5', r_ui=8.0, est=9.8, details={'actual_k': 10, 'was_impossible': False}),\n",
       " Prediction(uid='Amazon Customer', iid='Lenovo Vibe K4 Note (White,16GB)', r_ui=6.0, est=5.4, details={'actual_k': 10, 'was_impossible': False}),\n",
       " Prediction(uid='e-bit', iid='Smartphone Lenovo Vibe K5', r_ui=10.0, est=8.6, details={'actual_k': 10, 'was_impossible': False}),\n",
       " Prediction(uid='Amazon Customer', iid='LG Verizon LG Extravert No Contract QWER', r_ui=6.0, est=6.64440303975743, details={'actual_k': 10, 'was_impossible': False}),\n",
       " Prediction(uid='Marco', iid='Samsung Galaxy S3 mini I8190 Smartphone ', r_ui=10.0, est=9.86115067830927, details={'actual_k': 10, 'was_impossible': False}),\n",
       " Prediction(uid='Cliente Amazon', iid='Cubot X15 - Smartphone libre Android (pa', r_ui=10.0, est=5.6, details={'actual_k': 10, 'was_impossible': False}),\n",
       " Prediction(uid='Cliente Amazon', iid='Blackview BV6000 Smartphone 4G - 4.7 pol', r_ui=2.0, est=8.6, details={'actual_k': 10, 'was_impossible': False}),\n",
       " Prediction(uid='Amazon Customer', iid='Samsung S5 Mini SIM-Free Smartphone (EU ', r_ui=8.0, est=6.578262136719204, details={'actual_k': 10, 'was_impossible': False}),\n",
       " Prediction(uid='einem Kunden', iid='Samsung Galaxy S7 Smartphone, 12,9 cm (5', r_ui=10.0, est=10, details={'actual_k': 10, 'was_impossible': False}),\n",
       " Prediction(uid='Amazon Customer', iid='LG Nexus 5X LG-H791 (16GB, Carbon)', r_ui=6.0, est=7.6, details={'actual_k': 10, 'was_impossible': False}),\n",
       " Prediction(uid='Amazon Customer', iid='Samsung Galaxy Light Smartphone SGH-T399', r_ui=2.0, est=9.728578826694074, details={'actual_k': 10, 'was_impossible': False}),\n",
       " Prediction(uid='Ð\\x90Ð»ÐµÐºÑ\\x81Ð°Ð½Ð´Ñ\\x80', iid='Samsung N7100 Galaxy Note II (16Gb)', r_ui=10.0, est=10, details={'actual_k': 4, 'was_impossible': False}),\n",
       " Prediction(uid='Stephan', iid='LG Electronics G Flex 2 Smartphone (13,9', r_ui=10.0, est=8.57993852741831, details={'actual_k': 10, 'was_impossible': False}),\n",
       " Prediction(uid='Amazon Customer', iid='OnePlus 3 (Soft Gold, 64 GB)', r_ui=6.0, est=8.2, details={'actual_k': 10, 'was_impossible': False}),\n",
       " Prediction(uid='Flipkart Customer', iid='Asus Zenfone 2 Laser ZE550KL (Black, 16 ', r_ui=10.0, est=8.994098297213622, details={'actual_k': 10, 'was_impossible': False}),\n",
       " Prediction(uid='Mary', iid='Samsung Galaxy Fame Smartphone (8,9 cm (', r_ui=10.0, est=9.112542836139708, details={'actual_k': 4, 'was_impossible': False}),\n",
       " Prediction(uid='Dario', iid='HTC Vivid X710a 16GB Unlocked GSM Androi', r_ui=10.0, est=5.5193065184658785, details={'actual_k': 2, 'was_impossible': False}),\n",
       " Prediction(uid='Amazon Customer', iid='Apple iPhone 5s (Silver, 16GB)', r_ui=8.0, est=6.8, details={'actual_k': 10, 'was_impossible': False}),\n",
       " Prediction(uid='Cliente Amazon', iid='Samsung G935 Galaxy S7 Edge Smartphone d', r_ui=10.0, est=8.2, details={'actual_k': 10, 'was_impossible': False}),\n",
       " Prediction(uid='Cliente Amazon', iid='Asus ZE551ML-2A760WW Smartphone ZenFone ', r_ui=10.0, est=7.6, details={'actual_k': 10, 'was_impossible': False}),\n",
       " Prediction(uid='Amazon Customer', iid='Lenovo Used Lenovo Zuk Z1 (Space Grey, 6', r_ui=8.0, est=5.6, details={'actual_k': 10, 'was_impossible': False}),\n",
       " Prediction(uid='Amazon Customer', iid='Apple iPhone 6 (Silver, 64GB)', r_ui=2.0, est=7.6, details={'actual_k': 10, 'was_impossible': False}),\n",
       " Prediction(uid='Cliente Amazon', iid='Blackview BV6000 - IP68 Android 6.0 este', r_ui=2.0, est=9.4, details={'actual_k': 10, 'was_impossible': False}),\n",
       " Prediction(uid='Deepak', iid='Tracfone Motorola Moto E Android Prepaid', r_ui=8.0, est=6.810913472782535, details={'actual_k': 10, 'was_impossible': False}),\n",
       " Prediction(uid='Amazon Customer', iid='Lenovo Vibe K5 (Grey, VoLTE update)', r_ui=4.0, est=6.6, details={'actual_k': 10, 'was_impossible': False}),\n",
       " Prediction(uid='einer Kundin', iid='Samsung Galaxy S7 edge Smartphone, 13,9 ', r_ui=10.0, est=9.6, details={'actual_k': 10, 'was_impossible': False}),\n",
       " Prediction(uid='Amazon Customer', iid='Lenovo Vibe K5 (Grey)', r_ui=6.0, est=6.6, details={'actual_k': 10, 'was_impossible': False}),\n",
       " Prediction(uid='Ð\\x9dÐ¸ÐºÐ¾Ð»Ð°Ð¹', iid='Apple iPhone 5s 16GB (Ñ\\x81ÐµÑ\\x80ÐµÐ±Ñ\\x80Ð¸Ñ\\x81Ñ\\x82', r_ui=10.0, est=8.813611074368673, details={'actual_k': 10, 'was_impossible': False}),\n",
       " Prediction(uid='Anonymous ', iid='Samsung Galaxy S III 16GB (Straight Talk', r_ui=10.0, est=9.4, details={'actual_k': 10, 'was_impossible': False}),\n",
       " Prediction(uid='Ð\\x90Ð½Ð´Ñ\\x80ÐµÐ¹', iid='Samsung i9100 Galaxy S II (16Gb)', r_ui=10.0, est=7.807798789533768, details={'actual_k': 10, 'was_impossible': False}),\n",
       " Prediction(uid='dilemma21', iid='Nokia 6600i Slide Cep Telefonu', r_ui=8.0, est=8.0, details={'actual_k': 10, 'was_impossible': False}),\n",
       " Prediction(uid=\"Client d'Amazon\", iid='Samsung Galaxy A5 2016 Smartphone dÃ©blo', r_ui=8.0, est=6.6, details={'actual_k': 10, 'was_impossible': False}),\n",
       " Prediction(uid='Amazon Customer', iid='Lenovo K3 Note (Black)', r_ui=10.0, est=5.2, details={'actual_k': 10, 'was_impossible': False}),\n",
       " Prediction(uid='Michael', iid='Nokia 1208 Sim Free Mobile Phone - Black', r_ui=10.0, est=10, details={'actual_k': 1, 'was_impossible': False}),\n",
       " Prediction(uid='Anonymous ', iid='Samsung Galaxy S III Mini 8 GB (Verizon)', r_ui=8.0, est=9.0, details={'actual_k': 2, 'was_impossible': False}),\n",
       " Prediction(uid='Anonyme', iid='NOKIA 2720 Fold', r_ui=8.0, est=7.487124959902161, details={'actual_k': 4, 'was_impossible': False}),\n",
       " Prediction(uid='Tom', iid='Samsung Galaxy S6 Edge G925F 32GB Unlock', r_ui=2.0, est=6.589286838629541, details={'actual_k': 10, 'was_impossible': False}),\n",
       " Prediction(uid='Amazon Customer', iid='Lenovo Phab 2 Plus Smartphone (Grey, JBL', r_ui=2.0, est=5.6, details={'actual_k': 10, 'was_impossible': False}),\n",
       " Prediction(uid='Amazon Customer', iid='OnePlus 3 (Graphite, 64 GB)', r_ui=10.0, est=7.6, details={'actual_k': 10, 'was_impossible': False}),\n",
       " Prediction(uid='e-bit', iid='Smartphone Motorola Moto X 2Âª GeraÃ§Ã£o', r_ui=8.0, est=8.4, details={'actual_k': 10, 'was_impossible': False}),\n",
       " Prediction(uid='salvatore', iid='Lenovo Motorola Moto G 4G 3 Generazione ', r_ui=10.0, est=9.513509029789269, details={'actual_k': 10, 'was_impossible': False}),\n",
       " Prediction(uid='Cliente Amazon', iid='Huawei P8 Lite - Smartphone de 5\" (cÃ¡ma', r_ui=10.0, est=9.0, details={'actual_k': 10, 'was_impossible': False}),\n",
       " Prediction(uid='Cliente Amazon', iid='WIKO Fever 4G Smartphone, 16 GB, Dual SI', r_ui=8.0, est=7.8, details={'actual_k': 10, 'was_impossible': False}),\n",
       " Prediction(uid='Amazon Customer', iid='Lenovo A1000 (Black)', r_ui=10.0, est=6.4, details={'actual_k': 10, 'was_impossible': False}),\n",
       " Prediction(uid='bedduamiz', iid='Nokia N72 Cep Telefonu', r_ui=8.0, est=8.0, details={'actual_k': 10, 'was_impossible': False}),\n",
       " Prediction(uid='Amazon Customer', iid='Lenovo Used Lenovo Zuk Z1 (Space Grey, 6', r_ui=4.0, est=5.6, details={'actual_k': 10, 'was_impossible': False}),\n",
       " Prediction(uid='Manu', iid='Lenovo Used Lenovo Zuk Z1 (Space Grey, 6', r_ui=2.0, est=7.285728947958327, details={'actual_k': 10, 'was_impossible': False}),\n",
       " Prediction(uid='Amazon Customer', iid='Apple iPhone 6 Plus Unlocked Cellphone, ', r_ui=10.0, est=7.2, details={'actual_k': 10, 'was_impossible': False}),\n",
       " Prediction(uid='Cliente Amazon', iid='Samsung Galaxy J5 Smartphone, Nero [Ital', r_ui=10.0, est=8.8, details={'actual_k': 10, 'was_impossible': False}),\n",
       " Prediction(uid='Amazon Customer', iid='Lenovo Zuk Z1 (White, Cyanogen OS)', r_ui=2.0, est=4.6000000000000005, details={'actual_k': 10, 'was_impossible': False}),\n",
       " Prediction(uid=\"Client d'Amazon\", iid='Asus Zenfone Laser ZE500KL smartphone dÃ', r_ui=10.0, est=8.6, details={'actual_k': 10, 'was_impossible': False}),\n",
       " Prediction(uid='Amazon Customer', iid='Asus Zenfone 3 ZE552KL-1A031IN (Black)', r_ui=2.0, est=6.8, details={'actual_k': 10, 'was_impossible': False}),\n",
       " Prediction(uid='Cliente Amazon', iid='Lenovo Motorola Moto G XT1541 3a Generaz', r_ui=10.0, est=8.0, details={'actual_k': 10, 'was_impossible': False}),\n",
       " Prediction(uid='Amazon Customer', iid='Lenovo Moto G4 Smartphone (14 cm (5,5 Zo', r_ui=8.0, est=9.271615229785949, details={'actual_k': 10, 'was_impossible': False}),\n",
       " Prediction(uid='Amazon Customer', iid='OnePlus 3 (Graphite, 64 GB)', r_ui=10.0, est=7.6, details={'actual_k': 10, 'was_impossible': False}),\n",
       " Prediction(uid='Amazon Kunde', iid='Huawei P9 lite Smartphone VNS-L31 (5,2 Z', r_ui=2.0, est=8.6, details={'actual_k': 10, 'was_impossible': False}),\n",
       " Prediction(uid='Cliente Amazon', iid='Huawei P8 Lite Smartphone, Display 5\" IP', r_ui=10.0, est=8.4, details={'actual_k': 10, 'was_impossible': False}),\n",
       " Prediction(uid='Amazon Customer', iid='Lenovo Vibe K4 Note (Black, 16GB)', r_ui=8.0, est=8.8, details={'actual_k': 10, 'was_impossible': False}),\n",
       " Prediction(uid='Amazon Customer', iid='Apple iPhone 5s GSM Unlocked Cellphone, ', r_ui=4.0, est=7.0, details={'actual_k': 10, 'was_impossible': False}),\n",
       " Prediction(uid='Amazon Customer', iid='LG Optimus Extreme Android Prepaid Phone', r_ui=2.0, est=7.365678477184007, details={'actual_k': 4, 'was_impossible': False}),\n",
       " Prediction(uid='Marco', iid='Huawei Y6 (2GB) Smartphone Dual SIM, Dis', r_ui=8.0, est=10, details={'actual_k': 10, 'was_impossible': False}),\n",
       " Prediction(uid='Cliente Amazon', iid='Samsung Galaxy S5 Smartphone, Display 5.', r_ui=4.0, est=5.628575729703021, details={'actual_k': 10, 'was_impossible': False}),\n",
       " Prediction(uid=\"Client d'Amazon\", iid='Microsoft Lumia 435 Smartphone dÃ©bloquÃ', r_ui=8.0, est=7.134186435334735, details={'actual_k': 10, 'was_impossible': False}),\n",
       " Prediction(uid='Melissa', iid='Apple iPhone 6 Plus 128GB Factory Unlock', r_ui=8.0, est=5.639080145657384, details={'actual_k': 10, 'was_impossible': False}),\n",
       " Prediction(uid='Cliente Amazon', iid='Microsoft Lumia 640 Smartphone, Dual-SIM', r_ui=10.0, est=9.0, details={'actual_k': 10, 'was_impossible': False}),\n",
       " Prediction(uid='Pierre', iid='Wiko Fever Smartphone dÃ©bloquÃ© 4G (Ecr', r_ui=8.0, est=9.399854610132598, details={'actual_k': 10, 'was_impossible': False}),\n",
       " Prediction(uid='Ð\\x90Ñ\\x80Ñ\\x82Ñ\\x83Ñ\\x80', iid='Sony Xperia M (Ñ\\x87ÐµÑ\\x80Ð½Ñ\\x8bÐ¹)', r_ui=7.0, est=8.367308246785749, details={'actual_k': 10, 'was_impossible': False}),\n",
       " Prediction(uid='Cliente Amazon', iid='BQ Aquaris X5 - Smartphone de 5\" (WiFi, ', r_ui=4.0, est=8.0, details={'actual_k': 10, 'was_impossible': False}),\n",
       " Prediction(uid='Giovanni', iid='Lenovo Motorola Moto G Smartphone, Displ', r_ui=10.0, est=10, details={'actual_k': 10, 'was_impossible': False}),\n",
       " Prediction(uid='Amazon Customer', iid='Lenovo Vibe K4 Note (Black, 16GB)', r_ui=8.0, est=8.8, details={'actual_k': 10, 'was_impossible': False}),\n",
       " Prediction(uid='Robert', iid='Samsung Galaxy S5 G900M 16GB Unlocked GS', r_ui=10.0, est=9.615624177517692, details={'actual_k': 10, 'was_impossible': False}),\n",
       " Prediction(uid='Amazon Customer', iid='Motorola Moto G 3rd Generation (Black, 8', r_ui=2.0, est=6.6, details={'actual_k': 10, 'was_impossible': False}),\n",
       " Prediction(uid='Amazon Customer', iid='Lenovo Vibe K4 Note (Black, 16GB)', r_ui=8.0, est=8.8, details={'actual_k': 10, 'was_impossible': False}),\n",
       " Prediction(uid='Amazon Customer', iid='LG G Vista 4G Unlocked 4G LTE Android 8M', r_ui=10.0, est=7.8, details={'actual_k': 10, 'was_impossible': False}),\n",
       " Prediction(uid='Amazon Customer', iid='Lenovo Vibe K5 (Gold, VoLTE update)', r_ui=2.0, est=5.4, details={'actual_k': 10, 'was_impossible': False}),\n",
       " Prediction(uid='Ð\\x90Ð½Ñ\\x82Ð¾Ð½', iid='Apple iPhone 5s 16GB (Ñ\\x81ÐµÑ\\x80ÐµÐ±Ñ\\x80Ð¸Ñ\\x81Ñ\\x82', r_ui=8.0, est=8.142179892627933, details={'actual_k': 10, 'was_impossible': False}),\n",
       " Prediction(uid='Qantas', iid='Samsung Galaxy Xcover', r_ui=6.0, est=1.7701863354037268, details={'actual_k': 1, 'was_impossible': False}),\n",
       " Prediction(uid='Amazon Customer', iid='Lenovo Phab 2 Plus Smartphone (Grey, JBL', r_ui=10.0, est=5.6, details={'actual_k': 10, 'was_impossible': False}),\n",
       " Prediction(uid='Amazon Customer', iid='OnePlus X (Onyx, 16GB)', r_ui=8.0, est=6.4, details={'actual_k': 10, 'was_impossible': False}),\n",
       " Prediction(uid='Amazon Customer', iid='Lenovo Vibe K4 Note (White,16GB)', r_ui=10.0, est=5.4, details={'actual_k': 10, 'was_impossible': False}),\n",
       " Prediction(uid='e-bit', iid='Smartphone LG G2 D805', r_ui=8.0, est=9.6, details={'actual_k': 10, 'was_impossible': False}),\n",
       " Prediction(uid='Ð\\x9eÐ»ÐµÐ³', iid='Sony Xperia J (Ñ\\x87ÐµÑ\\x80Ð½Ñ\\x8bÐ¹)', r_ui=8.0, est=7.623252244322876, details={'actual_k': 10, 'was_impossible': False}),\n",
       " Prediction(uid='Andrea', iid='Microsoft Lumia 650 Smartphone da 16GB, ', r_ui=8.0, est=7.224967438987552, details={'actual_k': 10, 'was_impossible': False}),\n",
       " Prediction(uid='ozer', iid='Apple iphone 3G 16GB Cep Telefonu', r_ui=8.0, est=8.0, details={'actual_k': 10, 'was_impossible': False}),\n",
       " Prediction(uid='huliye', iid='Nokia N76 Cep Telefonu', r_ui=8.0, est=8.0, details={'actual_k': 10, 'was_impossible': False}),\n",
       " Prediction(uid='Amazon Customer', iid='Lenovo Zuk Z1 (White, Cyanogen OS)', r_ui=4.0, est=4.6000000000000005, details={'actual_k': 10, 'was_impossible': False}),\n",
       " Prediction(uid='Amazon Customer', iid='OnePlus 3T (Gunmetal, 6GB RAM + 64GB mem', r_ui=8.0, est=8.4, details={'actual_k': 10, 'was_impossible': False}),\n",
       " Prediction(uid='emanetcan', iid='Apple iPhone 3GS 32GB', r_ui=8.0, est=8.0, details={'actual_k': 10, 'was_impossible': False}),\n",
       " Prediction(uid='Amazon Customer', iid='Lenovo Vibe K4 Note (White,16GB)', r_ui=10.0, est=5.4, details={'actual_k': 10, 'was_impossible': False}),\n",
       " Prediction(uid='Ð\\x94Ð¼Ð¸Ñ\\x82Ñ\\x80Ð¸Ð¹', iid='Samsung Galaxy A3 (2016)', r_ui=10.0, est=8.777363194442168, details={'actual_k': 10, 'was_impossible': False}),\n",
       " Prediction(uid='Amazon Customer', iid='Samsung Galaxy Grand Prime DUOS G531H/DS', r_ui=10.0, est=7.4, details={'actual_k': 10, 'was_impossible': False}),\n",
       " Prediction(uid='einem Kunden', iid='Samsung Galaxy S7 Smartphone, 12,9 cm (5', r_ui=10.0, est=10, details={'actual_k': 10, 'was_impossible': False}),\n",
       " Prediction(uid='Amazon Customer', iid='OnePlus 3 (Graphite, 64 GB)', r_ui=10.0, est=7.6, details={'actual_k': 10, 'was_impossible': False}),\n",
       " Prediction(uid='Anonymous ', iid='Samsung Galaxy S5 16GB (AT&T)', r_ui=10.0, est=9.6, details={'actual_k': 10, 'was_impossible': False}),\n",
       " Prediction(uid='Anja', iid='Sony Ericsson Elm Handy (UMTS, aGPS, Blu', r_ui=10.0, est=3.9209034752434815, details={'actual_k': 7, 'was_impossible': False}),\n",
       " Prediction(uid='Anonymous', iid='Samsung Galaxy J7 J700M 16GB Dual Sim LT', r_ui=10.0, est=8.180216927279432, details={'actual_k': 10, 'was_impossible': False}),\n",
       " Prediction(uid='Cliente Amazon', iid='elephone P9000 5.5 \"Smartphone 2.0GHz 4G', r_ui=10.0, est=8.4, details={'actual_k': 10, 'was_impossible': False}),\n",
       " Prediction(uid='Nicola', iid='Huawei Ascend P8 Smartphone, Display 5.2', r_ui=10.0, est=8.344922750240789, details={'actual_k': 10, 'was_impossible': False}),\n",
       " Prediction(uid='Joan', iid='LG 530G Prepaid Phone With Triple Minute', r_ui=2.0, est=6.521500140275883, details={'actual_k': 3, 'was_impossible': False}),\n",
       " Prediction(uid='Amazon Customer', iid='Lenovo Vibe K5 (Silver, 16GB)', r_ui=8.0, est=8.0, details={'actual_k': 10, 'was_impossible': False}),\n",
       " Prediction(uid='Ð\\x98Ð²Ð°Ð½', iid='Samsung Galaxy S4 GT-I9500 16GB (Ð±ÐµÐ»Ñ', r_ui=6.0, est=7.96919714314211, details={'actual_k': 10, 'was_impossible': False}),\n",
       " Prediction(uid='Amazon Customer', iid='Motorola Moto G Turbo (White, 16GB)', r_ui=8.0, est=5.6000000000000005, details={'actual_k': 10, 'was_impossible': False}),\n",
       " Prediction(uid='Anonyme', iid='LG GW620', r_ui=8.0, est=7.882583256841274, details={'actual_k': 5, 'was_impossible': False}),\n",
       " Prediction(uid='Amazon Customer', iid='Lenovo K3 Note (Black)', r_ui=2.0, est=5.2, details={'actual_k': 10, 'was_impossible': False}),\n",
       " Prediction(uid='Ð¢Ð°Ñ\\x82Ñ\\x8cÑ\\x8fÐ½Ð°', iid='Samsung S5830 Galaxy Ace', r_ui=10.0, est=9.495378348442964, details={'actual_k': 10, 'was_impossible': False}),\n",
       " Prediction(uid='unknown', iid='LG LG G4 - Goud', r_ui=10.0, est=8.8, details={'actual_k': 10, 'was_impossible': False}),\n",
       " Prediction(uid='Amazon Customer', iid='OnePlus 3T (Soft Gold, 6GB RAM + 64GB me', r_ui=8.0, est=9.600000000000001, details={'actual_k': 10, 'was_impossible': False}),\n",
       " Prediction(uid='Valerio', iid='Samsung Galaxy S II Nero GT-I9100', r_ui=10.0, est=8.698463266863937, details={'actual_k': 10, 'was_impossible': False}),\n",
       " Prediction(uid='Amazon Customer', iid='Alcatel OneTouch Idol 3 Global Unlocked ', r_ui=8.0, est=8.8, details={'actual_k': 10, 'was_impossible': False}),\n",
       " Prediction(uid='e-bit', iid='Smartphone Samsung Galaxy Gran Prime TV ', r_ui=8.0, est=8.8, details={'actual_k': 10, 'was_impossible': False}),\n",
       " Prediction(uid='robert', iid='Samsung I9082 Galaxy Grand Duos Smartpho', r_ui=8.0, est=9.276612320162794, details={'actual_k': 5, 'was_impossible': False}),\n",
       " Prediction(uid='Nina', iid='Nokia 6131', r_ui=4.0, est=9.357285857285856, details={'actual_k': 2, 'was_impossible': False}),\n",
       " Prediction(uid='e-bit', iid='Smartphone Motorola Moto G 3Âª GeraÃ§Ã£o', r_ui=10.0, est=7.8, details={'actual_k': 10, 'was_impossible': False}),\n",
       " Prediction(uid=\"Client d'Amazon\", iid='Asus Zenfone 2 ZE551ML smartphone dÃ©blo', r_ui=10.0, est=8.0, details={'actual_k': 10, 'was_impossible': False}),\n",
       " Prediction(uid='Amazon Customer', iid='LG G4 Smartphone Display IPS 5.5\" QHD, F', r_ui=10.0, est=8.164683009327144, details={'actual_k': 10, 'was_impossible': False}),\n",
       " Prediction(uid='Amazon Customer', iid='Nokia 130 (Dual SIM, White)', r_ui=2.0, est=7.0, details={'actual_k': 10, 'was_impossible': False}),\n",
       " Prediction(uid='daniel', iid='Samsung Galaxy S4 Mini - Smartphone libr', r_ui=8.0, est=8.279890688181169, details={'actual_k': 10, 'was_impossible': False}),\n",
       " Prediction(uid='Aksisey', iid='Nokia 5800 XpressMusic Cep Telefonu', r_ui=8.0, est=8.0, details={'actual_k': 10, 'was_impossible': False}),\n",
       " Prediction(uid='Amazon Customer', iid='OnePlus 3T (Soft Gold, 6GB RAM + 64GB me', r_ui=10.0, est=9.600000000000001, details={'actual_k': 10, 'was_impossible': False}),\n",
       " Prediction(uid='Amazon Customer', iid='BQ Aquaris X5 - Smartphone de 5\" (WiFi, ', r_ui=2.0, est=6.061909749203341, details={'actual_k': 10, 'was_impossible': False}),\n",
       " Prediction(uid='Anonymous ', iid='Samsung Galaxy S6 edge+ 32GB (Verizon)', r_ui=9.0, est=9.0, details={'actual_k': 10, 'was_impossible': False}),\n",
       " Prediction(uid='e-bit', iid='Smartphone LG K10 K430TV', r_ui=8.0, est=9.8, details={'actual_k': 10, 'was_impossible': False}),\n",
       " Prediction(uid='Amazon Customer', iid='OnePlus 3 (Soft Gold, 64 GB)', r_ui=10.0, est=8.2, details={'actual_k': 10, 'was_impossible': False}),\n",
       " Prediction(uid='einem Kunden', iid='Apple iPhone 7 4,7\" 32 GB', r_ui=10.0, est=9.8, details={'actual_k': 10, 'was_impossible': False}),\n",
       " Prediction(uid='anna', iid='HTC Desire S', r_ui=10.0, est=9.47230273304255, details={'actual_k': 10, 'was_impossible': False}),\n",
       " Prediction(uid='Linda', iid='Huawei P8 grijs / 16 GB', r_ui=9.0, est=8.19710487284134, details={'actual_k': 10, 'was_impossible': False}),\n",
       " Prediction(uid='Amazon Customer', iid='YU Yuphoria YU5010A (Black+Silver)', r_ui=8.0, est=7.6, details={'actual_k': 10, 'was_impossible': False}),\n",
       " Prediction(uid='Matteo', iid='Samsung Galaxy S7 Smartphone, 32 GB, Ner', r_ui=8.0, est=10, details={'actual_k': 10, 'was_impossible': False}),\n",
       " Prediction(uid='Amazon Customer', iid='HTC ONE M9 32GB Unlocked GSM 20MP Camera', r_ui=8.0, est=2.8, details={'actual_k': 10, 'was_impossible': False}),\n",
       " Prediction(uid='Amazon Customer', iid='Lenovo Vibe K5 (Silver, 16GB)', r_ui=8.0, est=8.0, details={'actual_k': 10, 'was_impossible': False}),\n",
       " Prediction(uid='Anna', iid='MICROSOFT Lumia 650 - 16 GB, Black', r_ui=9.0, est=8.12104488060046, details={'actual_k': 10, 'was_impossible': False}),\n",
       " Prediction(uid='David', iid='LG K10', r_ui=6.0, est=6.982717923884713, details={'actual_k': 10, 'was_impossible': False}),\n",
       " Prediction(uid=\"Client d'Amazon\", iid='Honor 7 Smartphone dÃ©bloquÃ© 4G (Ecran:', r_ui=8.0, est=8.6, details={'actual_k': 10, 'was_impossible': False}),\n",
       " Prediction(uid='Cliente Amazon', iid='Honor 7 - Smartphone libre de 5.2\" (4G, ', r_ui=8.0, est=9.8, details={'actual_k': 10, 'was_impossible': False}),\n",
       " Prediction(uid='Amazon Customer', iid='Lenovo Vibe K4 Note (Black, 16GB)', r_ui=8.0, est=8.8, details={'actual_k': 10, 'was_impossible': False}),\n",
       " Prediction(uid='Amazon Customer', iid='Motorola Moto G 3rd Generation (Black, 8', r_ui=10.0, est=6.6, details={'actual_k': 10, 'was_impossible': False}),\n",
       " Prediction(uid='Amazon-Kunde', iid='LG Electronics G3 Smartphone (5,5 Zoll (', r_ui=2.0, est=9.11397890432689, details={'actual_k': 10, 'was_impossible': False}),\n",
       " Prediction(uid='Amazon Customer', iid='YU Yureka (Moondust Grey,16 GB)', r_ui=10.0, est=7.4, details={'actual_k': 10, 'was_impossible': False}),\n",
       " Prediction(uid='Jon', iid='Sony Xperia Z2 5.2 inch SIM-free Smartph', r_ui=10.0, est=9.206854686800114, details={'actual_k': 10, 'was_impossible': False}),\n",
       " Prediction(uid='Robert', iid='Samsung Galaxy S7 Edge wit / 32 GB', r_ui=9.0, est=8.690926842844219, details={'actual_k': 10, 'was_impossible': False}),\n",
       " Prediction(uid='Anonymous', iid='Nokia 5610 XpressMusic', r_ui=9.0, est=8.144420840102871, details={'actual_k': 6, 'was_impossible': False}),\n",
       " Prediction(uid=\"Client d'Amazon\", iid='Samsung Galaxy A3 2016 Smartphone dÃ©blo', r_ui=2.0, est=8.2, details={'actual_k': 10, 'was_impossible': False}),\n",
       " Prediction(uid='Amazon Customer', iid='Samsung GT-B2100 Outdoor Handy (1,3 MP-K', r_ui=8.0, est=6.899489166681046, details={'actual_k': 5, 'was_impossible': False}),\n",
       " Prediction(uid='Amazon Kunde', iid='Honor 6 Smartphone (5 Zoll (12,7 cm) Tou', r_ui=10.0, est=8.586994256475172, details={'actual_k': 10, 'was_impossible': False}),\n",
       " Prediction(uid='Amazon Customer', iid=\"DOOGEE X5 Max Pro 5.0'' IPS 4G Smartphon\", r_ui=8.0, est=8.2, details={'actual_k': 10, 'was_impossible': False}),\n",
       " Prediction(uid='Amazon Customer', iid='Lenovo Vibe K5 (Grey)', r_ui=2.0, est=6.6, details={'actual_k': 10, 'was_impossible': False}),\n",
       " Prediction(uid='Amazon Customer', iid=\"Samsung T379 'Gravity TXT' Unlocked Cell\", r_ui=8.0, est=4.800000000000001, details={'actual_k': 10, 'was_impossible': False}),\n",
       " Prediction(uid='Tim', iid='Huawei P8 grijs / 16 GB', r_ui=8.0, est=9.36848745450238, details={'actual_k': 10, 'was_impossible': False}),\n",
       " Prediction(uid='Amazon Customer', iid='LG Nexus 5X Unlocked Smartphone with 5.2', r_ui=8.0, est=8.0, details={'actual_k': 10, 'was_impossible': False}),\n",
       " Prediction(uid='Amazon Kunde', iid='Samsung Galaxy A3 Smartphone (4,5 Zoll (', r_ui=10.0, est=8.6, details={'actual_k': 10, 'was_impossible': False}),\n",
       " Prediction(uid='Roy', iid='Motorola Droid 3 Verizon Xt862 Verizon C', r_ui=8.0, est=4.9588583925958485, details={'actual_k': 4, 'was_impossible': False}),\n",
       " Prediction(uid='Amazon Customer', iid='LG G Vista 4G Unlocked 4G LTE Android 8M', r_ui=10.0, est=7.8, details={'actual_k': 10, 'was_impossible': False}),\n",
       " Prediction(uid='Amazon Customer', iid='Microsoft Lumia 650 (Dual SIM, BLACK DAR', r_ui=2.0, est=6.0, details={'actual_k': 10, 'was_impossible': False}),\n",
       " Prediction(uid='ozlemce108', iid='Nokia 6300 Cep Telefonu', r_ui=8.0, est=8.0, details={'actual_k': 10, 'was_impossible': False}),\n",
       " Prediction(uid='Amazon Customer', iid='Motorola Moto G 3rd Generation (Black, 8', r_ui=2.0, est=6.6, details={'actual_k': 10, 'was_impossible': False}),\n",
       " Prediction(uid='Cliente Amazon', iid='Huawei P8 Lite-AM08 - Pack Smartphone Hu', r_ui=8.0, est=9.4, details={'actual_k': 10, 'was_impossible': False}),\n",
       " Prediction(uid=\"Client d'Amazon\", iid='Sony Mobile Xperia Z5 Compact Smartphone', r_ui=8.0, est=8.4, details={'actual_k': 10, 'was_impossible': False}),\n",
       " Prediction(uid='Ð\\x9dÐ¸ÐºÐ¸Ñ\\x82Ð°', iid='HTC HD2', r_ui=10.0, est=8.910556219402583, details={'actual_k': 4, 'was_impossible': False}),\n",
       " Prediction(uid='Amazon Customer', iid='Lenovo Vibe K5 (Grey, VoLTE update)', r_ui=4.0, est=6.6, details={'actual_k': 10, 'was_impossible': False}),\n",
       " Prediction(uid='Amazon Customer', iid='Lenovo Vibe K5 (Silver, 16GB)', r_ui=10.0, est=8.0, details={'actual_k': 10, 'was_impossible': False}),\n",
       " Prediction(uid='Amazon Customer', iid='Lenovo S850 (White, 16GB)', r_ui=10.0, est=4.200000000000001, details={'actual_k': 10, 'was_impossible': False}),\n",
       " Prediction(uid='Amazon Customer', iid='Asus Zenfone Max ZC550KL-6A068IN (Black,', r_ui=10.0, est=7.4, details={'actual_k': 10, 'was_impossible': False}),\n",
       " Prediction(uid='Cliente Amazon', iid='Samsung J710 Galaxy J7 Smartphone da 16 ', r_ui=10.0, est=8.8, details={'actual_k': 10, 'was_impossible': False}),\n",
       " Prediction(uid='Raul', iid='Kyocera Hydro Icon Black (Boost Mobile)', r_ui=10.0, est=7.550873683897448, details={'actual_k': 5, 'was_impossible': False}),\n",
       " Prediction(uid='Amazon Customer', iid='Huawei P8 Lite US Version- 5 Unlocked An', r_ui=4.0, est=6.8, details={'actual_k': 10, 'was_impossible': False}),\n",
       " Prediction(uid='e-bit', iid='Celular Nokia C2-01', r_ui=6.0, est=8.0, details={'actual_k': 10, 'was_impossible': False}),\n",
       " Prediction(uid='einem Kunden', iid='Apple iPhone 6s 4,7\" 128 GB', r_ui=10.0, est=9.6, details={'actual_k': 10, 'was_impossible': False}),\n",
       " Prediction(uid='Amazon Customer', iid='Nokia Lumia 635 8GB Unlocked GSM 4G LTE ', r_ui=4.0, est=6.0, details={'actual_k': 10, 'was_impossible': False}),\n",
       " Prediction(uid='Amazon Customer', iid='Samsung Galaxy Centura Android Prepaid P', r_ui=10.0, est=7.6, details={'actual_k': 10, 'was_impossible': False}),\n",
       " Prediction(uid=\"Client d'Amazon\", iid='Doogee X5 Smartphone DÃ©bloquÃ© 5.0 Pouc', r_ui=4.0, est=7.0, details={'actual_k': 10, 'was_impossible': False}),\n",
       " Prediction(uid='Patrick', iid='Lenovo Motorola RAZR i Smartphone (10,9 ', r_ui=8.0, est=8.133707431223199, details={'actual_k': 7, 'was_impossible': False}),\n",
       " Prediction(uid='Amazon Customer', iid='Motorola Moto G (3Âª GeneraciÃ³n) + Carc', r_ui=2.0, est=9.223732841811925, details={'actual_k': 10, 'was_impossible': False}),\n",
       " Prediction(uid='Christine', iid='Sony Xperia miro Smartphone (8,9 cm (3,5', r_ui=8.0, est=7.693712792694747, details={'actual_k': 9, 'was_impossible': False}),\n",
       " Prediction(uid='Ð\\xa0Ð¾Ð¼Ð°Ð½', iid='Sony Xperia Z1 (Ñ\\x84Ð¸Ð¾Ð»ÐµÑ\\x82Ð¾Ð²Ñ\\x8bÐ¹)', r_ui=9.0, est=7.278112448431859, details={'actual_k': 10, 'was_impossible': False}),\n",
       " Prediction(uid='Tony', iid='Samsung Accessories Galaxy S3 Mini GT-i8', r_ui=10.0, est=7.408711899966821, details={'actual_k': 4, 'was_impossible': False}),\n",
       " Prediction(uid='Amazon Customer', iid='Microsoft Lumia 950 XL Smartphone 14,5 c', r_ui=10.0, est=9.715015411707505, details={'actual_k': 10, 'was_impossible': False}),\n",
       " Prediction(uid='Amazon Customer', iid='Nokia 105 (Black)', r_ui=2.0, est=6.2, details={'actual_k': 10, 'was_impossible': False}),\n",
       " Prediction(uid='#', iid='Nokia 5310 XpressMusic', r_ui=8.0, est=7.258740460054814, details={'actual_k': 10, 'was_impossible': False}),\n",
       " Prediction(uid='Charlie', iid='APPLE iPhone 7 - Silver, 32 GB', r_ui=10.0, est=8.744985686582325, details={'actual_k': 10, 'was_impossible': False}),\n",
       " Prediction(uid='Anonymous', iid='Microsoft Nokia 2710 Navigation Edition ', r_ui=10.0, est=8.149299235284131, details={'actual_k': 6, 'was_impossible': False}),\n",
       " Prediction(uid='Felix', iid='BlackBerry 8520 Unlocked Phone with 2 MP', r_ui=10.0, est=8.340275604459693, details={'actual_k': 10, 'was_impossible': False}),\n",
       " Prediction(uid='Guillermo', iid='BLU Tank II T193 Unlocked GSM Dual-SIM C', r_ui=10.0, est=8.585293832967984, details={'actual_k': 10, 'was_impossible': False}),\n",
       " Prediction(uid='Amazon Customer', iid='Lenovo Used Lenovo Zuk Z1 (Space Grey, 6', r_ui=2.0, est=5.6, details={'actual_k': 10, 'was_impossible': False}),\n",
       " Prediction(uid='Daniel', iid='Microsoft Nokia 6303i Handy (Kamera mit ', r_ui=10.0, est=7.06917086926632, details={'actual_k': 10, 'was_impossible': False}),\n",
       " Prediction(uid='Amazon Customer', iid='BLU Studio Mini LTE with 4.5-Inch IPS Di', r_ui=2.0, est=9.705468352359834, details={'actual_k': 5, 'was_impossible': False}),\n",
       " Prediction(uid='Amazon Kunde', iid='Samsung Galaxy J1 Smartphone (4,3 Zoll (', r_ui=8.0, est=6.044674472348302, details={'actual_k': 10, 'was_impossible': False}),\n",
       " Prediction(uid='Antonio', iid='Samsung Galaxy Note 3 LTE N9005 - Smartp', r_ui=10.0, est=9.301237141025744, details={'actual_k': 8, 'was_impossible': False}),\n",
       " Prediction(uid='Flipkart Customer', iid='Samsung Galaxy J7', r_ui=8.0, est=10, details={'actual_k': 1, 'was_impossible': False}),\n",
       " Prediction(uid='Julie', iid='LG Escape P870 Unlocked GSM 4G LTE Dual-', r_ui=10.0, est=2.4323989957576284, details={'actual_k': 3, 'was_impossible': False}),\n",
       " Prediction(uid='e-bit', iid='Smartphone Samsung Galaxy Gran Prime TV ', r_ui=8.0, est=8.8, details={'actual_k': 10, 'was_impossible': False}),\n",
       " Prediction(uid='einem Kunden', iid='Samsung Galaxy S7 edge Smartphone, 13,9 ', r_ui=10.0, est=9.8, details={'actual_k': 10, 'was_impossible': False}),\n",
       " Prediction(uid='Misafir', iid='Samsung (936) S5610', r_ui=8.0, est=8.125283446712018, details={'actual_k': 7, 'was_impossible': False}),\n",
       " Prediction(uid='Ð\\x9aÐ¸Ñ\\x80Ð¸Ð»Ð»', iid='Ð¡Ð¾Ñ\\x82Ð¾Ð²Ñ\\x8bÐ¹ Ñ\\x82ÐµÐ»ÐµÑ\\x84Ð¾Ð½ Apple iPho', r_ui=10.0, est=7.143541549916096, details={'actual_k': 10, 'was_impossible': False}),\n",
       " Prediction(uid='Andrea', iid='LG Nexus 5X - Smartphone libre Android (', r_ui=10.0, est=8.185889277333379, details={'actual_k': 10, 'was_impossible': False}),\n",
       " Prediction(uid='Manuel', iid='HTC Magic', r_ui=6.0, est=6.496448669770225, details={'actual_k': 3, 'was_impossible': False}),\n",
       " Prediction(uid='Amazon Customer', iid='Lenovo Vibe K4 Note (White,16GB)', r_ui=8.0, est=5.4, details={'actual_k': 10, 'was_impossible': False}),\n",
       " Prediction(uid='kuzeykizi', iid='Samsung Omnia (i900) Cep Telefonu', r_ui=8.0, est=8.0, details={'actual_k': 10, 'was_impossible': False}),\n",
       " Prediction(uid='Amazon Customer', iid='Lenovo Vibe K5 (Gold, VoLTE update)', r_ui=6.0, est=5.4, details={'actual_k': 10, 'was_impossible': False}),\n",
       " Prediction(uid='Mac Reviews', iid='XOLO Q1000 Opus (Black)', r_ui=6.0, est=8.784527530051294, details={'actual_k': 1, 'was_impossible': False}),\n",
       " Prediction(uid='Amazon Customer', iid='Samsung Galaxy S6 64 GB UK SIM-Free Smar', r_ui=2.0, est=8.8, details={'actual_k': 10, 'was_impossible': False}),\n",
       " Prediction(uid='Amazon Customer', iid='Lenovo Vibe K5 (Gold, VoLTE update)', r_ui=10.0, est=5.4, details={'actual_k': 10, 'was_impossible': False}),\n",
       " Prediction(uid='Ð\\x90Ð½Ð°Ñ\\x81Ñ\\x82Ð°Ñ\\x81Ð¸Ñ\\x8f', iid='Sony Xperia C (Ñ\\x84Ð¸Ð¾Ð»ÐµÑ\\x82Ð¾Ð²Ñ\\x8bÐ¹)', r_ui=8.0, est=9.108976527987394, details={'actual_k': 10, 'was_impossible': False}),\n",
       " Prediction(uid='Cliente Amazon', iid='Lenovo Moto G4 Play - Smartphone de 5 (4', r_ui=8.0, est=8.4, details={'actual_k': 10, 'was_impossible': False}),\n",
       " Prediction(uid='einer Kundin', iid='Samsung Galaxy S7 Smartphone, 12,9 cm (5', r_ui=10.0, est=9.6, details={'actual_k': 10, 'was_impossible': False}),\n",
       " Prediction(uid='Alessandra', iid='LG Nexus 4 Smartphone, Nero [Italia]', r_ui=10.0, est=8.48076386801765, details={'actual_k': 10, 'was_impossible': False}),\n",
       " Prediction(uid='Amazon Customer', iid='Samsung Galaxy Grand Prime 4G SM-G531F (', r_ui=8.0, est=6.6, details={'actual_k': 10, 'was_impossible': False}),\n",
       " Prediction(uid='Amazon Customer', iid='Samsung Convoy 3, Gray (Verizon Wireless', r_ui=10.0, est=7.501842225352405, details={'actual_k': 10, 'was_impossible': False}),\n",
       " Prediction(uid='Amazon Customer', iid='Oppo Neo 7 (Black, 16GB)', r_ui=6.0, est=8.8, details={'actual_k': 10, 'was_impossible': False}),\n",
       " Prediction(uid='Elena', iid='Sony Xperia L (Ñ\\x87ÐµÑ\\x80Ð½Ñ\\x8bÐ¹)', r_ui=8.0, est=8.519280416740859, details={'actual_k': 10, 'was_impossible': False}),\n",
       " Prediction(uid='Anonymous ', iid='Samsung Galaxy S6 edge+ 32GB (Sprint)', r_ui=10.0, est=9.875, details={'actual_k': 8, 'was_impossible': False}),\n",
       " Prediction(uid='Ð\\x9dÐ¸ÐºÐ¸Ñ\\x82Ð°', iid='Sony Xperia SP (Ñ\\x87ÐµÑ\\x80Ð½Ñ\\x8bÐ¹)', r_ui=10.0, est=9.237322134128986, details={'actual_k': 10, 'was_impossible': False}),\n",
       " Prediction(uid='Cliente Amazon', iid='LG K10 Smartphone da 16 GB, Schermo IPS ', r_ui=8.0, est=8.4, details={'actual_k': 10, 'was_impossible': False}),\n",
       " Prediction(uid='Antonio', iid='Huawei P9 Lite Smartphone, LTE, Display ', r_ui=10.0, est=8.318022201094102, details={'actual_k': 10, 'was_impossible': False}),\n",
       " Prediction(uid='Robert', iid='BlackBerry Classic Factory Unlocked Cell', r_ui=10.0, est=10, details={'actual_k': 8, 'was_impossible': False}),\n",
       " Prediction(uid='Ð®Ñ\\x80Ð¸Ð¹', iid='Sony Xperia C (Ñ\\x84Ð¸Ð¾Ð»ÐµÑ\\x82Ð¾Ð²Ñ\\x8bÐ¹)', r_ui=9.0, est=8.436781715245166, details={'actual_k': 10, 'was_impossible': False}),\n",
       " Prediction(uid='silvia', iid='Motorola Moto G (2Ã¨me GÃ©nÃ©ration) Sma', r_ui=10.0, est=9.297917492350154, details={'actual_k': 2, 'was_impossible': False}),\n",
       " Prediction(uid='Cliente Amazon', iid='Huawei P8 Lite - Smartphone libre Androi', r_ui=10.0, est=7.6, details={'actual_k': 10, 'was_impossible': False}),\n",
       " Prediction(uid='delicate', iid='Nokia N97 mini Cep Telefonu', r_ui=8.0, est=8.0, details={'actual_k': 10, 'was_impossible': False}),\n",
       " Prediction(uid='Amazon Customer', iid='Lenovo Vibe K4 Note (Black, 16GB)', r_ui=2.0, est=8.8, details={'actual_k': 10, 'was_impossible': False}),\n",
       " Prediction(uid='Jeff', iid='LG Nexus 5X Unlocked Smartphone with 5.2', r_ui=10.0, est=8.52375862211101, details={'actual_k': 10, 'was_impossible': False}),\n",
       " Prediction(uid='e-bit', iid='Smartphone Samsung Galaxy S5 SM-G900', r_ui=10.0, est=8.8, details={'actual_k': 10, 'was_impossible': False}),\n",
       " Prediction(uid='einem Kunden', iid='Samsung Galaxy S7 Smartphone, 12,9 cm (5', r_ui=10.0, est=10, details={'actual_k': 10, 'was_impossible': False}),\n",
       " Prediction(uid='Sandy', iid='Samsung Galaxy S5 mini Smartphone (4,5 Z', r_ui=10.0, est=7.6857606846956745, details={'actual_k': 10, 'was_impossible': False}),\n",
       " Prediction(uid='????????', iid='Huawei U8860 Honor', r_ui=8.0, est=9.961056470303483, details={'actual_k': 10, 'was_impossible': False}),\n",
       " Prediction(uid='Ð\\x9cÐ°Ñ\\x80Ð¸Ñ\\x8f', iid='LG K7 (Ð·Ð¾Ð»Ð¾Ñ\\x82Ð¸Ñ\\x81Ñ\\x82Ñ\\x8bÐ¹)', r_ui=8.0, est=8.730644883213058, details={'actual_k': 10, 'was_impossible': False}),\n",
       " Prediction(uid='Ð¡ÐµÑ\\x80Ð³ÐµÐ¹', iid='LG X power (Ð¸Ð½Ð´Ð¸Ð³Ð¾)', r_ui=10.0, est=7.980161372489908, details={'actual_k': 10, 'was_impossible': False}),\n",
       " Prediction(uid='Nicolas', iid='Samsung Galaxy J5 J500M 8GB Unlocked GSM', r_ui=10.0, est=9.62477555544151, details={'actual_k': 10, 'was_impossible': False}),\n",
       " Prediction(uid='Amazon Customer', iid='Lenovo Phab 2 Plus Smartphone (Grey, JBL', r_ui=8.0, est=5.6, details={'actual_k': 10, 'was_impossible': False}),\n",
       " Prediction(uid='Amazon Kunde', iid='Huawei P9 lite Smartphone (13,2 cm (5,2 ', r_ui=10.0, est=7.8, details={'actual_k': 10, 'was_impossible': False}),\n",
       " Prediction(uid=\"Client d'Amazon\", iid='AICEK Coque Samsung Galaxy A3 2016, AICE', r_ui=10.0, est=8.4, details={'actual_k': 10, 'was_impossible': False}),\n",
       " Prediction(uid='Amazon Kunde', iid='Microsoft Lumia 640 Dual-SIM Smartphone ', r_ui=10.0, est=6.4, details={'actual_k': 10, 'was_impossible': False}),\n",
       " Prediction(uid='Amazon Customer', iid='OnePlus One (Sandstone Black, 64GB)', r_ui=8.0, est=6.800000000000001, details={'actual_k': 10, 'was_impossible': False}),\n",
       " Prediction(uid='einer Kundin', iid='Sony Xperia XA Smartphone, 12,7 cm (5 Zo', r_ui=10.0, est=9.4, details={'actual_k': 10, 'was_impossible': False}),\n",
       " Prediction(uid='e-bit', iid='Smartphone Samsung Galaxy A5 SM-A510M', r_ui=8.0, est=8.8, details={'actual_k': 10, 'was_impossible': False}),\n",
       " Prediction(uid='Alberto', iid='Samsung G357 Galaxy Ace 4 Smartphone, 4 ', r_ui=8.0, est=8.848469024172323, details={'actual_k': 10, 'was_impossible': False}),\n",
       " Prediction(uid='Ron', iid='Samsung Galaxy S II 4G Prepaid Android P', r_ui=10.0, est=9.593405353628507, details={'actual_k': 6, 'was_impossible': False}),\n",
       " Prediction(uid='Ð\\x9eÐ»Ñ\\x8cÐ³Ð°', iid='Nokia C7-00', r_ui=4.0, est=7.053805640426109, details={'actual_k': 10, 'was_impossible': False}),\n",
       " Prediction(uid='Amazon Customer', iid='Samsung Galaxy Note 4, Charcoal Black 32', r_ui=2.0, est=8.0, details={'actual_k': 10, 'was_impossible': False}),\n",
       " Prediction(uid='Amazon Customer', iid='Lenovo Vibe K4 Note (White,16GB)', r_ui=10.0, est=5.4, details={'actual_k': 10, 'was_impossible': False}),\n",
       " Prediction(uid='Amazon Customer', iid='BLU Tank II T193 Unlocked GSM Dual-SIM C', r_ui=10.0, est=6.6, details={'actual_k': 10, 'was_impossible': False}),\n",
       " Prediction(uid='Stephan', iid='Apple iPhone 5S 16GB', r_ui=5.0, est=8.026315789473685, details={'actual_k': 0, 'was_impossible': False}),\n",
       " Prediction(uid='Roberto', iid='DOOGEE VALENCIA2 Y100 Pro 5.0 Pollici HD', r_ui=10.0, est=7.735113693782067, details={'actual_k': 10, 'was_impossible': False}),\n",
       " Prediction(uid='e-bit', iid='Smartphone Lenovo Vibe K5', r_ui=10.0, est=8.6, details={'actual_k': 10, 'was_impossible': False}),\n",
       " Prediction(uid=\"Client d'Amazon\", iid='ebestStar pour Samsung Galaxy S7 edge SM', r_ui=2.0, est=2.5999999999999996, details={'actual_k': 10, 'was_impossible': False}),\n",
       " Prediction(uid='Ð\\x9eÐ»ÐµÐ³', iid='Apple iPhone 5s 16GB (Ñ\\x81ÐµÑ\\x80Ñ\\x8bÐ¹ ÐºÐ¾Ñ\\x81Ð', r_ui=10.0, est=9.881430206484838, details={'actual_k': 10, 'was_impossible': False}),\n",
       " Prediction(uid='einer Kundin', iid='Apple iPhone 7 4,7\" 32 GB', r_ui=10.0, est=9.8, details={'actual_k': 10, 'was_impossible': False}),\n",
       " Prediction(uid='e-bit', iid='Celular Motorola EX115', r_ui=8.0, est=6.200000000000001, details={'actual_k': 10, 'was_impossible': False}),\n",
       " Prediction(uid='Amazon Customer', iid='Huawei P9 lite Smartphone VNS-L31 (5,2 Z', r_ui=6.0, est=7.767739991233035, details={'actual_k': 10, 'was_impossible': False}),\n",
       " Prediction(uid='Ð¡ÐµÑ\\x80Ð³ÐµÐ¹', iid='Apple iPhone 5s 16GB (Ñ\\x81ÐµÑ\\x80Ñ\\x8bÐ¹ ÐºÐ¾Ñ\\x81Ð', r_ui=10.0, est=9.199574753293527, details={'actual_k': 10, 'was_impossible': False}),\n",
       " Prediction(uid='Ð¡ÐµÑ\\x80Ð³ÐµÐ¹', iid='Sony Xperia Z (Ð±ÐµÐ»Ñ\\x8bÐ¹)', r_ui=8.0, est=8.329625571105167, details={'actual_k': 10, 'was_impossible': False}),\n",
       " Prediction(uid='Amazon Customer', iid='Microsoft Lumia 640 XL - Smartphone libr', r_ui=10.0, est=7.693075736620509, details={'actual_k': 10, 'was_impossible': False}),\n",
       " Prediction(uid='Amazon Customer', iid='Sony Xperia Z5 Compact SIM-Free Smartpho', r_ui=2.0, est=8.669283683690425, details={'actual_k': 10, 'was_impossible': False}),\n",
       " Prediction(uid='Cliente Amazon', iid='Meizu M3S Smartphone, Dual-SIM, 16 GB, G', r_ui=10.0, est=7.8, details={'actual_k': 10, 'was_impossible': False}),\n",
       " Prediction(uid='Amazon Customer', iid='OnePlus 3 (Graphite, 64 GB)', r_ui=2.0, est=7.6, details={'actual_k': 10, 'was_impossible': False}),\n",
       " Prediction(uid='michael', iid='Samsung Galaxy S5 Active G870a 16GB Unlo', r_ui=2.0, est=7.009736773133656, details={'actual_k': 10, 'was_impossible': False}),\n",
       " Prediction(uid='Amazon Kunde', iid='Samsung SGH-U800 Soul (3MP Kamera, Bluet', r_ui=10.0, est=8.417120916815081, details={'actual_k': 2, 'was_impossible': False}),\n",
       " Prediction(uid='Chris', iid='HTC ONE X Smartphone (11,9 cm (4,7 Zoll)', r_ui=10.0, est=7.319427447414965, details={'actual_k': 7, 'was_impossible': False}),\n",
       " Prediction(uid='Amazon Customer', iid='Motorola Moto G 3rd Generation (Black, 1', r_ui=10.0, est=8.2, details={'actual_k': 10, 'was_impossible': False}),\n",
       " Prediction(uid='Amazon Customer', iid='Mi Xiaomi Mi Max Prime (Gold, 128GB)', r_ui=10.0, est=7.8, details={'actual_k': 10, 'was_impossible': False}),\n",
       " Prediction(uid='Amazon Customer', iid='Lenovo Vibe K4 Note (Black, 16GB)', r_ui=2.0, est=8.8, details={'actual_k': 10, 'was_impossible': False}),\n",
       " Prediction(uid='e-bit', iid='Smartphone LG G3 D855', r_ui=10.0, est=8.8, details={'actual_k': 10, 'was_impossible': False}),\n",
       " Prediction(uid='Chiara', iid='Samsung Galaxy S3 mini I8190 Smartphone,', r_ui=8.0, est=7.986261041628705, details={'actual_k': 10, 'was_impossible': False}),\n",
       " Prediction(uid=\"Client d'Amazon\", iid='Samsung Galaxy J3 Smartphone dÃ©bloquÃ© ', r_ui=2.0, est=8.0, details={'actual_k': 10, 'was_impossible': False}),\n",
       " Prediction(uid='Amazon Customer', iid='Lenovo Vibe K5 (Gold, VoLTE update)', r_ui=2.0, est=5.4, details={'actual_k': 10, 'was_impossible': False}),\n",
       " Prediction(uid='Amazon Customer', iid='Motorola Droid RAZR M XT907 Verizon Wire', r_ui=6.0, est=6.036025950308978, details={'actual_k': 10, 'was_impossible': False}),\n",
       " Prediction(uid='Ð\\x95Ð»ÐµÐ½Ð°', iid='Sony Xperia L (ÐºÑ\\x80Ð°Ñ\\x81Ð½Ñ\\x8bÐ¹)', r_ui=10.0, est=9.312316035367285, details={'actual_k': 10, 'was_impossible': False}),\n",
       " Prediction(uid='??????????????', iid='Sony Xperia V (?\\x80????????????)', r_ui=10.0, est=8.566857043745431, details={'actual_k': 10, 'was_impossible': False}),\n",
       " Prediction(uid='Amazon Customer', iid='Huawei Honor 5X (Grey, 16GB)', r_ui=10.0, est=6.0, details={'actual_k': 10, 'was_impossible': False}),\n",
       " Prediction(uid='Cliente Amazon', iid='DOOGEE X5 Pro -- 4G Smartphone 5.0\" IPS ', r_ui=10.0, est=8.4, details={'actual_k': 10, 'was_impossible': False}),\n",
       " Prediction(uid='Amazon Customer', iid='Tracone Motorola EX431G Prepaid Phone Wi', r_ui=6.0, est=9.284732467043057, details={'actual_k': 10, 'was_impossible': False}),\n",
       " Prediction(uid='Anonymous ', iid='Samsung Galaxy S7 edge 32GB (AT&T)', r_ui=7.0, est=9.6, details={'actual_k': 10, 'was_impossible': False}),\n",
       " Prediction(uid='Amazon Kunde', iid='Lenovo Motorola Moto X 2. Generation Sma', r_ui=10.0, est=8.274845816860923, details={'actual_k': 10, 'was_impossible': False}),\n",
       " Prediction(uid='Amazon Customer', iid='Sony Xperia C5 Ultra Dual (Black)', r_ui=10.0, est=5.2, details={'actual_k': 10, 'was_impossible': False}),\n",
       " Prediction(uid='Amazon Customer', iid='BLU Vivo XL Smartphone-5.5-Inch 4G LTE-G', r_ui=8.0, est=8.0, details={'actual_k': 10, 'was_impossible': False}),\n",
       " Prediction(uid='Cliente Amazon', iid='Samsung Smartphone Samsung Galaxy J5 (20', r_ui=8.0, est=9.4, details={'actual_k': 10, 'was_impossible': False}),\n",
       " Prediction(uid='Amazon Customer', iid='Samsung Montage Black and Silver (Virgin', r_ui=4.0, est=6.751827366089478, details={'actual_k': 7, 'was_impossible': False}),\n",
       " Prediction(uid='Amazon Customer', iid='Apple iPhone 4 Verizon Cellphone, 8GB, W', r_ui=8.0, est=6.8, details={'actual_k': 10, 'was_impossible': False}),\n",
       " Prediction(uid='Manuela', iid='Apple iPhone 5 Unlocked Cellphone, 32GB,', r_ui=10.0, est=8.064319146665037, details={'actual_k': 10, 'was_impossible': False}),\n",
       " Prediction(uid='e-bit', iid='Smartphone Motorola Moto G 4 Play XT1603', r_ui=10.0, est=8.6, details={'actual_k': 10, 'was_impossible': False}),\n",
       " Prediction(uid='Amazon Customer', iid='Nokia 225 (Dual SIM, White)', r_ui=10.0, est=7.362777645042088, details={'actual_k': 8, 'was_impossible': False}),\n",
       " Prediction(uid='Amazon Customer', iid='Lenovo Vibe K4 Note (White,16GB)', r_ui=8.0, est=5.4, details={'actual_k': 10, 'was_impossible': False}),\n",
       " Prediction(uid='Jan', iid='Huawei P8lite zwart / 16 GB', r_ui=8.0, est=8.1, details={'actual_k': 10, 'was_impossible': False}),\n",
       " Prediction(uid='Cliente Amazon', iid='Apple iPhone 6 16GB (Argento)', r_ui=10.0, est=6.6, details={'actual_k': 10, 'was_impossible': False}),\n",
       " Prediction(uid='einer Kundin', iid='Samsung Galaxy A3 (2016) - A310F Smartph', r_ui=10.0, est=9.8, details={'actual_k': 10, 'was_impossible': False}),\n",
       " Prediction(uid='Manuel', iid='LG G4 H815 5.5-Inch Factory Unlocked Sma', r_ui=10.0, est=6.434959122522397, details={'actual_k': 10, 'was_impossible': False}),\n",
       " Prediction(uid='Carlos', iid='Smartphone Samsung Galaxy S Duos 2 Branc', r_ui=10.0, est=9.859936657205608, details={'actual_k': 8, 'was_impossible': False}),\n",
       " Prediction(uid='Amazon Kunde', iid='Samsung Galaxy S II (i9100) DualCore Sma', r_ui=2.0, est=2.4761114520291425, details={'actual_k': 3, 'was_impossible': False}),\n",
       " Prediction(uid='Marina', iid='Huawei Ascend P8 Smartphone, Display 5.2', r_ui=10.0, est=8.22695694977364, details={'actual_k': 10, 'was_impossible': False}),\n",
       " Prediction(uid='einer Kundin', iid='Apple iPhone 7 Plus 5,5\" 128 GB', r_ui=10.0, est=8.8, details={'actual_k': 10, 'was_impossible': False}),\n",
       " Prediction(uid='e-bit', iid='Smartphone Asus ZenFone 3 ZE552KL', r_ui=10.0, est=10, details={'actual_k': 10, 'was_impossible': False}),\n",
       " Prediction(uid='Amazon Customer', iid='Mi Xiaomi Mi Max Prime (Gold, 128GB)', r_ui=10.0, est=7.8, details={'actual_k': 10, 'was_impossible': False}),\n",
       " Prediction(uid='Cliente Amazon', iid='Asus ZE551ML-2A760WW Smartphone ZenFone ', r_ui=10.0, est=7.6, details={'actual_k': 10, 'was_impossible': False}),\n",
       " Prediction(uid='Gast', iid='Blackberry Bold 9900 Smartphone (7,1 cm ', r_ui=10.0, est=3.1919017001913073, details={'actual_k': 6, 'was_impossible': False}),\n",
       " Prediction(uid=\"Client d'Amazon\", iid='Honor 7 Smartphone dÃ©bloquÃ© 4G (Ecran:', r_ui=8.0, est=8.6, details={'actual_k': 10, 'was_impossible': False}),\n",
       " Prediction(uid='david', iid='Cubot P9 5.0 inch QHD Google Android 4.2', r_ui=10.0, est=7.814375521557719, details={'was_impossible': True, 'reason': 'User and/or item is unknown.'}),\n",
       " Prediction(uid='Amazon Customer', iid='Samsung Galaxy S5 SIM-Free Smartphone - ', r_ui=10.0, est=7.0, details={'actual_k': 10, 'was_impossible': False}),\n",
       " Prediction(uid='Amazon Customer', iid='Motorola RAZR V3 Unlocked Phone with Cam', r_ui=8.0, est=3.4000000000000004, details={'actual_k': 10, 'was_impossible': False}),\n",
       " Prediction(uid='Amazon Customer', iid='Apple iPhone 5s (Space Grey, 32GB)', r_ui=2.0, est=6.6, details={'actual_k': 10, 'was_impossible': False}),\n",
       " Prediction(uid='Amazon Customer', iid='Pantech P7040 Link Unlocked Phone with Q', r_ui=10.0, est=9.09245728976615, details={'actual_k': 7, 'was_impossible': False}),\n",
       " Prediction(uid='Amazon Customer', iid='Lenovo PHAB Plus Tablet (6.8 inch, 32GB,', r_ui=10.0, est=6.6, details={'actual_k': 10, 'was_impossible': False}),\n",
       " Prediction(uid='Alias', iid='Asus ZE551ML-2A760WW Smartphone ZenFone ', r_ui=8.0, est=8.05733801173371, details={'actual_k': 10, 'was_impossible': False}),\n",
       " Prediction(uid='Amazon Customer', iid='Motorola Moto G 3rd Generation LTE UK SI', r_ui=10.0, est=9.2, details={'actual_k': 10, 'was_impossible': False}),\n",
       " Prediction(uid='Denise', iid='Smartphone Nokia Lumia 630 Preto Dual Si', r_ui=8.0, est=7.644336876167791, details={'actual_k': 10, 'was_impossible': False}),\n",
       " Prediction(uid='Cliente Amazon', iid='Apple iPhone 5C 16GB - sbloccato - blu /', r_ui=2.0, est=7.567195284399409, details={'actual_k': 10, 'was_impossible': False}),\n",
       " Prediction(uid='Amazon Customer', iid='Sony Xperia XA Dual (Lime Gold)', r_ui=6.0, est=8.4, details={'actual_k': 10, 'was_impossible': False}),\n",
       " Prediction(uid='Sophie', iid='Honor 7 Smartphone dÃ©bloquÃ© 4G (Ecran:', r_ui=8.0, est=9.995139406868304, details={'actual_k': 10, 'was_impossible': False}),\n",
       " Prediction(uid='sam', iid='Nokia N73', r_ui=8.0, est=7.148044352382113, details={'actual_k': 1, 'was_impossible': False}),\n",
       " Prediction(uid='????????', iid='Samsung C3322 (?????\\x80??????)', r_ui=10.0, est=7.517395686065755, details={'actual_k': 10, 'was_impossible': False}),\n",
       " Prediction(uid='Flo', iid='HTC HD7 Smartphone (10,9 cm (4,3 Zoll) T', r_ui=4.0, est=8.480742448510316, details={'actual_k': 8, 'was_impossible': False}),\n",
       " Prediction(uid='Amazon Customer', iid='Nokia 105 Dual SIM (Black)', r_ui=2.0, est=7.4, details={'actual_k': 10, 'was_impossible': False}),\n",
       " Prediction(uid='Amazon Customer', iid='Lenovo Vibe K4 Note (White,16GB)', r_ui=8.0, est=5.4, details={'actual_k': 10, 'was_impossible': False}),\n",
       " Prediction(uid='Amazon Customer', iid='Samsung Galaxy Note 4, Charcoal Black 32', r_ui=8.0, est=8.0, details={'actual_k': 10, 'was_impossible': False}),\n",
       " Prediction(uid='JC', iid='Nokia N95', r_ui=10.0, est=8.650290537998057, details={'actual_k': 6, 'was_impossible': False}),\n",
       " Prediction(uid='einem Kunden', iid='Apple iPhone 7 4,7\" 32 GB', r_ui=10.0, est=9.8, details={'actual_k': 10, 'was_impossible': False}),\n",
       " Prediction(uid='Ð\\x9fÐ°Ð²ÐµÐ»', iid='Sony Xperia Z (Ñ\\x87ÐµÑ\\x80Ð½Ñ\\x8bÐ¹)', r_ui=10.0, est=8.453360687746779, details={'actual_k': 10, 'was_impossible': False}),\n",
       " Prediction(uid='okuyan', iid='Sony Ericsson K850i Cep Telefonu', r_ui=8.0, est=8.0, details={'actual_k': 10, 'was_impossible': False}),\n",
       " Prediction(uid='Cliente Amazon', iid='Samsung Galaxy S7 edge SM-G935F 32GB 4G ', r_ui=10.0, est=7.8, details={'actual_k': 10, 'was_impossible': False}),\n",
       " Prediction(uid='Dave', iid='Samsung Galaxy YOUNG 2 Smartphone (8,89 ', r_ui=8.0, est=5.741808794491345, details={'actual_k': 2, 'was_impossible': False}),\n",
       " Prediction(uid='einer Kundin', iid='Apple iPhone 7 4,7\" 32 GB', r_ui=10.0, est=9.8, details={'actual_k': 10, 'was_impossible': False}),\n",
       " Prediction(uid='Amazon Customer', iid='TTfone Venus 2 - Big Button Flip Mobile ', r_ui=10.0, est=7.768740208628374, details={'actual_k': 10, 'was_impossible': False}),\n",
       " Prediction(uid='Amazon Customer', iid='Lenovo PHAB Plus Tablet (6.8 inch, 32GB,', r_ui=6.0, est=6.6, details={'actual_k': 10, 'was_impossible': False}),\n",
       " Prediction(uid='Amazon Customer', iid='Samsung Galaxy S7 Factory Unlocked Phone', r_ui=10.0, est=8.2, details={'actual_k': 10, 'was_impossible': False}),\n",
       " Prediction(uid='e-bit', iid='Smartphone LG G3 D855', r_ui=10.0, est=8.8, details={'actual_k': 10, 'was_impossible': False}),\n",
       " Prediction(uid='Jose', iid='Samsung Galaxy Ace 2, 96.5 mm (3.8 \"), 4', r_ui=10.0, est=8.295291694816646, details={'actual_k': 6, 'was_impossible': False}),\n",
       " Prediction(uid='Amazon Customer', iid='Lenovo Vibe K5 (Grey, VoLTE update)', r_ui=8.0, est=6.6, details={'actual_k': 10, 'was_impossible': False}),\n",
       " Prediction(uid='Ð\\x94Ð¼Ð¸Ñ\\x82Ñ\\x80Ð¸Ð¹', iid='Samsung S5660 Galaxy Gio', r_ui=10.0, est=8.435668174635552, details={'actual_k': 10, 'was_impossible': False}),\n",
       " Prediction(uid='Arun', iid='Motorola Moto G (2nd generation) Unlocke', r_ui=6.0, est=5.685193364199628, details={'actual_k': 10, 'was_impossible': False}),\n",
       " Prediction(uid='Amazon Customer', iid='OnePlus 3 (Graphite, 64 GB)', r_ui=10.0, est=7.6, details={'actual_k': 10, 'was_impossible': False}),\n",
       " Prediction(uid='Anonyme', iid='SAMSUNG Player Star 2', r_ui=8.0, est=7.841875200353728, details={'actual_k': 10, 'was_impossible': False}),\n",
       " Prediction(uid='Frank', iid='Sony Xperia Z1 Compact Smartphone (4,3 Z', r_ui=10.0, est=5.998387588004159, details={'actual_k': 10, 'was_impossible': False}),\n",
       " Prediction(uid='Cliente Amazon', iid='Huawei P9 Lite Smartphone, LTE, Display ', r_ui=8.0, est=8.8, details={'actual_k': 10, 'was_impossible': False}),\n",
       " Prediction(uid='Nicola', iid='Samsung Galaxy Ace S5830i Smartphone (8,', r_ui=2.0, est=8.74361000557232, details={'actual_k': 8, 'was_impossible': False}),\n",
       " Prediction(uid='e-bit', iid='Smartphone LG L90 D410', r_ui=10.0, est=9.0, details={'actual_k': 10, 'was_impossible': False}),\n",
       " Prediction(uid='Amazon Customer', iid='Mi 4i (White, 16GB)', r_ui=10.0, est=6.6, details={'actual_k': 10, 'was_impossible': False}),\n",
       " Prediction(uid='Amazon Customer', iid='Samsung Galaxy Express GoPhone (AT&T)', r_ui=10.0, est=6.178243490933295, details={'actual_k': 2, 'was_impossible': False}),\n",
       " Prediction(uid='Matthew', iid=\"Casio G'zOne Ravine C751 Rugged Cell Pho\", r_ui=10.0, est=4.204594519373214, details={'actual_k': 7, 'was_impossible': False}),\n",
       " Prediction(uid='miguel', iid='Cubot X15 - Smartphone libre Android (pa', r_ui=10.0, est=9.18401627450142, details={'actual_k': 10, 'was_impossible': False}),\n",
       " Prediction(uid='emanetcan', iid='Nokia 5800 XpressMusic Cep Telefonu', r_ui=8.0, est=8.0, details={'actual_k': 10, 'was_impossible': False}),\n",
       " Prediction(uid='Cliente Amazon', iid='LG G3 - Smartphone libre Android (pantal', r_ui=8.0, est=7.6, details={'actual_k': 10, 'was_impossible': False}),\n",
       " Prediction(uid='Andrew', iid='Samsung B2100 Solid Extreme Sim Free Mob', r_ui=10.0, est=9.080107188196635, details={'actual_k': 4, 'was_impossible': False}),\n",
       " Prediction(uid='Daniele', iid='Samsung G920 Galaxy S6 Smartphone, 32 GB', r_ui=8.0, est=7.463776242972419, details={'actual_k': 10, 'was_impossible': False}),\n",
       " Prediction(uid='Amazon Customer', iid='Asus ZenFone 2 Unlocked Cellphone , 64GB', r_ui=4.0, est=6.6, details={'actual_k': 10, 'was_impossible': False}),\n",
       " Prediction(uid='stefano', iid='Huawei P8 Lite Smartphone, Display 5\" IP', r_ui=6.0, est=8.97443708312624, details={'actual_k': 10, 'was_impossible': False}),\n",
       " Prediction(uid='Cliente Amazon', iid='Lenovo Motorola Moto G 4G (2 Generazione', r_ui=2.0, est=8.8, details={'actual_k': 10, 'was_impossible': False}),\n",
       " Prediction(uid='Cliente Amazon', iid='Samsung G360 Galaxy Core Prime Smartphon', r_ui=10.0, est=8.364842967858113, details={'actual_k': 10, 'was_impossible': False}),\n",
       " Prediction(uid='Paolo', iid='Nokia 301.2 FACTORY UNLOCKED QUADBAND 3G', r_ui=10.0, est=9.87767112331157, details={'actual_k': 5, 'was_impossible': False}),\n",
       " Prediction(uid='Amazon Customer', iid='Samsung Galaxy J5 SM-J500F (Gold, 8GB)', r_ui=6.0, est=7.2, details={'actual_k': 10, 'was_impossible': False}),\n",
       " ...]"
      ]
     },
     "execution_count": 65,
     "metadata": {},
     "output_type": "execute_result"
    }
   ],
   "source": [
    "test_pred"
   ]
  },
  {
   "cell_type": "code",
   "execution_count": 66,
   "metadata": {},
   "outputs": [
    {
     "name": "stdout",
     "output_type": "stream",
     "text": [
      "user: Roy        item: Huawei P8 grijs / 16 GB r_ui = 0.00   est = 8.39   {'actual_k': 10, 'was_impossible': False}\n"
     ]
    }
   ],
   "source": [
    "uid = 'Roy'  \n",
    "iid = 'Huawei P8 grijs / 16 GB'  \n",
    "\n",
    "# predicting for a specific user and item\n",
    "pred = algo_i.predict(uid, iid, r_ui=0.0, verbose=True)"
   ]
  },
  {
   "cell_type": "code",
   "execution_count": 67,
   "metadata": {},
   "outputs": [
    {
     "data": {
      "text/html": [
       "<div>\n",
       "<style scoped>\n",
       "    .dataframe tbody tr th:only-of-type {\n",
       "        vertical-align: middle;\n",
       "    }\n",
       "\n",
       "    .dataframe tbody tr th {\n",
       "        vertical-align: top;\n",
       "    }\n",
       "\n",
       "    .dataframe thead th {\n",
       "        text-align: right;\n",
       "    }\n",
       "</style>\n",
       "<table border=\"1\" class=\"dataframe\">\n",
       "  <thead>\n",
       "    <tr style=\"text-align: right;\">\n",
       "      <th></th>\n",
       "      <th>iid</th>\n",
       "      <th>r_ui</th>\n",
       "      <th>est</th>\n",
       "    </tr>\n",
       "  </thead>\n",
       "  <tbody>\n",
       "    <tr>\n",
       "      <th>165</th>\n",
       "      <td>Samsung Galaxy A3 SM-A300FU SIM-Free Sma</td>\n",
       "      <td>10.0</td>\n",
       "      <td>7.098419</td>\n",
       "    </tr>\n",
       "    <tr>\n",
       "      <th>607</th>\n",
       "      <td>Nokia Lumia 520 GSM Unlock 3G Phone, 4-I</td>\n",
       "      <td>10.0</td>\n",
       "      <td>8.005251</td>\n",
       "    </tr>\n",
       "    <tr>\n",
       "      <th>15506</th>\n",
       "      <td>Sony Xperia Z C6602 Unlocked Phone with</td>\n",
       "      <td>10.0</td>\n",
       "      <td>7.716463</td>\n",
       "    </tr>\n",
       "    <tr>\n",
       "      <th>21649</th>\n",
       "      <td>Sim Free Samsung Galaxy S7 Edge Mobile P</td>\n",
       "      <td>10.0</td>\n",
       "      <td>9.835252</td>\n",
       "    </tr>\n",
       "    <tr>\n",
       "      <th>21667</th>\n",
       "      <td>Honor 6X (Gold, 32GB)</td>\n",
       "      <td>10.0</td>\n",
       "      <td>8.096707</td>\n",
       "    </tr>\n",
       "    <tr>\n",
       "      <th>25268</th>\n",
       "      <td>Motorola EM326g Prepaid Phone (Net10)</td>\n",
       "      <td>10.0</td>\n",
       "      <td>7.896707</td>\n",
       "    </tr>\n",
       "    <tr>\n",
       "      <th>803</th>\n",
       "      <td>Motorola Droid 3 Verizon Xt862 Verizon C</td>\n",
       "      <td>8.0</td>\n",
       "      <td>4.958858</td>\n",
       "    </tr>\n",
       "    <tr>\n",
       "      <th>3245</th>\n",
       "      <td>Sony Xperia M2 - Smartphone libre Androi</td>\n",
       "      <td>8.0</td>\n",
       "      <td>8.779849</td>\n",
       "    </tr>\n",
       "    <tr>\n",
       "      <th>11374</th>\n",
       "      <td>Samsung Galaxy S7 zwart / 32 GB</td>\n",
       "      <td>8.0</td>\n",
       "      <td>7.851000</td>\n",
       "    </tr>\n",
       "    <tr>\n",
       "      <th>22867</th>\n",
       "      <td>Sony Xperia XZ zwart / 32 GB</td>\n",
       "      <td>8.0</td>\n",
       "      <td>9.130649</td>\n",
       "    </tr>\n",
       "  </tbody>\n",
       "</table>\n",
       "</div>"
      ],
      "text/plain": [
       "                                            iid  r_ui       est\n",
       "165    Samsung Galaxy A3 SM-A300FU SIM-Free Sma  10.0  7.098419\n",
       "607    Nokia Lumia 520 GSM Unlock 3G Phone, 4-I  10.0  8.005251\n",
       "15506  Sony Xperia Z C6602 Unlocked Phone with   10.0  7.716463\n",
       "21649  Sim Free Samsung Galaxy S7 Edge Mobile P  10.0  9.835252\n",
       "21667                     Honor 6X (Gold, 32GB)  10.0  8.096707\n",
       "25268     Motorola EM326g Prepaid Phone (Net10)  10.0  7.896707\n",
       "803    Motorola Droid 3 Verizon Xt862 Verizon C   8.0  4.958858\n",
       "3245   Sony Xperia M2 - Smartphone libre Androi   8.0  8.779849\n",
       "11374           Samsung Galaxy S7 zwart / 32 GB   8.0  7.851000\n",
       "22867              Sony Xperia XZ zwart / 32 GB   8.0  9.130649"
      ]
     },
     "execution_count": 67,
     "metadata": {},
     "output_type": "execute_result"
    }
   ],
   "source": [
    "pred = pd.DataFrame(test_pred)\n",
    "pred[pred['uid'] == 'Roy'][['iid', 'r_ui','est']].sort_values(by = 'r_ui',ascending = False).head(10)"
   ]
  },
  {
   "cell_type": "markdown",
   "metadata": {},
   "source": [
    "#### 9. Try cross validation techniques to get better results."
   ]
  },
  {
   "cell_type": "code",
   "execution_count": 68,
   "metadata": {},
   "outputs": [
    {
     "name": "stdout",
     "output_type": "stream",
     "text": [
      "2.605960072226137\n",
      "{'n_epochs': 15, 'lr_all': 0.005, 'reg_all': 0.2}\n"
     ]
    }
   ],
   "source": [
    "# Let us use Gridsearch CV\n",
    "\n",
    "param_grid = {'n_epochs': [15, 20], 'lr_all': [0.002, 0.005],\n",
    "              'reg_all': [0.1, 0.2]}\n",
    "\n",
    "gs = GridSearchCV(SVD, param_grid, measures=['rmse', 'mae'], cv = 5)\n",
    "\n",
    "gs.fit(data)\n",
    "\n",
    "# best RMSE score\n",
    "print(gs.best_score['rmse'])\n",
    "\n",
    "# combination of parameters that gave the best RMSE score\n",
    "print(gs.best_params['rmse'])"
   ]
  },
  {
   "cell_type": "markdown",
   "metadata": {},
   "source": [
    "Earlier we have got result around 2.7 now we it has improved to 2.6"
   ]
  },
  {
   "cell_type": "markdown",
   "metadata": {},
   "source": [
    "#### 10. In what business scenario you should use popularity based Recommendation Systems ?"
   ]
  },
  {
   "cell_type": "markdown",
   "metadata": {},
   "source": [
    "Whenever we do not have any information about user, we need to use this Recommendation System.\n",
    "\n",
    "eg. For any online shopping if the user has not signed up or signed in or user is using incognito mode that time we can go for Popularity based RS. "
   ]
  },
  {
   "cell_type": "markdown",
   "metadata": {},
   "source": [
    "#### 11. In what business scenario you should use CF based Recommendation Systems ?"
   ]
  },
  {
   "cell_type": "markdown",
   "metadata": {},
   "source": [
    "In collaborative filtering we have two types: User-user CF and Item-item CF.\n",
    "\n",
    "We find similarity between users/items and predict their behaviour. \n",
    "\n",
    "We can recommend movies, books, purchasing items, news highlights, discount offers etc.\n",
    "\n",
    "In short, we can use collaborative filtering whenever we need to recommend products when we know user/product details."
   ]
  },
  {
   "cell_type": "markdown",
   "metadata": {},
   "source": [
    "#### 12. What other possible methods can you think of which can further improve the recommendation for different users ?"
   ]
  },
  {
   "cell_type": "markdown",
   "metadata": {},
   "source": [
    "A single recommendation system might not help because there are a lot of products which gives number of recommendations, also in some cases it gives unrelated recommendations. So it is necessary to use hybrid model.\n",
    "\n",
    "For users who has not given much reviews, we dont have much information about them in that case we can hybrid that with popularity RS.\n",
    "\n",
    "Most of the customers has not provided their names, they have used generalised names (eg. Amazon Customer) due to which we are not getting accurate results because model thinks that its a single customer but in reality they can be different as number of reveiws are more than 50k."
   ]
  }
 ],
 "metadata": {
  "kernelspec": {
   "display_name": "Python 3",
   "language": "python",
   "name": "python3"
  },
  "language_info": {
   "codemirror_mode": {
    "name": "ipython",
    "version": 3
   },
   "file_extension": ".py",
   "mimetype": "text/x-python",
   "name": "python",
   "nbconvert_exporter": "python",
   "pygments_lexer": "ipython3",
   "version": "3.8.5"
  }
 },
 "nbformat": 4,
 "nbformat_minor": 4
}
